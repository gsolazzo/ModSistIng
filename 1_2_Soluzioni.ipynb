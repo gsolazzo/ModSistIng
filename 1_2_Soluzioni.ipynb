{
  "nbformat": 4,
  "nbformat_minor": 0,
  "metadata": {
    "colab": {
      "provenance": [],
      "authorship_tag": "ABX9TyMJ8UnbZIjFps47faAfwMEn",
      "include_colab_link": true
    },
    "kernelspec": {
      "name": "python3",
      "display_name": "Python 3"
    },
    "language_info": {
      "name": "python"
    }
  },
  "cells": [
    {
      "cell_type": "markdown",
      "metadata": {
        "id": "view-in-github",
        "colab_type": "text"
      },
      "source": [
        "<a href=\"https://colab.research.google.com/github/gianlukas/modellazioneSistIng/blob/main/1_2_Soluzioni.ipynb\" target=\"_parent\"><img src=\"https://colab.research.google.com/assets/colab-badge.svg\" alt=\"Open In Colab\"/></a>"
      ]
    },
    {
      "cell_type": "markdown",
      "source": [
        "Soluzione 1"
      ],
      "metadata": {
        "id": "RyK2tj_3napy"
      }
    },
    {
      "cell_type": "code",
      "execution_count": null,
      "metadata": {
        "colab": {
          "base_uri": "https://localhost:8080/"
        },
        "id": "AE_s6U1OnU9g",
        "outputId": "74f9587e-ec6b-497b-caa8-d65ba1dd17f5"
      },
      "outputs": [
        {
          "output_type": "execute_result",
          "data": {
            "text/plain": [
              "[{'nome': 'Numa', 'cognome': 'Pompilio'},\n",
              " {'nome': 'Tullo', 'cognome': 'Ostilio'},\n",
              " {'nome': 'Anco', 'cognome': 'Marzio'}]"
            ]
          },
          "metadata": {},
          "execution_count": 1
        }
      ],
      "source": [
        "import numpy as np\n",
        "\n",
        "nomi = ('Numa','Tullo','Anco')\n",
        "cognomi = ('Pompilio','Ostilio','Marzio')\n",
        "\n",
        "dizionario = []\n",
        "for nome, cognome in zip(nomi,cognomi): dizionario.append({'nome': nome, 'cognome': cognome})\n",
        "\n",
        "dizionario"
      ]
    },
    {
      "cell_type": "code",
      "source": [
        "# Soluzione alternativa\n",
        "\n",
        "dictionary = [{'nome': nome, 'cognome': cognome} for nome, cognome in zip(nomi, cognomi)]\n",
        "dictionary"
      ],
      "metadata": {
        "colab": {
          "base_uri": "https://localhost:8080/"
        },
        "id": "FwFSf09Dn1iH",
        "outputId": "523f325d-2fd9-44fb-ea16-97fb6cbc8f38"
      },
      "execution_count": null,
      "outputs": [
        {
          "output_type": "execute_result",
          "data": {
            "text/plain": [
              "[{'nome': 'Numa', 'cognome': 'Pompilio'},\n",
              " {'nome': 'Tullo', 'cognome': 'Ostilio'},\n",
              " {'nome': 'Anco', 'cognome': 'Marzio'}]"
            ]
          },
          "metadata": {},
          "execution_count": 3
        }
      ]
    },
    {
      "cell_type": "markdown",
      "source": [
        "### Soluzione 2"
      ],
      "metadata": {
        "id": "McUWaSFwn8n1"
      }
    },
    {
      "cell_type": "code",
      "source": [
        "d = {'nome':'Pinco','cognome':'Pallino'}\n",
        "d['matricola'] = 258115\n",
        "d['esami'] = [{'nome':'Bioinformatica','voto': 30},\n",
        "{'nome':'Analisi','voto': 18}]\n",
        "\n",
        "d\n"
      ],
      "metadata": {
        "colab": {
          "base_uri": "https://localhost:8080/"
        },
        "id": "cdXRBj6PobBM",
        "outputId": "13c3e6ed-f537-426e-d94e-f5c0e38bb449"
      },
      "execution_count": null,
      "outputs": [
        {
          "output_type": "execute_result",
          "data": {
            "text/plain": [
              "{'nome': 'Pinco',\n",
              " 'cognome': 'Pallino',\n",
              " 'matricola': 258115,\n",
              " 'esami': [{'nome': 'Bioinformatica', 'voto': 30},\n",
              "  {'nome': 'Analisi', 'voto': 18}]}"
            ]
          },
          "metadata": {},
          "execution_count": 4
        }
      ]
    },
    {
      "cell_type": "code",
      "source": [
        "# Una possibile alternativa:\n",
        "d['esami'] = {'Bioinformatica': 30, 'Analisi': 18}\n",
        "d"
      ],
      "metadata": {
        "colab": {
          "base_uri": "https://localhost:8080/"
        },
        "id": "WIcBJv3uokAr",
        "outputId": "edc50027-c1eb-4f2b-8608-4760ab85b126"
      },
      "execution_count": null,
      "outputs": [
        {
          "output_type": "execute_result",
          "data": {
            "text/plain": [
              "{'nome': 'Pinco',\n",
              " 'cognome': 'Pallino',\n",
              " 'matricola': 258115,\n",
              " 'esami': {'Bioinformatica': 30, 'Analisi': 18}}"
            ]
          },
          "metadata": {},
          "execution_count": 5
        }
      ]
    },
    {
      "cell_type": "markdown",
      "source": [
        "### Soluzione 3\n",
        "\n"
      ],
      "metadata": {
        "id": "n-ISm3aHoqKJ"
      }
    },
    {
      "cell_type": "code",
      "source": [
        "n =\t0\n",
        "for\ti in range(0,500):\n",
        "  n += i\n",
        "n"
      ],
      "metadata": {
        "colab": {
          "base_uri": "https://localhost:8080/"
        },
        "id": "WrxeQzrlowe0",
        "outputId": "f560f509-c832-45cd-b345-049e2152a178"
      },
      "execution_count": null,
      "outputs": [
        {
          "output_type": "execute_result",
          "data": {
            "text/plain": [
              "124750"
            ]
          },
          "metadata": {},
          "execution_count": 6
        }
      ]
    },
    {
      "cell_type": "code",
      "source": [
        "# Possibili alternative:\n",
        "sum(range(0,500))"
      ],
      "metadata": {
        "colab": {
          "base_uri": "https://localhost:8080/"
        },
        "id": "Pj7loT8lo44U",
        "outputId": "53d66230-342a-404d-fa1a-c5ef54ef32b7"
      },
      "execution_count": null,
      "outputs": [
        {
          "output_type": "execute_result",
          "data": {
            "text/plain": [
              "124750"
            ]
          },
          "metadata": {},
          "execution_count": 7
        }
      ]
    },
    {
      "cell_type": "code",
      "source": [
        "(499*500)/2 # Gauss!"
      ],
      "metadata": {
        "colab": {
          "base_uri": "https://localhost:8080/"
        },
        "id": "V4xKGY7MpAhW",
        "outputId": "d74dea4b-28c6-46b2-ec58-62686c5fa1d8"
      },
      "execution_count": null,
      "outputs": [
        {
          "output_type": "execute_result",
          "data": {
            "text/plain": [
              "124750.0"
            ]
          },
          "metadata": {},
          "execution_count": 8
        }
      ]
    },
    {
      "cell_type": "markdown",
      "source": [
        "### Soluzione 4"
      ],
      "metadata": {
        "id": "fZxDnX1MphoR"
      }
    },
    {
      "cell_type": "code",
      "source": [
        "v1 = (1,2,3,4,5)\n",
        "v2 = (6,7,8,9,10)\n",
        "mat = []\n",
        "for i, x1 in enumerate(v1):\n",
        "  mat.append([])\n",
        "  for x2 in v2:\n",
        "    mat[i].append(x1*x2)\n",
        "\n",
        "for row in mat:\n",
        "  print(row)\n"
      ],
      "metadata": {
        "colab": {
          "base_uri": "https://localhost:8080/"
        },
        "id": "_Sv8SXp_pluk",
        "outputId": "c52b3dff-a02b-4036-c3ec-5e3740132101"
      },
      "execution_count": null,
      "outputs": [
        {
          "output_type": "stream",
          "name": "stdout",
          "text": [
            "[6, 7, 8, 9, 10]\n",
            "[12, 14, 16, 18, 20]\n",
            "[18, 21, 24, 27, 30]\n",
            "[24, 28, 32, 36, 40]\n",
            "[30, 35, 40, 45, 50]\n"
          ]
        }
      ]
    },
    {
      "cell_type": "markdown",
      "source": [
        "### Soluzione 5"
      ],
      "metadata": {
        "id": "vn6TuTHrqDqN"
      }
    },
    {
      "cell_type": "code",
      "source": [
        "def square(val, n):\n",
        "  mat = []\n",
        "  for i in range(0,n):\n",
        "    row = []\n",
        "    for j in range(0,n):\n",
        "      row.append(val)\n",
        "\n",
        "    mat.append(row)\n",
        "\n",
        "  return mat\n"
      ],
      "metadata": {
        "id": "VCh7ZmEPqFld"
      },
      "execution_count": null,
      "outputs": []
    },
    {
      "cell_type": "markdown",
      "source": [
        "### Soluzione 6"
      ],
      "metadata": {
        "id": "80z5OWXnq7xy"
      }
    },
    {
      "cell_type": "code",
      "source": [
        "def eratostene(n):\n",
        "    setaccio = list(range(2, n + 1))\n",
        "    primi = []\n",
        "    while setaccio:  # finche' ci sono numeri nel setaccio\n",
        "        primi.append(setaccio[0])\n",
        "        setaccio = list(filter(lambda x: x % primi[-1], setaccio))\n",
        "    return primi\n",
        "\n",
        "print(eratostene(6))\n"
      ],
      "metadata": {
        "colab": {
          "base_uri": "https://localhost:8080/"
        },
        "id": "3eWmSUtwrAlY",
        "outputId": "c8bb2829-1caa-4b42-a958-9c1056ef4326"
      },
      "execution_count": null,
      "outputs": [
        {
          "output_type": "stream",
          "name": "stdout",
          "text": [
            "[2, 3, 5]\n"
          ]
        }
      ]
    },
    {
      "cell_type": "markdown",
      "source": [
        "### Soluzione 7"
      ],
      "metadata": {
        "id": "HACEaAbutCjk"
      }
    },
    {
      "cell_type": "code",
      "source": [
        "def SOMMA_PARI(n):\n",
        "  if type(n)==int or type(n)==float:\n",
        "    somma=0\n",
        "  if n>0:\n",
        "    for i in range(0,2*(n+1), 2):\n",
        "      somma = somma+i\n",
        "  return somma\n",
        "\n",
        "SOMMA_PARI(10)"
      ],
      "metadata": {
        "colab": {
          "base_uri": "https://localhost:8080/"
        },
        "id": "l9rbUqZbskB5",
        "outputId": "2ac05738-f6ae-47f1-9eb1-9b8060d5e60b"
      },
      "execution_count": null,
      "outputs": [
        {
          "output_type": "execute_result",
          "data": {
            "text/plain": [
              "110"
            ]
          },
          "metadata": {},
          "execution_count": 3
        }
      ]
    },
    {
      "cell_type": "code",
      "source": [
        "def SOMMA_DISPARI(n):\n",
        "  if type(n)==int or type(n)==float:\n",
        "    somma=0\n",
        "    i=0\n",
        "  if n>0:\n",
        "    while (i<n):\n",
        "      somma = somma +(i*2)+1\n",
        "      i=i+1\n",
        "  return somma\n",
        "\n",
        "SOMMA_DISPARI(15)"
      ],
      "metadata": {
        "colab": {
          "base_uri": "https://localhost:8080/"
        },
        "id": "-F2bAeK_tSwU",
        "outputId": "ab94fd71-bea6-4a78-c961-a898774fe550"
      },
      "execution_count": null,
      "outputs": [
        {
          "output_type": "execute_result",
          "data": {
            "text/plain": [
              "225"
            ]
          },
          "metadata": {},
          "execution_count": 4
        }
      ]
    },
    {
      "cell_type": "code",
      "source": [
        "def SERIE_GEOMETRICA(x,n):\n",
        "  if n==0:\n",
        "    return 1\n",
        "  else:\n",
        "    return x**n+SERIE_GEOMETRICA(x, n-1)\n",
        "\n",
        "SERIE_GEOMETRICA(2,10)"
      ],
      "metadata": {
        "colab": {
          "base_uri": "https://localhost:8080/"
        },
        "id": "GCVW4qottjlN",
        "outputId": "ffa1e61b-baa7-437d-88a4-3ca0a7d8cabb"
      },
      "execution_count": null,
      "outputs": [
        {
          "output_type": "execute_result",
          "data": {
            "text/plain": [
              "2047"
            ]
          },
          "metadata": {},
          "execution_count": 8
        }
      ]
    }
  ]
}