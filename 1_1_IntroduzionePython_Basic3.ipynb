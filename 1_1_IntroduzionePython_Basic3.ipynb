{
  "nbformat": 4,
  "nbformat_minor": 0,
  "metadata": {
    "colab": {
      "provenance": [],
      "authorship_tag": "ABX9TyNykI+p93LiGYaE4p0aznvC",
      "include_colab_link": true
    },
    "kernelspec": {
      "name": "python3",
      "display_name": "Python 3"
    },
    "language_info": {
      "name": "python"
    }
  },
  "cells": [
    {
      "cell_type": "markdown",
      "metadata": {
        "id": "view-in-github",
        "colab_type": "text"
      },
      "source": [
        "<a href=\"https://colab.research.google.com/github/gianlukas/modellazioneSistIng/blob/main/1_1_IntroduzionePython_Basic3.ipynb\" target=\"_parent\"><img src=\"https://colab.research.google.com/assets/colab-badge.svg\" alt=\"Open In Colab\"/></a>"
      ]
    },
    {
      "cell_type": "markdown",
      "metadata": {
        "id": "HUHCdM5KzhTm"
      },
      "source": [
        "# Corso di Modellazione dei Sistemi Ingegneristici\n",
        "\n",
        "prof. Gianluca Solazzo\n",
        "\n",
        "email: gianluca.solazzo@unisalento.it"
      ]
    },
    {
      "cell_type": "markdown",
      "source": [
        "# Introduzione a Python (3)\n",
        "\n",
        "In Python, per definire una funzione usiamo la seguente sintassi:\n",
        "* iniziamo con **def**, seguito dal nome della funzione,\n",
        "* eventuali variabili di input tra parentesi\n",
        "* due punti finali.\n",
        "\n",
        "Il codice rientrato dopo i due punti è ciò che definisce le azioni della funzione."
      ],
      "metadata": {
        "id": "HmLq0u6xf5Q4"
      }
    },
    {
      "cell_type": "code",
      "execution_count": null,
      "metadata": {
        "colab": {
          "base_uri": "https://localhost:8080/"
        },
        "id": "OKlBqc0if3a4",
        "outputId": "83c6dcea-bc0a-4358-a30f-6c85e0db84bf"
      },
      "outputs": [
        {
          "output_type": "execute_result",
          "data": {
            "text/plain": [
              "35.937"
            ]
          },
          "metadata": {},
          "execution_count": 1
        }
      ],
      "source": [
        "# definizione di funzione\n",
        "def miaFunzione(x):\n",
        "  return(x**3 + 3*x**2 + 3*x + 1)\n",
        "\n",
        "# eseguiamo la funzione\n",
        "miaFunzione(2.3)"
      ]
    },
    {
      "cell_type": "markdown",
      "source": [
        "Ora definiamo una funzione per il fattoriale. Questa funzione sarà naturalmente ricorsiva nel senso che richiamerà l'esecuzione di se stessa!"
      ],
      "metadata": {
        "id": "IfZcznZDhXIb"
      }
    },
    {
      "cell_type": "code",
      "source": [
        "def Fact(n):\n",
        "  if n==0:\n",
        "    return(1)\n",
        "  else:\n",
        "    return( n*Fact(n-1) )\n",
        "# Note: we are calling the function recursively.\n",
        "\n",
        "FactList = [Fact(n) for n in range(0,10)]\n",
        "FactList"
      ],
      "metadata": {
        "colab": {
          "base_uri": "https://localhost:8080/"
        },
        "id": "ALdWA8cOhPy4",
        "outputId": "1ca515bf-624a-4949-bc74-515493cf2b60"
      },
      "execution_count": null,
      "outputs": [
        {
          "output_type": "execute_result",
          "data": {
            "text/plain": [
              "[1, 1, 2, 6, 24, 120, 720, 5040, 40320, 362880]"
            ]
          },
          "metadata": {},
          "execution_count": 3
        }
      ]
    },
    {
      "cell_type": "markdown",
      "source": [
        "### Esempio\n",
        "\n",
        "Data la successione:\n",
        "\n",
        "![image.png](data:image/png;base64,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)\n",
        "\n",
        "definiamola come una funzione e creiamo un ciclo per trovare i primi 5 termini  a partire da un qualsiasi numero reale compreso tra 0 e 1."
      ],
      "metadata": {
        "id": "6hcp38LYjAwI"
      }
    },
    {
      "cell_type": "code",
      "source": [
        "# Define the function\n",
        "def MySeq(xn):\n",
        "  if xn <= 0.5:\n",
        "    return(2*xn)\n",
        "  else:\n",
        "    return(2*xn-1)\n",
        "# Now build a sequence with this function\n",
        "x = [0.125] # arbitrary starting point\n",
        "for n in range(0,5): # Let's only build the first 5 terms\n",
        "  x.append(MySeq(x[-1]))\n",
        "print(x)"
      ],
      "metadata": {
        "colab": {
          "base_uri": "https://localhost:8080/"
        },
        "id": "nj-0RmqHjHkk",
        "outputId": "691e2af9-3d39-48a4-99c6-b0edb0bb27eb"
      },
      "execution_count": null,
      "outputs": [
        {
          "output_type": "stream",
          "name": "stdout",
          "text": [
            "[0.125, 0.25, 0.5, 1.0, 1.0, 1.0]\n"
          ]
        }
      ]
    },
    {
      "cell_type": "markdown",
      "source": [
        "### Esercizio\n",
        "\n",
        "Babylonian Algorithm for calculating square roots. If you want the square root of S then iterate on:\n",
        "\n",
        "![image.png](data:image/png;base64,iVBORw0KGgoAAAANSUhEUgAAAakAAACQCAYAAACyLpSKAAAgAElEQVR4Ae2d/08bV97v5w+YX/xjfkBCQpb8Q6QIRfmBKFrBD6kaIUHUCKG0ETJVK4PaCNLqgXRVSHVLutr16nZBqyVdPVafovTW3btWdutW9eaB57bkCvI07q2jgLreTciaFLeQAkEOgmAy76uxPWZM/AWbGfuMeSMhj+2Zcz7ndc74Peecz/kcCfwjARIgARIgAUEJSILaRbNIgARIgARIABQpNgISIAESIAFhCVCkhK0aGkYCJEACJECRYhsgARIgARIQlgBFStiqoWEkQAIkQAIUKbYBEiABEiABYQlQpIStGhpGAiRAAiRAkWIbIAESIAESEJYARUrYqqFhJEACJEACFCm2ARIgARIgAWEJUKSErRoaRgIkQAIkQJFiGyABEiABEhCWAEVK2KqhYSRAAiRAAhQptgESIAESIAFhCVCkhK0aGkYCJEACJECRYhsgARIgARIQlgBFStiqoWEkQAIkQAIUKbYBEiABEiABYQlQpIStGhpmRQJK7DY8znrIp8dw76kVS0CbxSbwFGuT78Ahn8Lg+APExTbWEOsoUoZgZCIkoCAe/T9wtx+B3PQuxqObREIC5hBQHmHG8yrsUj2cntuIKeZkI0qqFClRaoJ2WJiAKlDXMdhUA8neDe+9dQuXhaZbgoCyjFvuVsgHQKgoUpZokTRSZALaEJ9kO4crdx6hyh9sRa6K8tumrCN6ewLe4bfgamtEnSRBkuxobD+PwdFrmI7EdO1hG2u3fof2kRC2jbA0/gDjg6cSQtXp/Qe2jEhTwDQoUgJWyoE3KTGc4UJD3zhWRIex9Q94O+shSY3oD8wfiDkC0aukPPZtI3bvb/id8zjkulb0XfkrbszMIRqNIhr9AXMzN+C/8ku0HTuFXu8dxBQFW/e86LTXoyfwk2EmKrEQrrTbIcmncOnrH3WCaFgWFU+IIlXxKqABOwQUxFe/x5ful2BXn0g7fIjufCnekfIQU5ebIUu1aBkJVv3cgHgVUCGLlDXc819Ck1yDpv4/Y2YlVx9GQXzpJq44W9Dz7x4MqMPB0ksYmzNyvlJBfMGPXodctUPNFKkKtXNmqxF4io3V6M6T59FDkBJDJqKL1AYivh7YJRn2Ti/ubXGQT6vR6n7V6r0GTYPXEY0XqncF8cincNrUYUAJ0olRzBoy1qenvI2Vqd+gSZYgn3wft9YMz0CfWdmPKVJlR84MNQLxoDs1hi+jrvEseoY8+Nz/P3FGeJFSsPH3D9Gu/vDYe+CLbGhF4mtVE1CwMfMBWlQxaPkAMxuFBEqDsYzJgYaESNUMTOKx9rGRr2lHChuOXfxPLO3VNCNtMCktipRJYJlsYQLKxip+jC5idUO3oCjqQ4foIrVxG6MttZCko+jyzXEeqnBVV8cZW7PwtKr1Xo/eQDHzP9tY8p+HLB0xdD5qN1Rl7SbcJ9UhxQZcCCxUzfwURWp3TfN9ZQkIL1IxzIy2Q5Yk2JyfIlJwuKeyOJm7UQQUrE+/h8PqA9ShtzCxpnuw2kMWiVEDuQu+qJnLb7exMvkujqk2OvoRWDQzrz0U2qBTKFIGgWQyBhEQWqR2hnsk+UV4wlwPZVCtWyCZxwgNP5+cV6pzI1jk739CpJ7zIFycthXPRVlA4II6tCjD0T+O5SoY9qNIFd8MeIWZBEQWqa0wxs7aIUk2NLi/ASXKzIYgWtrz8HXUJUXK9iYCy8U4JzzF2sQvccx9C0b69WUnpHfUaMLg5JLlh/0oUtlrmp9WioCwIhXHYqAfDnUoxdYN30Iut+NKgWO+5hLQiZTkgNN7t4i5yKeIzV5HIBwz18R06o8QdCd7fXKrB2GLe55SpNIVywMhCIgqUuvfwN1ggyQdQtPw/wP9+YRoLWU0YhXTQ43JnpT6oCKfwsBn32NV0DlJZcGHzoTbuwOdvoile1MUqTI2c2a1BwJCitQWFnzdsLEXtYcKrNZTFKwHf4sGtQ3o/uWjp3F+8Pe4+uX/xcz9ZezZK910TDu9KanhtwiuW3dyiiJlemNhBkUREFGk0r0ozkUVVZfVdrISxcRFXW9KJ1aacMlH2/Fv7g/hn75b8V6WEvHirKyKqrV7UxSparuRrF4e4URK14uiR5/VW9e+7Vdi/8DnQ2dSi9Aze1WaUCVfZdid/4GZWDEOFvs2LzMB5UcEetW4khKs3JuiSGVWK99VmoBoIrV1B6Mnk6GabJ0+LFh31KTSNVtF+W9hNfw1vH94B+dbjibWzGUKlCZeqlBdRbhiY4D6Icrj6J9YtOTcFEWqim6dqiiKUCKlW8BZdJSBqqgNFqIggafYWPkXZm58gavDF9HRqC5R0ERKgKG2J99h+Ljq8CPBqg9ZFKmCjZAnlJWASCKlHy4pIcpAWbkxMzEIKI8xP/l7dNjltFjJTh+iFeuBbyDsaUvZ8gJGZ02JHGgqe4qUqXiZeNEEBBIpZdGProQbrwzHwNdYK7owvOBgEtCFJ1J7VSVEqDCS29OwB88lenc2HB/+Dk+MTLwMaVGkygCZWRRBQBiR0jlMSEfRN/GwiELw1OogsI3V2RsIRkv4Wd++g9ETyWG2SosUlDl4z6aiZVjQHZ0iVR13U/WUQhSR0t/YHOqrnvZVVEl+QqCnu8RNCnURKsoRsy9vufRDfo0Yml7Ne7ZoX1KkRKuRg26PICKlRH1wJtaYSLD1BLB80OvlIJZ/bQJ9NefhXyrBjVz5J8Za1W0zZBwemqp4nMft2VGcSAz5yThSlhiCxjUYipRxLJmSEQSEEKk4Fv09yQgTkh1Oi4eVMaJaDl4aCjaDbhwptRetCtwh1buvGcOhcsXsy1NLm7fgPpJy5jg+gtCTinly5DEy+1cUqexc+GmlCAghUuowz5GUR1QbPGFG6qtUc6hcvtoQWSe888UGE9bmM2XYuz+roGefnt5DTPQdtWSbpkjp65HHlScggkg9nsRATWqtyxE3gpvWeeqsfAVWiQXp4briQwopK19h8JgNkr0HvogoDzjbWA68mRodqEHr2D8ts7CXIlUl91TVFEMAkdoZv5dwqG+CrudV07iKKMhyAD2J5QcSpGNvIxDd205QSuw2PM56SHIr3LeWhRKCHVd0a82zUqSKaLc81XwCyrwX7YkJXglSuxfzZe/EbGJu7KXUsIi1njjNr52DkoOCx5OXUCNJkFvew//6wytwNP0Sf575Oc8eUk+xMf8VRjrqIdlfhSeU79wKcdSPENRcwuTjst9cJRWcIlUSNl5kCIF4DA+jUUTV//kwQtPX8VHf8zux0OTn0ffRdUyHwpjXznsYy/NDYYRV+rH7ExiafmREokzDUgTWMTvaCrnpXYyrPSjlMSITI3AeO4Im1xD+3TeO6eAs5rR2O/kZPO86cUx2oLn/YwSX9tbrKj+SBfhdDsvNS1Gkyt9SmKNGIHoNrsYz6Ojo2OP/GTS6riGqXW/G63YIw/UpLyi5RPdjM+ximmUksIDP+y/hs4z5JAXxWATBwMf4w2APnOeacVSWIB9txjlXP9yeLxCMrJn8ALVfBI8RGk7u2Ktu3+HyL+w3wbJcT5EqC2ZmYhUCGcON9cMIlbBExiplpZ0HjYDeeUJCnTsouKgm64ciddDaKcubh4CCzenLqE3NickuP5bynM2vSMBqBLZDw6iv6Jxv8cQoUsUz4xVVS2AL897O1Ji9dZ40q7Y6WDDjCSz54UpFUpFqL2PaAssrKFLGNwOmaFkCMQTd2vbgdejwzVu2JDScBLISiAfhrtP2u3LBF41nPU2kDylSItUGbakwAV1QUImefWZUhhL9DN0Nb8AfLTaKgxnWHMA0lfvwttemRgsa4Q4KELKpQDVQpAoA4tcHiIDes09qxejs+gEqfHmKGg+6USdZ48exPETKnYt+iYU1PPwoUuVuI8xPXAL6xY6SNYZCxIWZ3TKKVHYu5ftUP6RtjcXqFKnytQ7mJDoBfUgmC63IFx2r3j6KlJ5GJY71EVWs4RxEkapEO2GeQhLIcM+t8JbfQgIywCiKlAEQ95VEHFGfK+3BaoVlFgaJ1CaWQn/BSH8XOjra0NzsRP/IFwjH9CshNxGd/hiX+17DKy3NaHn1Ejz/dRcxa4SP2lez4MXWIJD8AU15Ppm6m+rBvV8oUpW+F3biEkrqeqkOn7kRXAwo7v5FSnmEGU83TrquYHL+MRQoiK/cxHBLLeSm32BqRRWqTUTH38dFz7dYiauqtIWVkAdO+1G87LuPpwYUhEmQwP4IbGPJf34nbqBZN+8Bv18oUvtrpUZcnfEwdmIUs/q+hBEZGJzGPkUqhvDY62gdvI5oQnw06zS1tqHB/d94dPdjvP6rKaxpvab4A0y4zyViX0mmPrFq9vCVBAoRyBwGMecJk/cLRapQOzT/+wyRssCw9j5ESsHGzAdobf0AMxua+ugAa5PQh06h7cwb8C1o6yKeIOJ9eeeJlfHRdNCKOVSHTz/BsNsNt6n/I7g6vWCJGF/F0Hv23EyRMn4fKd4vKnOK1LMtr9yf6PeVkqpapJQIfJ1tcAdzbGWgiZS0e+O4TdwbO5cSqVq0jN6GKHtXlrux7C+/FQSH21GnxeEy7dWBluFvIP6Sv/3RBJLbMyTG6SUTvJ54vyQqiCK133ZqwPW632bJ9iYCy2KP95XYk1LwJDSCX3T6sJClE6Vi3Nnd9Ah6Aj9lkFU2fkDwb34Ebv6rih0nNrF064/obL6CGbHbQEbdHNw3+vUjRosU7xetXVGkNBIVfNWLlAXWA5YoUmogzl70Bn7MsT2yfhL6JYzNiboJmNENJY7Yw3mEg1/C09ea7OVYoDttNAVrpmemSPF+0doERUojUcHXgyFShQAvY3KgIemLbwHvEbU022EPTp3yIFxqrydR8YdwtPkV9F3+AL4//wrN6hAcRSrdWLShNCNf04nv+8BMkSpknPXul2SJNjA/ebWoedFf9zTDJtWhuWeoiLnU/c+LGtnmyplWoZZT0vcUKfUX/w5GT9gSIlUzMInHJZEs70WJJzwjBUVrCEamWV4khudmxs1tnJEVFCkL3i9J7suYdp+2xLyoGW2vHGka1751KWm/TYl5bPHDf5U43KcrcJZDZW4MrQkAz85HZTldiI8oUkJUQwWNqJxIWfF+KbWiONxXKjkDr6NIqa68XSnvPevMR1GkDLwJLJlUpUTKmvdLqVVMkSqVnIHXUaR0oeAtMh+lVr/1RIou6AbetjDdBT2nsda8X3IWp8AXFKkCgMrxtV6kqtcFPQ/J9SkMHZYLzEcp2Jq9gpahaWT1+1MeYfbTd+FKxAHsxODVW1hKRLRQQy7NInBlEK6OjjxxAvPYl+Mr64kUF/PmqMoSPzZ7MW8Osyx6v+QoTcGPKVIFEZl+wgFZzLuJh7Nfwe+/gfCqFklCZZtcD3K84HzUIwTdnRiY/DlLhcSxGBjAiyNBxJQtLPi6YZNq0eq5g+WZj9DdNYLx8HIqAoKCeORTOG0y7J1e3NvKsWgrSy67P7KeSO0uAd/vj0CmSBkbFqn67pdSWVOkSiVn3HXJOkgFUraAY1cJjhPbWJn6DZpktZAyHANfYy3NTxWf51Nh4HPtvqkKy5/Q/ZoPkYx4f6lEntzG6Jl3MJFYBR3Hor8HNkmC/ItmtF249uw1T7+H57lDkOSX4Y08SVtS7AFFqlhi1Xb+NpYDbybaWsJry7AAs9V5v5Ra+xSpUskZd12GSFkgLF0JIrUAv8uREiIZh4emkNxkWxUfH7pPd+H8C3WQpBMYmn42ZJISu40PL76P8Wi2gb7UyvwuPxYTnaIYQsPNibx2Iqrvqqwn32H4uOru3gZPuPQASxSpXVwP4NuMm7d1DHOld8x19KrzftEVsKhDilRRuEw4+SnWJt7CocRoV9Vu1bGOsOdFyJIdTb0fIbQST2y9sRr+KwbPvoGxmRWsh6/CabfB0XsNkY3URhzxNURufYpL3e4cAqXWh4L40vf49v5aMpLF1iw8rbWQJAc6fZGs0S2e3hvDabVXd/g9TK9n+VVR7sPXeSQlqqkurlZBJb3Wo8v/IKstGS1Km5y0QHc6w+4D/MacTQ8tdr+YXP8UKZMBF0w+c1i7ejc9jP+M2cCHcA8Nos/ViVddPbg48heElrTe0TZiczfwifsC2ptb0KY6Objewsi1IKKaaBWECSgRL86qAmTrgX9RFcPdf1pEdRmO/nEsZ9Eode+q1bnbCAaDef9vjvWgpqYHYzfznxcM3sZcxjzcbptS7ylSOcAI/LFWZ+rDi5Hbx1vqfjG3fihS5vItnDq3jy/MaM9n6OajznoRySZA6Z7WcfRPLBbu3eTJO3HzGNnr0X7wjEwzj/2W/kpZRzT4BTxDvXC2NaJOUsNLvQRXnxuez4OIxLI9oJhQ4seTGKjRetvir8TPJFDe+yUz772/o0jtnZU5Z+rXA9agdeyf+/rdNMfGzFRLmJPKTMC8d6uYHmqEJNlwfPg7POsSoWA9+Fs0qE+9jrdTjhaAEruPb2cXi97/iCJlXk3mS1mJ3YG39xQanL/GJ+M3MTv3A6Jzd3DDfwV9zcm5T/nYK/hd4J/mR8zfDmG4Prl8Yr9znPnKbM535b1fSi0DRapUckZd9xMCPdr0hwMu/4JRCZuWjrgilXaIaMTQ9OqzAJRFTPQfT3gY7jhvqMN/3TjtmYXeMf7Zi5/9hCL1LBOzP1GdaDzO5+G8cjO1Di4zRyUWxrU+9UFF7d3Uw+m5bbJQzcPXoTr9qPlld/zJtFCgd2W+X0otuTL/Z3QefR2++WcfO0tNk9cVQUC5D2+7Os+vtvFcHthFpFeGU4UVqbRDhK6XlMEjvQiyGcOh1JZ8699i+HQf/NFiJcqKEScyaFjvjbKEycHncGzwK6xkG8pNlUhZm8LlhmSwYvWmujgRNXF4Qj8UUocO37xluJb7frEMGBqaSSAehLvOWkPagoqU5hAhwZZ2R89kDWUO3rPqU2/K9Tz+AOOXXsel8QdFD/WpKRvak1I9GQPvJIcibS/DE1rERp4f4l0lOwBvFWyFPWg93I9AVocYPQJ1/dK/7bjMNvwWwWxenPpLSj5W933qTD1lyqgfDqHUnVtKNqGkC8t/v5RkJi+qPAFtrlztSdVexvSm+D9MgorUFqJfXsQxexvc0w9zPDkriEen4Hn7HJpbXkSH6xI80wslCZTacvYtUhlPKHY0tp1DRyJ0UwfONR9NBdy1xroE8++k5Fbth3p8uLu6kaN+dVasTaDvkPb0dyJHpBLd+SUfKticvozaxFCIBCu45yaLWv77pWTEvLCiBDKWWbR7MS++RkFQkSp/Pe5bpMpvsnVz1I+LyyfQ9cn3yLsMW3++ZHIPR/+kaaEAydZtDLS8fAT0O6ZLqM0VO7V8Bu0pJ4pUChNFak/txZiTMnqd6jq4NxFIhMHKlbx+rsjkHo7ew08+D/+SNQb8cpHj5ySwQ+AxQsNa2DprePaptlOkUjWoTjy/8MIY7qUCZOxULI8MJ5CeT0wN4TneweRaPvCZImVs8NfdpdNtnSE9j+GQFfaV3l0GvieBLAQyRiT2F0YuS+qmfUSRMg0tE85NYBux2T+hv9kBdQ3U8Nc/FJhL1K/tkFAzMAnzpEO/Ir8W7d77hefMcheU3whPYBNLob9gpL8rz9Y/6rY4H+Ny32t4paUZLa9egue/7pq8HMIEcPrF6kZGVDHBVH2SFCk9DR6LSWDzFtxHtEW2dTjrnTNVOLZnR3Ei5TxxqG9CF+VfTDy0qkQCyiPMeLpx0nUFk/OPoaixQ1duYrilFjsBrTcRHX8fFz3fYiWxa8MWVkIeOO1H8bLvPvL1/0u0yrTL9PtI2XoCWDYtJ2MTpkgZy5OpGU5AF1lEFQ5bN3wLxa+DK8os/RMnnSeKQmedk2MIj72O1sHriGZsGaTg8eQl1Eg2NLj/G4/ufozXfzWFNc0LLv4AE+5zOKrGFH3Og7BlVEoNLNuV8jK2RjgkrS1RpDQSfBWTQDqyiDp/VYuW0dv5PQENKYV+Xso6Y/eGFP1AJKJgY+YDtLZ+gJlsCxg1D89Dp9B25g3dQ9HOerRExAYL7MW0U536Nt2K0dnkBks734t7RJESt25oGZI/Ji2pDTb3u/vy3oHuBGuVJDucObaJ2Xt6PFMoAkoEvs42uIPP7neXsFMTKUlC5nDvJu6NnUv1Rsr1wGQQOf2Q+fERhJ5oXUOD0jcxGYqUiXCZ9D4JbIUxdtaeiACxM0ewzzT3eLkS9cGZEMfdP1R7TICnCUogtbFqpw8LOX6nd+Ykj6An8FNGOZSNHxD8mx+Bm/+ylOPETplkHHHfgrapUkbhBH1DkRK0YmhWDH/3dCS2c5eb3s2zUaZJpPRu8ofewkReF3mTbGCyJhBQQ1/1ojfwYw7nG/2C15cwNmeln/NcuDYQ9rSlg8pmDdid61IBPqdICVAJNGE3gTiWvr6MJlmG3flH3Epvprn7PDPfb2HB150QSTWwrdVubDPJVHfay5gcaEj+oFeL08zT7+F57lCyTKbGvjSnZVCkzOHKVEsmsI3YzH/Aaa/Bsa6rmIlVLuKDsuhHl0112JDhGPiarugl16mFLty+g9ETyaj75q7HKx+TdIT8nHvzlc+WUnKiSJVCjdeYREBBPOJDl70WTc+4BpuUZb5klR8R6K1PPoFyyC8fqar5TpkbQ2tijdyz81HWLKR+qO8FjM6atwzeLD4UKbPIMt0iCahR7a9jsOl4GTY33Ktp+jVah9Hl/yHHPMZe0+N5YhPQryWqkvmorTsYPZkc6pPPehHJ4Swicr1QpESunQNkmxILYqTlREGBUp90z5QzCoTuJrfl8Qg7QFVVxUXVrSWqivko/UNWfR5nEbGrlCIldv0cCOvS28gX3B5ejQbwP3By9E4ZNyPUOVDIL8ITts4iyAPReIwsZHq373zxIRVszV5BS9ZtLtSYlP8bg64OtDW3omPwYwQ1p5/4z5gN/BEDLic6Os4lv+//PT4PPzKvd64frragw4RWtRQpjQRfK0MgPo9A/5mCPaikcer4eidc/oXy2rr+DdyJLezVUDnfgDJVXvzG5raJh7Nfwe+/gfCqPrxWcv3U8YLzUY8QdHdm3XhTWfwSb7z4B4Ri21AWfOi0SZBbPfj7cgie7l4Mj4exqoVgit+F1+mAZO+G9545LUqzQZIc6LTwgnSKlLF3AFMrhkD8AcYHX0LnHnpQ8djPiEZuYLjlFNzBWDG5GHCurjdVjtiBBljMJLIR2MbK1G/QlIpgkumxqYqPttdSY442pjr2/Andr/kQ0cQmnc1jzIx24+LEYqJnlPYMlY+jue0t+CK7t/XUHBrMCpisK4+Fe1EqXopUupHxoKwEEhGoX4U98eSqbQ2/l1cXfNF4WU1NZMbeVPmZG57jAvwuR2pRq4zDQ1OpXnHSq7T7dBfOv1AHSTqBoelnQyapw9IfXnw/+8LyJ99h+BcX4F9U26auVyY34/LUwyxDejGEhpshSYfwnOd7w6OpV0svSm0CFCnDbwQmWJiAGoHaVYJASZBqL2N6sxIuSttYnngbDlVU2ZsqXMVCnrGOsOdFyJIdTb0fIbSiCsoWVsN/xeDZNzA2s4L18FU47TY4eq8hspEKcR5fQ+TWp7jU7c4uUGpZ44uY/fZ+KlSSlo+EnM42T/+BsdO1MGeh+E4vSm7JEURXyPrJbhRFKjsXfmomgd3bxxfTm2odw1wlNErlkY4laEPDZd32DWayYtrGEkg4MHwI99Ag+lydeNXVg4sjf0FIc3DANmJzN/CJ+wLam1vQ1tGBDtdbGLkWRFQTrUIWpUNq5V62oES8OKsOOzrexsSysQvWd3pRTRicXMrSiytUALG+p0iJVR+0RmgCCrbCHrSqPy5yO0Znyj03JjQcGpcisDMf9TK8kSdZuGg9LRmO/nEsG/nQld7aRobjwpdYNDLtLCUpx0cUqXJQZh5VRCCGmdH2xHYNtrNXcXerCn4Fqqh2Kl8UBevT7+GwOjqQa0uM9PzmcfSnHC2grOH+t99j6RmHjGJKtI216V+jQc3b0Y9AYn6smOvFPJciJWa90CqRCWzcxmiLOp9wFF2+OVTAjUNkOgfcNs0hQu+YoUeim9s8/B6m15MPOerw34unPQjv46FHWbsJ98kaSFIDLgQWLD/Mp1GjSGkk+EoCeyagYOPvH6JdDT5r78niXrznhHhitRFIO0ToekkZZVzF9FAjpIxgr2sIDb+M1/zzpQuLsoxb7lbIkg3HLv4nlqqog0+RymhAfEMCeyWwgYivB3ZJRvl2DN6rbTyvUgTSDhG2npQ7+m5LtC3oNdfzTUTHf4XOS9cRLXmob2f9l3zyfdxaM9YRY3cJyv2eIlVu4syveggoDzF1uRmyVIuWkaCldmqtnkoQqyRK9AtcOFaPFvcUVnL1ZuILmPa8jfbm0zjX0Y0Bz9Q+BEpBfMGPXodsavSKSlKmSFWSPvO2PoGNWYw51e08GtEfmOf8lPVr1FIlUGIhXGm3Q8q5aNhSxclqLEUqKxZ+SAJ7J6Cs3MDlphpI9lfhmTExYOjeTeKZB4FAIu5lIyT5FAbHH1TtAxJF6iA0ZpbRZALaXliqUJkXMNTkQjB5KxFIDzXX7zE4s5UKl2krRSqTB9+RQIkEdoRKbno3d/icElPnZSSQJqDFvZRPotd7p+rnQilS6ZrnAQnsn0Byb6x6yKfHcC8V+m3/qTIFEtAIPMXa5DtwVPkQn1Za9ZUipafBYxIgARIgAaEIUKSEqg4aQwIkQAIkoCdAkdLT4DEJkAAJkIBQBChSQlUHjSEBEiABEtAToEjpafCYBEiABEhAKAIUKaGqg8aQAAmQAAnoCVCk9DR4TAIkQAIkIBQBipRQ1UFjSIAESIAE9AQoUnoaPCYBEiABEhCKAEVKqOqgMSRAAiRAAnoCFCk9DR6TAAmQAAkIRYAiJVR10BgSIAESIAE9AYqUngaPSYAESIAEhCJAkRKqOmgMCZAACZCAngBFSk+Dx/3NO5wAAAEcSURBVCRAAiRAAkIRoEgJVR00hgRIgARIQE+AIqWnwWMSIAESIAGhCFCkhKoOGkMCJEACJKAnQJHS0+AxCZAACZCAUAQoUkJVB40hARIgARLQE6BI6WnwmARIgARIQCgCFCmhqoPGkAAJkAAJ6AlQpPQ0eEwCJEACJCAUAYqUUNVBY0iABEiABPQEKFJ6GjwmARIgARIQigBFSqjqoDEkQAIkQAJ6AhQpPQ0eVwmBGILuRkiStOvfBV80XiVlZDFI4GAQoEgVqmdlA6s/rWJDKXQivxeHwFNsrC4iOh9G6OuP0d9UkxIripQ4dURLSGBvBChSeTgpS1/hvRYHJElGXcv7mF7ZznM2vxKTwCbmxl6iSIlZObSKBAoS+P/QcDSwxwX3YwAAAABJRU5ErkJggg==)\n",
        "\n",
        "until you are within an appropriate tolerance.\n",
        "This problem will require that you build a function, write a ‘for’ loop (for the\n",
        "integers 2-20), and write a ‘while’ loop inside your ‘for’ loop to do the iterations"
      ],
      "metadata": {
        "id": "pxQJNWqUj9J-"
      }
    },
    {
      "cell_type": "code",
      "source": [
        "def babylonian_sqrt(n, tolerance=1e-6):\n",
        "    guess = n / 2  # initial guess\n",
        "    while abs(guess * guess - n) > tolerance:\n",
        "        guess = (guess + n / guess) / 2\n",
        "    return guess\n",
        "\n",
        "for i in range(2, 21):\n",
        "    sqrt_i = babylonian_sqrt(i)\n",
        "    print(f\"The square root of {i} is approximately {sqrt_i}\")\n"
      ],
      "metadata": {
        "id": "5E5dSQILkpnr"
      },
      "execution_count": null,
      "outputs": []
    },
    {
      "cell_type": "markdown",
      "source": [
        "## Lambda Functions\n",
        "\n",
        "L'idea di base di una funzione lambda è che vogliamo semplicemente dichiarare qual è la variabile e qual è la regola per valutare la funzione.\n",
        "Questo è il modo più simile al modo in cui scriviamo le funzioni matematiche."
      ],
      "metadata": {
        "id": "cOnWjgWJkzL0"
      }
    },
    {
      "cell_type": "code",
      "source": [
        "def f(x):\n",
        "  return(x**2+3)"
      ],
      "metadata": {
        "id": "YKu4N6i6lP_r"
      },
      "execution_count": null,
      "outputs": []
    },
    {
      "cell_type": "code",
      "source": [
        "f = lambda x: x**2+3\n",
        "f(1.5) # evaluate the function at x=1.5"
      ],
      "metadata": {
        "id": "KIFgjnR7lSla"
      },
      "execution_count": null,
      "outputs": []
    },
    {
      "cell_type": "markdown",
      "source": [
        "Vantaggi:\n",
        "\n",
        "* più simili alle funzioni matematiche\n",
        "* meno coding overhead\n"
      ],
      "metadata": {
        "id": "JW7U_o-zlfWS"
      }
    },
    {
      "cell_type": "code",
      "source": [
        "f = lambda x, y: x**2 + x*y + y**3\n",
        "f(2,4)"
      ],
      "metadata": {
        "colab": {
          "base_uri": "https://localhost:8080/"
        },
        "id": "jkZJrhlUlsQv",
        "outputId": "00353b56-37a8-47da-d7b6-4d5a7e975084"
      },
      "execution_count": null,
      "outputs": [
        {
          "output_type": "execute_result",
          "data": {
            "text/plain": [
              "76"
            ]
          },
          "metadata": {},
          "execution_count": 5
        }
      ]
    },
    {
      "cell_type": "markdown",
      "source": [
        "## Packages\n",
        "\n",
        "Python consente di caricare solo quei packages che potrebbero essere necessari per una determinata attività."
      ],
      "metadata": {
        "id": "j76c2wqXl53N"
      }
    },
    {
      "cell_type": "code",
      "source": [
        "import math\n",
        "x = math.cos(math.pi / 4)\n",
        "print(x)"
      ],
      "metadata": {
        "colab": {
          "base_uri": "https://localhost:8080/"
        },
        "id": "sb0AaGXAmb0z",
        "outputId": "c810ca8b-c70e-4ec2-f380-71ced4f52e49"
      },
      "execution_count": null,
      "outputs": [
        {
          "output_type": "stream",
          "name": "stdout",
          "text": [
            "0.7071067811865476\n"
          ]
        }
      ]
    },
    {
      "cell_type": "code",
      "source": [
        "import math as ma\n",
        "import numpy as np\n",
        "# use the math version of the cosine function\n",
        "x = ma.cos( ma.pi / 4)\n",
        "# use the numpy version of the cosine function\n",
        "y = np.cos( np.pi / 4)\n",
        "print(x, y)"
      ],
      "metadata": {
        "id": "RRodMT2Mmjb6",
        "outputId": "fd85ce16-1f2e-4e0e-e10d-caefb5b1b6ed",
        "colab": {
          "base_uri": "https://localhost:8080/"
        }
      },
      "execution_count": null,
      "outputs": [
        {
          "output_type": "stream",
          "name": "stdout",
          "text": [
            "0.7071067811865476 0.7071067811865476\n"
          ]
        }
      ]
    }
  ]
}