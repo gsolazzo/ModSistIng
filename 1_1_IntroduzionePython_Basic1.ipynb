{
  "nbformat": 4,
  "nbformat_minor": 0,
  "metadata": {
    "colab": {
      "provenance": [],
      "authorship_tag": "ABX9TyO6CDI2AqI0cE6jh4PfqpLC",
      "include_colab_link": true
    },
    "kernelspec": {
      "name": "python3",
      "display_name": "Python 3"
    },
    "language_info": {
      "name": "python"
    }
  },
  "cells": [
    {
      "cell_type": "markdown",
      "metadata": {
        "id": "view-in-github",
        "colab_type": "text"
      },
      "source": [
        "<a href=\"https://colab.research.google.com/github/gianlukas/modellazioneSistIng/blob/main/1_1_IntroduzionePython_Basic1.ipynb\" target=\"_parent\"><img src=\"https://colab.research.google.com/assets/colab-badge.svg\" alt=\"Open In Colab\"/></a>"
      ]
    },
    {
      "cell_type": "markdown",
      "metadata": {
        "id": "HUHCdM5KzhTm"
      },
      "source": [
        "# Corso di Modellazione dei Sistemi Ingegneristici\n",
        "\n",
        "prof. Gianluca Solazzo\n",
        "\n",
        "email: gianluca.solazzo@unisalento.it"
      ]
    },
    {
      "cell_type": "markdown",
      "source": [
        "# Introduzione a Python (1)\n",
        "\n",
        "Esploriamo le basi della programmazione in Python.\n",
        "Come sempre, non si può non iniziare dal seguente comando 🌞"
      ],
      "metadata": {
        "id": "s3j2nWfABDnk"
      }
    },
    {
      "cell_type": "code",
      "execution_count": null,
      "metadata": {
        "colab": {
          "base_uri": "https://localhost:8080/"
        },
        "id": "JaARelpNA6JT",
        "outputId": "80f3a317-488a-4c6a-b8fe-1ff7f0b6b030"
      },
      "outputs": [
        {
          "output_type": "stream",
          "name": "stdout",
          "text": [
            "Hello, world!\n"
          ]
        }
      ],
      "source": [
        "print(\"Hello, world!\")"
      ]
    },
    {
      "cell_type": "markdown",
      "source": [
        "## Variabili\n",
        "\n",
        "Proprio come le familiari variabili *x* e *y* in matematica, utilizziamo le variabili nella programmazione per manipolare facilmente i valori. L'operatore di assegnazione = assegna valori alle variabili in Python.\n",
        "\n",
        "Le variabili in Python possono contenere lettere (minuscole o maiuscole), numeri 0-9 e alcuni caratteri speciali come il carattere di sottolineatura. I nomi delle variabili dovrebbero iniziare con una lettera."
      ],
      "metadata": {
        "id": "xbrlyv1PDc5T"
      }
    },
    {
      "cell_type": "markdown",
      "metadata": {
        "id": "tUmnF77mWHW_"
      },
      "source": [
        "### Assegnazione\n",
        "\n",
        "In una dichiarazione di assegnazione, si specifica un nome seguito dal simbolo di uguale (=) e dall'espressione che si desidera assegnare a tale nome. L'operazione di assegnazione consiste nell'associare il valore dell'espressione a destra del simbolo di uguale al nome a sinistra. Da quel momento in poi, ogni volta che il nome viene utilizzato in un'espressione, il valore associato durante l'assegnazione viene utilizzato al suo posto."
      ]
    },
    {
      "cell_type": "code",
      "execution_count": null,
      "metadata": {
        "id": "vWSUcI54WHW_",
        "outputId": "4dad6b50-d782-4f5a-d25c-27dec1beef11"
      },
      "outputs": [
        {
          "data": {
            "text/plain": [
              "30"
            ]
          },
          "execution_count": 9,
          "metadata": {},
          "output_type": "execute_result"
        }
      ],
      "source": [
        "a = 10\n",
        "b = 20\n",
        "a + b"
      ]
    },
    {
      "cell_type": "code",
      "execution_count": null,
      "metadata": {
        "id": "0BHzFJKBWHW_",
        "outputId": "f8990d7a-5ecc-41d3-d05b-2a31e01acbc3"
      },
      "outputs": [
        {
          "data": {
            "text/plain": [
              "0.5"
            ]
          },
          "execution_count": 10,
          "metadata": {},
          "output_type": "execute_result"
        }
      ],
      "source": [
        "a = 1/4\n",
        "b = 2 * a\n",
        "b"
      ]
    },
    {
      "cell_type": "code",
      "source": [
        "# assign some variables\n",
        "x = 7 # integer assignment of the integer 7\n",
        "y = 7.0 # floating point assignment of the decimal number 7.0\n",
        "print(\"The variable x is \",x,\" and has type\", type(x),\". \\n\")\n",
        "print(\"The variable y is \",y,\" and has type\", type(y),\". \\n\")"
      ],
      "metadata": {
        "colab": {
          "base_uri": "https://localhost:8080/"
        },
        "id": "a5MXdI1wD35b",
        "outputId": "4c874539-d061-4e77-eb6b-8fbc5adb747a"
      },
      "execution_count": null,
      "outputs": [
        {
          "output_type": "stream",
          "name": "stdout",
          "text": [
            "The variable x is  7  and has type <class 'int'> . \n",
            "\n",
            "The variable y is  7.0  and has type <class 'float'> . \n",
            "\n"
          ]
        }
      ]
    },
    {
      "cell_type": "code",
      "source": [
        "# multiplying by a float will convert an integer to a float\n",
        "x = 7 # integer assignment of the integer 7\n",
        "print(\"Multiplying x by 1.0 gives\",1.0*x)\n",
        "print(\"The type of this value is\", type(1.0*x),\". \\n\")"
      ],
      "metadata": {
        "colab": {
          "base_uri": "https://localhost:8080/"
        },
        "id": "9T3h8Gv7EAcV",
        "outputId": "265d8269-b1e8-4637-9d63-8b5194bb3217"
      },
      "execution_count": null,
      "outputs": [
        {
          "output_type": "stream",
          "name": "stdout",
          "text": [
            "Multiplying x by 1.0 gives 7.0\n",
            "The type of this value is <class 'float'> . \n",
            "\n"
          ]
        }
      ]
    },
    {
      "cell_type": "markdown",
      "metadata": {
        "id": "cuvld8mBWHW_"
      },
      "source": [
        "I nomi devono iniziare con una lettera, ma possono contenere sia lettere che numeri. Un nome non può contenere uno spazio; invece, è comune utilizzare il carattere `_` per sostituire ogni spazio. Sta al programmatore scegliere nomi facili da interpretare.\n",
        "Attenzione a non utilizzare come nomi delle variabili le parole riservate in Python\n",
        "\n",
        "Quali sono?\n",
        "Possiamo utilizzare il pacchetto incorporato \"keyword\" per ottenere la lista delle parole chiave di Python che non possono essere usate per i nomi di variabili."
      ]
    },
    {
      "cell_type": "code",
      "execution_count": 1,
      "metadata": {
        "id": "Jp2gf97EWHXA",
        "colab": {
          "base_uri": "https://localhost:8080/"
        },
        "outputId": "aa2267a6-0ba7-4eca-9a34-98cbc5023fd6"
      },
      "outputs": [
        {
          "output_type": "stream",
          "name": "stdout",
          "text": [
            "False\n",
            "None\n",
            "True\n",
            "and\n",
            "as\n",
            "assert\n",
            "async\n",
            "await\n",
            "break\n",
            "class\n",
            "continue\n",
            "def\n",
            "del\n",
            "elif\n",
            "else\n",
            "except\n",
            "finally\n",
            "for\n",
            "from\n",
            "global\n",
            "if\n",
            "import\n",
            "in\n",
            "is\n",
            "lambda\n",
            "nonlocal\n",
            "not\n",
            "or\n",
            "pass\n",
            "raise\n",
            "return\n",
            "try\n",
            "while\n",
            "with\n",
            "yield\n"
          ]
        }
      ],
      "source": [
        "import keyword\n",
        "\n",
        "print(*keyword.kwlist, sep=\"\\n\")"
      ]
    },
    {
      "cell_type": "markdown",
      "metadata": {
        "id": "jC6rrC0MWHW-"
      },
      "source": [
        "La tabella seguente riassume i principali operatori binari utilizzati in Python.\n",
        "\n",
        "| Operazione         | Operatore |\n",
        "|--------------------|-----------|\n",
        "|addizione           | `+`       |\n",
        "|sottrazione         | `-`       |\n",
        "|moltiplicazione     | `*`       |\n",
        "|divisione (reale)   | `/`       |\n",
        "|divisione (intera; rimuove il resto)  | `//` |\n",
        "|resto (modulo)      | `%`       |\n",
        "|elevamento a potenza| `**`      |\n",
        "\n",
        "Le due operazioni che potrebbero essere meno familiari sono `%` (trova il resto di una divisione) e `//` (esegui una divisione scartando il resto). Per esempio, il resto di 3/2 è 1.  La divisione intera (scartando il resto) di 3/2 produce 1.\n",
        "\n",
        "Usando gli operatori precedenti possiamo dunque usare Python come un calcolatore:"
      ]
    },
    {
      "cell_type": "code",
      "execution_count": null,
      "metadata": {
        "id": "_vUWl0rzWHW-",
        "colab": {
          "base_uri": "https://localhost:8080/"
        },
        "outputId": "d1ad4c1c-c820-4330-cb77-2889ef9abb9d"
      },
      "outputs": [
        {
          "output_type": "stream",
          "name": "stdout",
          "text": [
            "a + b is 6\n",
            "a - b is 2\n",
            "a * b is 8\n",
            "a / b is 2.0\n",
            "a ** b is 16\n",
            "9 % 4 is 1\n",
            "9 // 4 is 2\n"
          ]
        }
      ],
      "source": [
        "a = 4\n",
        "b = 2\n",
        "\n",
        "print(\"a + b is\", a + b)\n",
        "print(\"a - b is\", a - b)\n",
        "print(\"a * b is\", a * b)\n",
        "print(\"a / b is\", a / b)\n",
        "print(\"a ** b is\", a**b)\n",
        "print(\"9 % 4 is\", 9 % 4)\n",
        "print(\"9 // 4 is\", 9 // 4)\n"
      ]
    },
    {
      "cell_type": "markdown",
      "metadata": {
        "id": "X36ahk0AWHW-"
      },
      "source": [
        "L'applicazione degli operatori aritmetici in Python dipende dalle seguenti regole di precedenza degli operatori, che sono analoghe a quelle usate in algebra.\n",
        "\n",
        "1. Le espressioni tra parentesi vengono valutate per prime.\n",
        "2. Successivamente si valutano gli elevamenti a potenza.\n",
        "3. In seguito, si valutano moltiplicazioni, divisioni e moduli.\n",
        "4. Per ultime vengono valutate somme e sottrazioni."
      ]
    },
    {
      "cell_type": "markdown",
      "metadata": {
        "id": "B4tAxfsVWHXA"
      },
      "source": [
        "## I tipi dei dati\n",
        "\n",
        "Python è un linguaggio a tipizzazione dinamica. Ciò significa che in base al valore che assegnamo a una variabile, viene impostato il tipo di dati corrispondente.\n",
        "\n",
        "Ogni valore ha un tipo e la funzione `type()` restituisce il tipo del risultato di qualsiasi espressione."
      ]
    },
    {
      "cell_type": "code",
      "execution_count": null,
      "metadata": {
        "id": "uQFF6_WjWHXA",
        "outputId": "d7fb8d82-80c0-46e7-8e22-a561f259cf71"
      },
      "outputs": [
        {
          "data": {
            "text/plain": [
              "float"
            ]
          },
          "execution_count": 11,
          "metadata": {},
          "output_type": "execute_result"
        }
      ],
      "source": [
        "type(b)"
      ]
    },
    {
      "cell_type": "markdown",
      "metadata": {
        "id": "-I8Ufr9qWHXA"
      },
      "source": [
        "Di seguito sono riportati i più comuni tipi di dati.\n",
        "\n",
        "| Data type       | Mutabile?   |\n",
        "|-----------------|------------|\n",
        "|   None          | ❌         |\n",
        "|   bytes         | ❌         |\n",
        "|   bool          | ❌         |\n",
        "|   int           | ❌         |\n",
        "|   float         | ❌         |\n",
        "|   complex       | ❌         |\n",
        "|   str           | ❌         |\n",
        "|   tuple         | ❌         |\n",
        "|   list          | ✅         |\n",
        "|   set           | ✅         |\n",
        "|   dictionary    | ✅         |\n",
        "\n",
        "Dobbiamo naturalmente porci la domanda: \"Cos'è Mutabile?\". La risposta è la seguente: se un oggetto può essere modificato dopo la sua creazione, allora è Mutabile; altrimenti, se non può essere modificato, è Immutabile."
      ]
    },
    {
      "cell_type": "markdown",
      "source": [
        "## Numeri\n",
        "\n",
        "Quando si lavora con numeri in programmazione, è importante tenere presente alcune considerazioni. Sebbene i computer siano principalmente utilizzati per eseguire calcoli numerici, in Python (come nella maggior parte degli altri linguaggi di programmazione) ci sono due tipi di numeri distinti: gli interi (`int`) e i numeri in virgola mobile (`float`).\n",
        "\n",
        "Gli interi, rappresentati dal tipo `int`, possono rappresentare solo numeri interi senza una parte frazionaria. Possono essere positivi, negativi o zero.\n",
        "\n",
        "D'altra parte, i numeri in virgola mobile, chiamati `float`, possono rappresentare sia numeri interi che numeri frazionari. Tuttavia, i `float` hanno alcune limitazioni. Possono rappresentare solo la mantissa di un numero decimale con una precisione di circa 15 o 16 cifre. Oltre questo limite, la precisione viene persa. Nonostante questa limitazione, la maggior parte delle applicazioni viene gestita senza problemi.\n",
        "\n",
        "Se si devono utilizzare numeri molto grandi o molto piccoli, è comune utilizzare la notazione scientifica, ad esempio `m * 10^n`. Solitamente, il 10 viene omesso e l'esponente viene indicato con la lettera `E`. Ad esempio, `1E9` rappresenta un miliardo e `1E-9` rappresenta un miliardesimo.\n",
        "\n",
        "Il tipo di un numero può essere facilmente riconosciuto dalla sua rappresentazione. I valori `int` non hanno un punto decimale, mentre i valori `float` hanno sempre un punto decimale."
      ],
      "metadata": {
        "id": "trgWWBAq-bst"
      }
    },
    {
      "cell_type": "markdown",
      "source": [
        "## Integer"
      ],
      "metadata": {
        "id": "n-GQuy4GL7bw"
      }
    },
    {
      "cell_type": "code",
      "execution_count": null,
      "metadata": {
        "id": "BwbO9277WHXA",
        "outputId": "876a2cf1-6ece-4413-9cbc-539391d3f752"
      },
      "outputs": [
        {
          "data": {
            "text/plain": [
              "3"
            ]
          },
          "execution_count": 12,
          "metadata": {},
          "output_type": "execute_result"
        }
      ],
      "source": [
        "3"
      ]
    },
    {
      "cell_type": "code",
      "execution_count": null,
      "metadata": {
        "id": "TM0ReQyoWHXA",
        "outputId": "8a2f2115-e39f-4ba0-b540-7f8014716dc8"
      },
      "outputs": [
        {
          "data": {
            "text/plain": [
              "3.0"
            ]
          },
          "execution_count": 13,
          "metadata": {},
          "output_type": "execute_result"
        }
      ],
      "source": [
        "3.0"
      ]
    },
    {
      "cell_type": "code",
      "source": [
        "x = 7.0\n",
        "y = x**2 # square the value in x\n",
        "print(y)"
      ],
      "metadata": {
        "colab": {
          "base_uri": "https://localhost:8080/"
        },
        "id": "Rse727DREHH0",
        "outputId": "c3eb7d2b-21cc-47ef-e38c-e476e7a6b334"
      },
      "execution_count": null,
      "outputs": [
        {
          "output_type": "stream",
          "name": "stdout",
          "text": [
            "49.0\n"
          ]
        }
      ]
    },
    {
      "cell_type": "code",
      "source": [
        "1 + x + x**2 + x**3"
      ],
      "metadata": {
        "colab": {
          "base_uri": "https://localhost:8080/"
        },
        "id": "BjnPrWw1FxpM",
        "outputId": "8907e391-47ce-4337-e9a8-0216cfed52b4"
      },
      "execution_count": null,
      "outputs": [
        {
          "output_type": "execute_result",
          "data": {
            "text/plain": [
              "400.0"
            ]
          },
          "metadata": {},
          "execution_count": 3
        }
      ]
    },
    {
      "cell_type": "code",
      "source": [
        "print ( type(x) )"
      ],
      "metadata": {
        "colab": {
          "base_uri": "https://localhost:8080/"
        },
        "id": "v0VjA3e7_OI2",
        "outputId": "278a9d63-5e9a-483c-b37d-b0e48f084f28"
      },
      "execution_count": null,
      "outputs": [
        {
          "output_type": "stream",
          "name": "stdout",
          "text": [
            "<class 'float'>\n"
          ]
        }
      ]
    },
    {
      "cell_type": "markdown",
      "source": [
        "## Float\n",
        "\n",
        "Un numero in virgola mobile (o float) è un numero reale scritto in forma decimale. Python memorizza numeri in virgola mobile e interi in modi diversi e se combiniamo numeri interi e numeri in virgola mobile utilizzando operazioni aritmetiche il risultato è sempre un numero in virgola mobile."
      ],
      "metadata": {
        "id": "7UX5XZtLKXb1"
      }
    },
    {
      "cell_type": "code",
      "execution_count": null,
      "metadata": {
        "id": "eK1nLV7cHcjf",
        "outputId": "f16a25fb-0518-41a7-9034-58871dc63c29"
      },
      "outputs": [
        {
          "data": {
            "text/plain": [
              "6.28318"
            ]
          },
          "execution_count": 8,
          "metadata": {},
          "output_type": "execute_result"
        }
      ],
      "source": [
        "2 * 3.14159"
      ]
    },
    {
      "cell_type": "markdown",
      "metadata": {
        "id": "RYp1gSdwHcjg"
      },
      "source": [
        "Usiamo la notazione scientifica per creare $0.00001$:"
      ]
    },
    {
      "cell_type": "code",
      "execution_count": null,
      "metadata": {
        "id": "Z3z8_anLHcjg",
        "outputId": "080cbf4d-0586-40f1-d890-3676e6f5a5cf"
      },
      "outputs": [
        {
          "data": {
            "text/plain": [
              "1e-05"
            ]
          },
          "execution_count": 9,
          "metadata": {},
          "output_type": "execute_result"
        }
      ],
      "source": [
        "1e-5"
      ]
    },
    {
      "cell_type": "markdown",
      "source": [
        "Approssimiamo $\\sqrt{2} \\,$:"
      ],
      "metadata": {
        "id": "DrtWEWa_LOL2"
      }
    },
    {
      "cell_type": "code",
      "execution_count": null,
      "metadata": {
        "id": "-xvJ_FneHcjf",
        "outputId": "99344c62-260d-49b9-87f5-b860ac3273e1"
      },
      "outputs": [
        {
          "data": {
            "text/plain": [
              "1.4142135623730951"
            ]
          },
          "execution_count": 7,
          "metadata": {},
          "output_type": "execute_result"
        }
      ],
      "source": [
        "2**0.5"
      ]
    },
    {
      "cell_type": "markdown",
      "metadata": {
        "id": "E6-npYWuHcjg"
      },
      "source": [
        "## Numeri complessi\n",
        "\n",
        "Usa la funzione integrata `complex()` per creare un numero complesso in Python o usa la lettera `j` per $j = \\sqrt{-1}$. La funzione integrata `complex()` accetta 2 parametri che definiscono la parte reale e immaginaria del numero complesso.\n",
        "\n",
        "Creimo il numero complesso $1 + j$:"
      ]
    },
    {
      "cell_type": "code",
      "execution_count": null,
      "metadata": {
        "id": "iyNNp2sRHcjh",
        "outputId": "f71b40e2-af42-4a95-b6b8-ccc6b26e727b"
      },
      "outputs": [
        {
          "data": {
            "text/plain": [
              "(1+1j)"
            ]
          },
          "execution_count": 12,
          "metadata": {},
          "output_type": "execute_result"
        }
      ],
      "source": [
        "complex(1,1)"
      ]
    },
    {
      "cell_type": "markdown",
      "metadata": {
        "id": "E70jLO3aHcjh"
      },
      "source": [
        "Sommiamo i numeri complessi:"
      ]
    },
    {
      "cell_type": "code",
      "execution_count": null,
      "metadata": {
        "id": "5cpYSucPHcjh",
        "outputId": "00423639-c00d-4929-be31-82ebbf94b57c"
      },
      "outputs": [
        {
          "data": {
            "text/plain": [
              "(3-1j)"
            ]
          },
          "execution_count": 13,
          "metadata": {},
          "output_type": "execute_result"
        }
      ],
      "source": [
        "(1 + 2j) + (2 - 3j)"
      ]
    },
    {
      "cell_type": "markdown",
      "metadata": {
        "id": "lLzxsMTkHcjh"
      },
      "source": [
        "Moltiplichiamo i numeri complessi:"
      ]
    },
    {
      "cell_type": "code",
      "execution_count": null,
      "metadata": {
        "id": "IFQsJwFrHcjh",
        "outputId": "37ee7ea5-a955-4837-e5b5-27cc654a24bf"
      },
      "outputs": [
        {
          "data": {
            "text/plain": [
              "(12-1j)"
            ]
          },
          "execution_count": 14,
          "metadata": {},
          "output_type": "execute_result"
        }
      ],
      "source": [
        "(2 - 1j) * (5 + 2j)"
      ]
    },
    {
      "cell_type": "markdown",
      "source": [
        "### Esercizio\n",
        "Scriviamo il codice per definire tre numeri interi positivi a, b e c. Quindi calcoliamo a^2, b^2 e c^2. Dopo aver calcolato i tre i valori, controlliamo se tali valori formano una tripla pitagorica, cioè: a^2 + b^2 = c^2."
      ],
      "metadata": {
        "id": "ZhJuz2_gFfX1"
      }
    },
    {
      "cell_type": "code",
      "source": [
        "# Define positive integers a, b, and c\n",
        "a = 3\n",
        "b = 4\n",
        "c = 5\n",
        "\n",
        "# Calculate a^2, b^2, and c^2\n",
        "a_squared = a ** 2\n",
        "b_squared = b ** 2\n",
        "c_squared = c ** 2\n",
        "\n",
        "# Check if the values form a Pythagorean Triple\n",
        "is_pythagorean_triple = (a_squared + b_squared == c_squared)\n",
        "\n",
        "# Print the results\n",
        "print(f\"a^2 = {a_squared}, b^2 = {b_squared}, c^2 = {c_squared}\")\n",
        "if is_pythagorean_triple:\n",
        "    print(\"The values form a Pythagorean Triple.\")\n",
        "else:\n",
        "    print(\"The values do not form a Pythagorean Triple.\")\n"
      ],
      "metadata": {
        "id": "ULNfF_wHF-K6",
        "colab": {
          "base_uri": "https://localhost:8080/"
        },
        "outputId": "27199c20-cf79-4bc8-c5b8-1f5d00e5f908"
      },
      "execution_count": 3,
      "outputs": [
        {
          "output_type": "stream",
          "name": "stdout",
          "text": [
            "a^2 = 9, b^2 = 16, c^2 = 25\n",
            "The values form a Pythagorean Triple.\n"
          ]
        }
      ]
    },
    {
      "cell_type": "markdown",
      "metadata": {
        "id": "udTNAj6AWHXA"
      },
      "source": [
        "### Stringhe\n",
        "\n",
        "Gli oggetti di tipo stringa contengono una sequenza di caratteri.\n",
        "\n",
        "Si noti il risultato ottenuto quando si applica l'operatore `+` a due stringhe."
      ]
    },
    {
      "cell_type": "code",
      "execution_count": null,
      "metadata": {
        "id": "fP-RLOWKWHXA",
        "outputId": "83cbacda-5510-4298-88fe-f9cf0b96376c"
      },
      "outputs": [
        {
          "data": {
            "text/plain": [
              "'datascience'"
            ]
          },
          "execution_count": 14,
          "metadata": {},
          "output_type": "execute_result"
        }
      ],
      "source": [
        "\"data\" + \"science\""
      ]
    },
    {
      "cell_type": "code",
      "execution_count": null,
      "metadata": {
        "id": "sLSmIA1nWHXB",
        "outputId": "0b085b8a-8a08-438a-8631-4e0cc0ccfcd9"
      },
      "outputs": [
        {
          "data": {
            "text/plain": [
              "'data science'"
            ]
          },
          "execution_count": 15,
          "metadata": {},
          "output_type": "execute_result"
        }
      ],
      "source": [
        "\"data\" + \" \" + \"science\""
      ]
    },
    {
      "cell_type": "markdown",
      "metadata": {
        "id": "hIb7MjpaWHXB"
      },
      "source": [
        "Sia le virgolette singole che doppie possono essere utilizzate per creare le stringhe: \"ciao\" e 'ciao' sono espressioni equivalenti. Tuttavia, le virgolette doppie sono spesso preferite poiché consentono di includere virgolette singole all'interno delle stringhe."
      ]
    },
    {
      "cell_type": "code",
      "execution_count": null,
      "metadata": {
        "id": "PhT93RBaWHXB",
        "outputId": "e7baf65b-9bf9-4e74-ccb4-77dd863b4268"
      },
      "outputs": [
        {
          "data": {
            "text/plain": [
              "\"Che cos'è una parola?\""
            ]
          },
          "execution_count": 17,
          "metadata": {},
          "output_type": "execute_result"
        }
      ],
      "source": [
        "\"Che cos'è una parola?\""
      ]
    },
    {
      "cell_type": "markdown",
      "metadata": {
        "id": "kFJmbfS0WHXB"
      },
      "source": [
        "L'espressione precedente avrebbe prodotto un `SyntaxError` se fosse stata racchiusa da virgolette singole.\n",
        "\n",
        "#### Metodi\n",
        "\n",
        "A partire da una stringa esistente, è possibile creare altre stringhe utilizzando i *metodi* applicabili alle stringhe. I metodi sono funzioni che operano sulle stringhe. Per chiamare un metodo, si aggiunge un punto dopo la stringa e si chiama la funzione corrispondente. Ad esempio, il seguente metodo genera una versione in maiuscolo di una stringa."
      ]
    },
    {
      "cell_type": "code",
      "execution_count": null,
      "metadata": {
        "id": "5jtqNDw4WHXB",
        "outputId": "cd2593b6-c0a1-4675-b885-de74246cab21"
      },
      "outputs": [
        {
          "data": {
            "text/plain": [
              "'LOUD'"
            ]
          },
          "execution_count": 16,
          "metadata": {},
          "output_type": "execute_result"
        }
      ],
      "source": [
        "\"loud\".upper()"
      ]
    },
    {
      "cell_type": "markdown",
      "metadata": {
        "id": "E3hS2SGdWHXB"
      },
      "source": [
        "### Valori booleani e confronti\n",
        "\n",
        "Gli oggetti di tipo bool hanno solo due valori: True✅ e False❌.\n",
        "\n",
        "Il corrispettivo intero di True è 1 e per False è 0. È dunque possibile eseguire le operazioni aritmetiche sui valori booleani: True equivale a 1 e False a 0. Per esempio:"
      ]
    },
    {
      "cell_type": "code",
      "execution_count": null,
      "metadata": {
        "id": "cRu9zS4xWHXB"
      },
      "outputs": [],
      "source": [
        "True + True + False"
      ]
    },
    {
      "cell_type": "markdown",
      "metadata": {
        "id": "4R8oE-RAWHXB"
      },
      "source": [
        "Un valore booleano viene ritornato quando si valuta un confronto. Per esempio:"
      ]
    },
    {
      "cell_type": "code",
      "execution_count": null,
      "metadata": {
        "id": "cvSuNu95WHXB",
        "outputId": "c52539a0-f5d6-4e09-ae47-0ec9724d75bb"
      },
      "outputs": [
        {
          "data": {
            "text/plain": [
              "True"
            ]
          },
          "execution_count": 1,
          "metadata": {},
          "output_type": "execute_result"
        }
      ],
      "source": [
        "3 > 1 + 1"
      ]
    },
    {
      "cell_type": "markdown",
      "metadata": {
        "id": "QgSFROQFWHXB"
      },
      "source": [
        "Il valore True indica che il confronto è valido; Python ha confermato questo semplice fatto sulla relazione tra 3 e 1+1.\n",
        "\n",
        "Si noti la regola di precedenza: gli operatori >, <, >=, <=, ==, != hanno la precedenza più bassa (vengono valutati per ultimi), il che significa che nell'espressione precedente viene prima valutato (1 + 1) e poi (3 > 2).\n",
        "\n",
        "#### Operatori di confronto\n",
        "Un operatore di confronto è un operatore che esegue un qualche tipo di confronto e restituisce un valore booleano (True oppure False). Per esempio, l'operatore `==` confronta le espressioni su entrambi i lati e restituisce `True` se hanno gli stessi valori e `False` altrimenti. L'opposto di `==` è `!=`, che si può leggere come 'non uguale al valore di'. Gli operatori di confronto sono elencati qui sotto:\n",
        "\n",
        "| Confronto           | Operatore |\n",
        "|---------------------|-----------|\n",
        "| Minore              | <         |\n",
        "| Maggiore            | >         |\n",
        "| Minore o uguale     | <=        |\n",
        "| Maggiore o uguale   | >=        |\n",
        "| Uguale              | ==        |\n",
        "| Non uguale          | !=        |\n",
        "\n",
        "Ad esempio:"
      ]
    },
    {
      "cell_type": "code",
      "execution_count": null,
      "metadata": {
        "id": "iUU44p6gWHXB",
        "outputId": "d73a1ead-3d89-4d76-c7b1-c87fea454791"
      },
      "outputs": [
        {
          "name": "stdout",
          "output_type": "stream",
          "text": [
            "a > b is True\n",
            "a < b is False\n",
            "a == b is False\n",
            "a >= b is True\n",
            "a <= b is False\n"
          ]
        }
      ],
      "source": [
        "a = 4\n",
        "b = 2\n",
        "\n",
        "print(\"a > b\", \"is\", a > b)\n",
        "print(\"a < b\", \"is\", a < b)\n",
        "print(\"a == b\", \"is\", a == b)\n",
        "print(\"a >= b\", \"is\", a >= b)\n",
        "print(\"a <= b\", \"is\", a <= b)"
      ]
    },
    {
      "cell_type": "markdown",
      "metadata": {
        "id": "KfPIDf2pWHXC"
      },
      "source": [
        "Nella cella seguente si presti attenzione all'uso di `=` e di `==`:"
      ]
    },
    {
      "cell_type": "code",
      "execution_count": null,
      "metadata": {
        "id": "uOgpXxSZWHXC"
      },
      "outputs": [],
      "source": [
        "boolean_condition = 10 == 20\n",
        "print(boolean_condition)"
      ]
    },
    {
      "cell_type": "markdown",
      "metadata": {
        "id": "BF14H-olWHXC"
      },
      "source": [
        "L'operatore `=` è un'istruzione di *assegnazione*. Ovvero, crea un nuovo oggetto. L'operatore `==` valuta invece una condizione logica e ritorna un valore booleano."
      ]
    },
    {
      "cell_type": "markdown",
      "metadata": {
        "id": "Pq0vft4DWHXC"
      },
      "source": [
        "Un'espressione può contenere più confronti e tutti devono essere veri affinché l'intera espressione sia vera. Ad esempio:"
      ]
    },
    {
      "cell_type": "code",
      "execution_count": null,
      "metadata": {
        "id": "UcpdN7OkWHXC",
        "outputId": "8a027597-2b47-4fab-bef4-2ee4daa39549"
      },
      "outputs": [
        {
          "data": {
            "text/plain": [
              "True"
            ]
          },
          "execution_count": 2,
          "metadata": {},
          "output_type": "execute_result"
        }
      ],
      "source": [
        "1 < 1 + 1 < 3"
      ]
    },
    {
      "cell_type": "markdown",
      "metadata": {
        "id": "6ALwF6K-WHXC"
      },
      "source": [
        "#### Operatori Booleani\n",
        "\n",
        "Gli operatori booleani confrontano *espressioni* (non valori) e ritornano un valore booleano. Ad esempio:"
      ]
    },
    {
      "cell_type": "code",
      "execution_count": null,
      "metadata": {
        "id": "b8fL3rfDWHXH",
        "outputId": "56337e19-bf26-4143-f2f6-57645be822e9"
      },
      "outputs": [
        {
          "data": {
            "text/plain": [
              "True"
            ]
          },
          "execution_count": 20,
          "metadata": {},
          "output_type": "execute_result"
        }
      ],
      "source": [
        "a = 2\n",
        "b = 3\n",
        "\n",
        "(a + b > a) and (a + b > b)"
      ]
    },
    {
      "cell_type": "markdown",
      "metadata": {
        "id": "_4Z2trhwWHXH"
      },
      "source": [
        "Nella cella sopra le parentesi tonde sono opzionali ma facilitano la lettura.\n",
        "\n",
        "- `and`  – Ritorna True solo se entrambi le espressioni sono vere, altrimenti ritorna False\n",
        "- `or`  – Ritorna True se almeno una delle due espressioni è vera, altrimenti ritorna False.\n",
        "- `not`  – Ritorna True se l'espressione è falsa, altrimenti ritorna False.\n",
        "\n",
        "Questi operatori si comportano come ci possiamo aspettare."
      ]
    },
    {
      "cell_type": "code",
      "execution_count": null,
      "metadata": {
        "id": "A2MGBXz6WHXH",
        "outputId": "2429b584-cf8c-4c37-8ef0-0ed7dbf9408e"
      },
      "outputs": [
        {
          "data": {
            "text/plain": [
              "False"
            ]
          },
          "execution_count": 1,
          "metadata": {},
          "output_type": "execute_result"
        }
      ],
      "source": [
        "True and False"
      ]
    },
    {
      "cell_type": "code",
      "execution_count": null,
      "metadata": {
        "id": "9-d59iZUWHXH",
        "outputId": "8f588c66-4ab2-4e0c-e196-b3a43679c428"
      },
      "outputs": [
        {
          "data": {
            "text/plain": [
              "True"
            ]
          },
          "execution_count": 2,
          "metadata": {},
          "output_type": "execute_result"
        }
      ],
      "source": [
        "True or False"
      ]
    },
    {
      "cell_type": "code",
      "execution_count": null,
      "metadata": {
        "id": "cNHwACbtWHXH",
        "outputId": "bf79af83-004e-4030-9d87-62ea9124ee2a"
      },
      "outputs": [
        {
          "data": {
            "text/plain": [
              "False"
            ]
          },
          "execution_count": 3,
          "metadata": {},
          "output_type": "execute_result"
        }
      ],
      "source": [
        "not True"
      ]
    },
    {
      "cell_type": "markdown",
      "metadata": {
        "id": "VbQu-jOzWHXI"
      },
      "source": [
        "Altri esempi sono i seguenti (si noti l'uso della funzione `len()`):"
      ]
    },
    {
      "cell_type": "code",
      "execution_count": null,
      "metadata": {
        "id": "pyRi1NYKWHXI",
        "outputId": "31f29bd1-6157-4135-8399-32dec4256d46"
      },
      "outputs": [
        {
          "name": "stdout",
          "output_type": "stream",
          "text": [
            "True\n",
            "True\n",
            "False\n",
            "True\n",
            "True\n",
            "False\n",
            "True\n",
            "False\n",
            "True\n",
            "True\n",
            "False\n",
            "True\n",
            "True\n",
            "False\n"
          ]
        }
      ],
      "source": [
        "print(3 > 2)  # True, because 3 is greater than 2\n",
        "print(3 >= 2)  # True, because 3 is greater than 2\n",
        "print(3 < 2)  # False,  because 3 is greater than 2\n",
        "print(2 < 3)  # True, because 2 is less than 3\n",
        "print(2 <= 3)  # True, because 2 is less than 3\n",
        "print(3 == 2)  # False, because 3 is not equal to 2\n",
        "print(3 != 2)  # True, because 3 is not equal to 2\n",
        "print(len(\"mango\") == len(\"avocado\"))  # False\n",
        "print(len(\"mango\") != len(\"avocado\"))  # True\n",
        "print(len(\"mango\") < len(\"avocado\"))  # True\n",
        "print(len(\"milk\") != len(\"meat\"))  # False\n",
        "print(len(\"milk\") == len(\"meat\"))  # True\n",
        "print(len(\"tomato\") == len(\"potato\"))  # True\n",
        "print(len(\"python\") > len(\"dragon\"))  # False"
      ]
    },
    {
      "cell_type": "markdown",
      "metadata": {
        "id": "HcYANJZRWHXI"
      },
      "source": [
        "In Python, gli operatori logici `and`, `or` e `not` sono utilizzati per combinare o invertire le condizioni booleane.\n",
        "\n",
        "L'operatore and restituisce True solo se entrambe le condizioni booleane sono vere. Ad esempio, `True and False` restituirà False perché una delle condizioni è falsa.\n",
        "\n",
        "L'operatore `or` restituisce True se almeno una delle due condizioni booleane è vera. Ad esempio, `True or False` restituirà True perché almeno una delle condizioni è vera.\n",
        "\n",
        "L'operatore `not` viene utilizzato per invertire il valore di verità di una condizione booleana. Ad esempio, `not True` restituirà False e `not False` restituirà True.\n",
        "\n",
        "Ecco alcuni esempi di come questi operatori possono essere utilizzati:"
      ]
    },
    {
      "cell_type": "code",
      "execution_count": null,
      "metadata": {
        "id": "CNU9TSTuWHXI",
        "outputId": "e21f4c63-b62c-4247-ff4c-5c3011d502f5"
      },
      "outputs": [
        {
          "name": "stdout",
          "output_type": "stream",
          "text": [
            "True\n",
            "False\n",
            "False\n",
            "True and True:  True\n",
            "True\n",
            "True\n",
            "False\n",
            "True or False: True\n",
            "False\n",
            "False\n",
            "True\n",
            "True\n",
            "False\n"
          ]
        }
      ],
      "source": [
        "print(3 > 2 and 4 > 3) # True - because both statements are true\n",
        "print(3 > 2 and 4 < 3) # False - because the second statement is false\n",
        "print(3 < 2 and 4 < 3) # False - because both statements are false\n",
        "print('True and True: ', True and True)\n",
        "print(3 > 2 or 4 > 3)  # True - because both statements are true\n",
        "print(3 > 2 or 4 < 3)  # True - because one of the statements is true\n",
        "print(3 < 2 or 4 < 3)  # False - because both statements are false\n",
        "print('True or False:', True or False)\n",
        "print(not 3 > 2)     # False - because 3 > 2 is true, then not True gives False\n",
        "print(not True)      # False - Negation, the not operator turns true to false\n",
        "print(not False)     # True\n",
        "print(not not True)  # True\n",
        "print(not not False) # False"
      ]
    },
    {
      "cell_type": "markdown",
      "metadata": {
        "id": "zElYgAgLWHXI"
      },
      "source": [
        "## Sequenze\n",
        "\n",
        "Oltre ai numeri e ai valori booleani, Python supporta anche un insieme di \"contenitori\", ovvero i seguenti tipi strutturati:\n",
        "\n",
        "- le liste,\n",
        "- le tuple,\n",
        "- gli insiemi,\n",
        "- i dizionari."
      ]
    },
    {
      "cell_type": "markdown",
      "metadata": {
        "id": "YyuoE5SpWHXI"
      },
      "source": [
        "### Le tuple\n",
        "\n",
        "Una tupla è una collezione di diversi tipi di dati che è ordinata e immutabile (non modificabile). Le tuple sono scritte tra parentesi tonde, (). Una volta creata una tupla, non è possibile modificarne i contenuti."
      ]
    },
    {
      "cell_type": "code",
      "execution_count": null,
      "metadata": {
        "id": "_B_UeiEzWHXI",
        "outputId": "e2339601-38f9-4982-e502-e477dc5b9f3c"
      },
      "outputs": [
        {
          "data": {
            "text/plain": [
              "('Rosso', 'Nero', 'Bianco')"
            ]
          },
          "execution_count": 3,
          "metadata": {},
          "output_type": "execute_result"
        }
      ],
      "source": [
        "colors = ('Rosso', 'Nero', 'Bianco')\n",
        "colors"
      ]
    },
    {
      "cell_type": "code",
      "execution_count": null,
      "metadata": {
        "id": "wpeYi1_qWHXI",
        "outputId": "794b8070-cbeb-4c5f-acac-47ebcb3aa74a"
      },
      "outputs": [
        {
          "data": {
            "text/plain": [
              "tuple"
            ]
          },
          "execution_count": 4,
          "metadata": {},
          "output_type": "execute_result"
        }
      ],
      "source": [
        "type(colors)"
      ]
    },
    {
      "cell_type": "markdown",
      "source": [
        "## Indici e Liste\n",
        "\n",
        "Gli elenchi sono un componente chiave per archiviare i dati in Python. Le liste sono elenchi di \"cose\" (nel nostro caso, queste \"cose\" sono numeri in virgola mobile).\n",
        "Attenzione: l'indicizzazione di Python inizia da 0 mentre altri linguaggi di programmazione avere un'indicizzazione che inizia da 1. In altre parole, la prima voce di un elenco ha indice 0, la seconda voce come indice 1 e così via.\n",
        "\n",
        "Possiamo estrarre una parte di un elenco utilizzando la sintassi **name[start:stop]** che estrae gli elementi tra l'indice *start* e l'indice *stop-1*."
      ],
      "metadata": {
        "id": "L0WBCIg2GHkY"
      }
    },
    {
      "cell_type": "code",
      "source": [
        "# Create the list of numbers 0 through 8 and then print only the element with index 0.\n",
        "MyList = [0,1,2,3,4,5,6,7,8]\n",
        "print(MyList[0])"
      ],
      "metadata": {
        "id": "QF6hXpQiG4Su"
      },
      "execution_count": null,
      "outputs": []
    },
    {
      "cell_type": "code",
      "source": [
        "# Print all elements up to, but not including, the third element of MyList.\n",
        "MyList = [0,1,2,3,4,5,6,7,8]\n",
        "print(MyList[:2])"
      ],
      "metadata": {
        "id": "GeuaX8s1KE6E"
      },
      "execution_count": null,
      "outputs": []
    },
    {
      "cell_type": "code",
      "source": [
        "#Print the last element of MyList (this is a handy trick!).\n",
        "MyList = [0,1,2,3,4,5,6,7,8]\n",
        "print(MyList[-1])"
      ],
      "metadata": {
        "id": "T6OiIegIKPbX"
      },
      "execution_count": null,
      "outputs": []
    },
    {
      "cell_type": "code",
      "source": [
        "#Print the elements indexed 1 through 4. Beware! This is not the first through fifth element.\n",
        "MyList = [0,1,2,3,4,5,6,7,8]\n",
        "print(MyList[1:5])\n",
        "\n",
        "#Print every other element in the list starting with the first.\n",
        "MyList = [0,1,2,3,4,5,6,7,8]\n",
        "print(MyList[0::2])\n",
        "\n",
        "#Print the last three elements of MyList\n",
        "MyList = [0,1,2,3,4,5,6,7,8]\n",
        "print(MyList[-3:])"
      ],
      "metadata": {
        "colab": {
          "base_uri": "https://localhost:8080/"
        },
        "id": "COVXckHEKa2R",
        "outputId": "418bd09c-bd4d-449d-eba0-1a70cec8e438"
      },
      "execution_count": null,
      "outputs": [
        {
          "output_type": "stream",
          "name": "stdout",
          "text": [
            "[1, 2, 3, 4]\n",
            "[0, 2, 4, 6, 8]\n",
            "[6, 7, 8]\n"
          ]
        }
      ]
    },
    {
      "cell_type": "code",
      "source": [
        "# range is a handy command for creating a sequence of integers\n",
        "MySecondList = range(4,20)\n",
        "print(MySecondList) # this is a \"range object\" in Python.\n",
        "# When using range() we won't actually store all of the values in memory.\n",
        "print(list(MySecondList))\n",
        "# notice that we didn't create the last element!"
      ],
      "metadata": {
        "colab": {
          "base_uri": "https://localhost:8080/"
        },
        "id": "eyE4nxYZKtuf",
        "outputId": "087e5284-b444-4346-b031-dd9baee17c72"
      },
      "execution_count": null,
      "outputs": [
        {
          "output_type": "stream",
          "name": "stdout",
          "text": [
            "range(4, 20)\n",
            "[4, 5, 6, 7, 8, 9, 10, 11, 12, 13, 14, 15, 16, 17, 18, 19]\n"
          ]
        }
      ]
    },
    {
      "cell_type": "markdown",
      "source": [
        "In Python, gli elementi di una lista non devono necessariamente essere dello stesso tipo. Si possono mescolare numeri interi, float, stringhe, liste, ecc. In questo esempio vediamo un elenco di diversi elementi che hanno diversi tipi di dati: un float, un intero, una stringa e un numero complesso. Nota che il numero immaginario i è rappresentato da 1j in Python."
      ],
      "metadata": {
        "id": "t14OKSwIK3nL"
      }
    },
    {
      "cell_type": "code",
      "source": [
        "MixedList = [1.0, 7, 'Bob', 1-5j]\n",
        "print(MixedList)\n",
        "print(type(MixedList[0]))\n",
        "print(type(MixedList[1]))\n",
        "print(type(MixedList[2]))\n",
        "print(type(MixedList[3]))"
      ],
      "metadata": {
        "id": "Aj_uYr9iK6xx"
      },
      "execution_count": null,
      "outputs": []
    },
    {
      "cell_type": "markdown",
      "source": [
        "### Esercizio\n",
        "\n",
        "1. Crea l'elenco dei primi numeri di Fibonacci: 1, 1, 2, 3, 5, 8, 13, 21, 34, 55, 89.\n",
        "2. Stampa i primi quattro elementi dell'elenco.\n",
        "3. Stampa ogni terzo elemento della lista a partire dal primo.\n",
        "4. Stampa l'ultimo elemento della lista.\n",
        "5. Stampa l'elenco in ordine inverso.\n",
        "6. Stampa l'elenco iniziando dall'ultimo elemento e contando all'indietro da ogni altro elemento."
      ],
      "metadata": {
        "id": "HP3-OCnULjZg"
      }
    },
    {
      "cell_type": "code",
      "source": [
        "# Soluzione #1\n",
        "\n",
        "# a. Create the list of the first several Fibonacci numbers\n",
        "fibonacci = [1, 1, 2, 3, 5, 8, 13, 21, 34, 55, 89]\n",
        "\n",
        "# b. Print the first four elements of the list\n",
        "print(\"First four elements:\", fibonacci[:4])\n",
        "\n",
        "# c. Print every third element of the list starting from the first\n",
        "print(\"Every third element starting from the first:\", fibonacci[::3])\n",
        "\n",
        "# d. Print the last element of the list\n",
        "print(\"Last element:\", fibonacci[-1])\n",
        "\n",
        "# e. Print the list in reverse order\n",
        "print(\"List in reverse order:\", fibonacci[::-1])\n",
        "\n",
        "# f. Print the list starting at the last element and counting backward by every other element\n",
        "print(\"List starting at the last element and counting backward by every other element:\", fibonacci[::-2])\n"
      ],
      "metadata": {
        "id": "_Sspdb0gMDcz"
      },
      "execution_count": null,
      "outputs": []
    },
    {
      "cell_type": "code",
      "source": [
        "# Soluzione più flessibile\n",
        "\n",
        "# a. Create the list of the first 11 Fibonacci numbers\n",
        "fibonacci = [1, 1]\n",
        "while len(fibonacci) < 11:  # Generating the first 11 Fibonacci numbers\n",
        "    fibonacci.append(fibonacci[-1] + fibonacci[-2])\n",
        "\n",
        "# b. Print the first four elements of the list\n",
        "print(\"First four elements:\", fibonacci[:4])\n",
        "\n",
        "# c. Print every third element of the list starting from the first\n",
        "print(\"Every third element starting from the first:\", fibonacci[::3])\n",
        "\n",
        "# d. Print the last element of the list\n",
        "print(\"Last element:\", fibonacci[-1])\n",
        "\n",
        "# e. Print the list in reverse order\n",
        "print(\"List in reverse order:\", fibonacci[::-1])\n",
        "\n",
        "# f. Print the list starting at the last element and counting backward by every other element\n",
        "print(\"List starting at the last element and counting backward by every other element:\", fibonacci[::-2])\n"
      ],
      "metadata": {
        "id": "8MtJgZJqLuhO"
      },
      "execution_count": null,
      "outputs": []
    },
    {
      "cell_type": "markdown",
      "source": [
        "## Operazioni sulle liste\n",
        "\n",
        "E' molto semplice effettuare operazioni sulle liste (es. aggiungere, rimuovere elementi dagli elenchi).\n",
        "\n",
        "La sintassi utilizzata è del tipo: **variable.command** in cui:\n",
        "variable = nome della variabile,\n",
        "command = l'operazione che si vuole fare su quella variabile.\n",
        "\n",
        "Ad esempio, MyList.append(7) aggiungerà il numero 7 all'elenco MyList. Questa è una funzionalità di programmazione comune in Python e la useremo spesso."
      ],
      "metadata": {
        "id": "yVXRI4tyLtSq"
      }
    },
    {
      "cell_type": "code",
      "source": [
        "#Esempio\n",
        "\n",
        "MyList = [0,1,2,3]\n",
        "print(MyList) # print the list content\n",
        "\n",
        "MyList.append('a') # append the string 'a' to the end of the list\n",
        "print(MyList)\n",
        "\n",
        "MyList.remove('a') # remove the first instance of `a` from the list\n",
        "print(MyList)\n",
        "\n",
        "MyList.remove(3) # now let's remove the 3\n",
        "print(MyList)"
      ],
      "metadata": {
        "colab": {
          "base_uri": "https://localhost:8080/"
        },
        "id": "Fwy_loXvNN-R",
        "outputId": "790b1612-e36f-4374-cf3e-1a01a89969f7"
      },
      "execution_count": null,
      "outputs": [
        {
          "output_type": "stream",
          "name": "stdout",
          "text": [
            "[0, 1, 2, 3]\n",
            "[0, 1, 2, 3, 'a']\n",
            "[0, 1, 2, 3]\n",
            "[0, 1, 2]\n"
          ]
        }
      ]
    },
    {
      "cell_type": "markdown",
      "source": [
        "### Esercizio\n",
        "\n",
        "\n",
        "\n",
        "1. Crea l'elenco dei primi numeri di Lucas: 1, 3, 4, 7, 11, 18, 29, 47.\n",
        "2. Aggiungi i successivi tre numeri di Lucas alla fine dell'elenco.\n",
        "3. Rimuovere il numero 3 dall'elenco.\n",
        "4. Inserisci nuovamente i 3 nell'elenco nel punto corretto.\n",
        "5. Stampa l'elenco in ordine inverso.\n",
        "6. Esegui alcune altre operazioni di elenco su questo elenco e segnala i risultati."
      ],
      "metadata": {
        "id": "KDH4mjW6NvEF"
      }
    },
    {
      "cell_type": "markdown",
      "metadata": {
        "id": "0rgaY4BRWHXP"
      },
      "source": [
        "##  I dizionari\n",
        "\n",
        "Gli oggetti di tipo \"dizionario\" vengono utilizzati per creare coppie chiave-valore, dove ogni chiave è unica. Un dizionario viene creato specificando ogni coppia come `chiave : valore`, separando le diverse coppie con una virgola e racchiudendo il tutto tra parentesi graffe. Ad esempio:"
      ]
    },
    {
      "cell_type": "code",
      "execution_count": null,
      "metadata": {
        "id": "xJt-S-2lWHXP"
      },
      "outputs": [],
      "source": [
        "music = {\n",
        "    \"blues\": \"Betty Smith\",\n",
        "    \"classical\": \"Gustav Mahler\",\n",
        "    \"pop\": \"David Bowie\",\n",
        "    \"jazz\": \"John Coltrane\",\n",
        "}"
      ]
    },
    {
      "cell_type": "markdown",
      "metadata": {
        "id": "IJDMPzTHWHXP"
      },
      "source": [
        "L'accesso agli elementi di un dizionario viene fatto specificando all'interno di parentesi quadre la chiave per ottenere o modificare il valore corrispondente:"
      ]
    },
    {
      "cell_type": "code",
      "execution_count": null,
      "metadata": {
        "id": "M_ynAvqRWHXP",
        "outputId": "a930b7fc-4eb0-4a99-e9ab-901e8a2d5370"
      },
      "outputs": [
        {
          "data": {
            "text/plain": [
              "'David Bowie'"
            ]
          },
          "execution_count": 44,
          "metadata": {},
          "output_type": "execute_result"
        }
      ],
      "source": [
        "music[\"pop\"]"
      ]
    },
    {
      "cell_type": "markdown",
      "metadata": {
        "id": "02wiJLyTWHXP"
      },
      "source": [
        "Per trovare il numero di coppie `key: value` nel dizionario usiamo `len()`."
      ]
    },
    {
      "cell_type": "code",
      "execution_count": null,
      "metadata": {
        "id": "f9O4gp-jWHXP",
        "outputId": "e2057251-1fca-4b7b-d211-e8034cab4e23"
      },
      "outputs": [
        {
          "name": "stdout",
          "output_type": "stream",
          "text": [
            "4\n"
          ]
        }
      ],
      "source": [
        "print(len(music))"
      ]
    },
    {
      "cell_type": "code",
      "execution_count": null,
      "metadata": {
        "id": "veoktoi6WHXP",
        "outputId": "9877b476-826c-40fa-f993-8d9b0420c332"
      },
      "outputs": [
        {
          "name": "stdout",
          "output_type": "stream",
          "text": [
            "{'blues': 'Betty Smith', 'classical': 'Gustav Mahler', 'pop': 'David Bowie', 'jazz': 'John Coltrane', 'new music': 'Missy Mazzoli'}\n"
          ]
        }
      ],
      "source": [
        "music['new music'] = 'Missy Mazzoli'\n",
        "print(music)"
      ]
    }
  ]
}