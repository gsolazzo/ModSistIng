{
  "nbformat": 4,
  "nbformat_minor": 0,
  "metadata": {
    "colab": {
      "provenance": [],
      "authorship_tag": "ABX9TyOo6KCAMzhdSvy5FiwpA01w",
      "include_colab_link": true
    },
    "kernelspec": {
      "name": "python3",
      "display_name": "Python 3"
    },
    "language_info": {
      "name": "python"
    }
  },
  "cells": [
    {
      "cell_type": "markdown",
      "metadata": {
        "id": "view-in-github",
        "colab_type": "text"
      },
      "source": [
        "<a href=\"https://colab.research.google.com/github/gianlukas/modellazioneSistIng/blob/main/1_2_IntroduzionePython_Numpy.ipynb\" target=\"_parent\"><img src=\"https://colab.research.google.com/assets/colab-badge.svg\" alt=\"Open In Colab\"/></a>"
      ]
    },
    {
      "cell_type": "markdown",
      "source": [
        "# Numpy\n",
        "\n",
        "Oltre al linguaggio di programmazione di base, agli strumenti per scrivere cicli, verificare condizioni, creare e manipolare elenchi, esploriamo il pacchetto numpy che contiene routine numeriche ottimizzate per eseguire calcoli numerici nel calcolo scientifico.\n",
        "\n",
        "Il pacchetto numpy viene utilizzato in molti (la maggior parte) calcoli\n",
        "matematici nell'analisi numerica con Python. Fornisce algoritmi per l'aritmetica di matrici e vettori. Inoltre, è ottimizzato per poter eseguire questi calcoli nel modo più efficiente possibile (sia in termini di memoria che di velocità).\n",
        "In genere quando importiamo numpy utilizziamo import numpy come np. Questo è il modo standard per denominare il pacchetto Numpy. Ciò significa che avremo molte funzioni con il prefisso “np” per richiamare i comandi numpy.\n",
        "\n",
        "NumPy è l'abbreviazione di Numerical Python: un'estensione del linguaggio pensata per il calcolo algebrico e matriciale. Numpy consente di lavorare con vettori e matrici in maniera più efficiente e veloce di quanto non si possa fare con le liste e le liste di liste (matrici) di Python. Inoltre, Numpy aggiunge una serie di funzioni matematiche di base e la possibilità di generare numeri casuali.\n",
        "\n",
        "## Gli array nel modulo NumPy\n",
        "\n",
        "In Python puro abbiamo a disposizione oggetti numerici (interi e a virgola mobile) e contenitori (liste, dizionari e insiemi). Numpy fornisce un nuovo tipo di dato: un array N-dimensionale (`ndarray`). Il costrutto `ndarray` è  un oggetto di tipo array multidimensionale caratterizzato da alcune proprietà, come:\n",
        "\n",
        "- *dimensioni*: gli `ndarray` possono avere da una a un numero arbitrario di dimensioni, che vengono definite come \"assi\". Ad esempio, un array può essere unidimensionale (un vettore), bidimensionale (una matrice), tridimensionale (un cubo), e così via;\n",
        "- *tipo di dato*: tutti gli elementi di un `ndarray` devono avere lo stesso tipo di dato, che può essere ad esempio float, int, bool o string (questo li differenzia dalle liste in puro Python, che non sono omogenee);\n",
        "- *forma*: la forma di un `ndarray` indica le dimensioni dell'array, cioè il numero di elementi per ogni asse. Ad esempio, un array con forma (3, 4) ha 3 righe e 4 colonne;\n",
        "- *indicizzazione*: gli `ndarray` possono essere indicizzati come gli array Python standard, ma consentono anche indicizzazioni più avanzate.\n",
        "\n",
        "Gli `ndarray` offrono una vasta gamma di funzioni e metodi per manipolare e analizzare i dati in essi contenuti, tra cui operazioni matematiche, statistiche, trasformazioni e manipolazioni di dati.\n",
        "\n",
        "**Terminologia**\n",
        "\n",
        "- Con *size* di un array intendiamo il numero di elementi presenti in un array;\n",
        "- Con *rank* di un array si intende il numero di assi/dimensioni di un array;\n",
        "- Con *shape* di un array intendiamo le dimensioni dell'array, cioè una tupla di interi\n",
        "contenente il numero di elementi per ogni dimensione.\n",
        "\n",
        "\n",
        "\n"
      ],
      "metadata": {
        "id": "2VUOmi43y0R6"
      }
    },
    {
      "cell_type": "code",
      "source": [
        "import numpy as np"
      ],
      "metadata": {
        "id": "eaoo_RR-zHL7"
      },
      "execution_count": null,
      "outputs": []
    },
    {
      "cell_type": "markdown",
      "source": [
        "## Perchè numpy\n",
        "\n",
        "Scopriamo l'utilità di numpy con un semplice esempio. Supponiamo di avere una lista di numeri reali e di voler calcolare il seno di ogni elemento della lista."
      ],
      "metadata": {
        "id": "pDEtl1wqzPY7"
      }
    },
    {
      "cell_type": "code",
      "execution_count": null,
      "metadata": {
        "colab": {
          "base_uri": "https://localhost:8080/",
          "height": 176
        },
        "id": "yq_qsShfyxBt",
        "outputId": "ce63e5cf-bc4b-4a32-b8b6-d0444212292c"
      },
      "outputs": [
        {
          "output_type": "error",
          "ename": "TypeError",
          "evalue": "must be real number, not list",
          "traceback": [
            "\u001b[0;31m---------------------------------------------------------------------------\u001b[0m",
            "\u001b[0;31mTypeError\u001b[0m                                 Traceback (most recent call last)",
            "\u001b[0;32m<ipython-input-1-85041c4bd027>\u001b[0m in \u001b[0;36m<cell line: 3>\u001b[0;34m()\u001b[0m\n\u001b[1;32m      1\u001b[0m \u001b[0;32mfrom\u001b[0m \u001b[0mmath\u001b[0m \u001b[0;32mimport\u001b[0m \u001b[0mpi\u001b[0m\u001b[0;34m,\u001b[0m \u001b[0msin\u001b[0m\u001b[0;34m\u001b[0m\u001b[0;34m\u001b[0m\u001b[0m\n\u001b[1;32m      2\u001b[0m \u001b[0mMyList\u001b[0m \u001b[0;34m=\u001b[0m \u001b[0;34m[\u001b[0m\u001b[0;36m0\u001b[0m\u001b[0;34m,\u001b[0m\u001b[0mpi\u001b[0m\u001b[0;34m/\u001b[0m\u001b[0;36m6\u001b[0m\u001b[0;34m,\u001b[0m \u001b[0mpi\u001b[0m\u001b[0;34m/\u001b[0m\u001b[0;36m4\u001b[0m\u001b[0;34m,\u001b[0m \u001b[0mpi\u001b[0m\u001b[0;34m/\u001b[0m\u001b[0;36m3\u001b[0m\u001b[0;34m,\u001b[0m \u001b[0mpi\u001b[0m\u001b[0;34m/\u001b[0m\u001b[0;36m2\u001b[0m\u001b[0;34m,\u001b[0m \u001b[0;36m2\u001b[0m\u001b[0;34m*\u001b[0m\u001b[0mpi\u001b[0m\u001b[0;34m/\u001b[0m\u001b[0;36m3\u001b[0m\u001b[0;34m,\u001b[0m \u001b[0;36m3\u001b[0m\u001b[0;34m*\u001b[0m\u001b[0mpi\u001b[0m\u001b[0;34m/\u001b[0m\u001b[0;36m4\u001b[0m\u001b[0;34m,\u001b[0m \u001b[0;36m5\u001b[0m\u001b[0;34m*\u001b[0m\u001b[0mpi\u001b[0m\u001b[0;34m/\u001b[0m\u001b[0;36m6\u001b[0m\u001b[0;34m,\u001b[0m \u001b[0mpi\u001b[0m\u001b[0;34m]\u001b[0m\u001b[0;34m\u001b[0m\u001b[0;34m\u001b[0m\u001b[0m\n\u001b[0;32m----> 3\u001b[0;31m \u001b[0msin\u001b[0m\u001b[0;34m(\u001b[0m\u001b[0mMyList\u001b[0m\u001b[0;34m)\u001b[0m \u001b[0;31m# applico la funzione seno alla lista per intero. Funzionerà?\u001b[0m\u001b[0;34m\u001b[0m\u001b[0;34m\u001b[0m\u001b[0m\n\u001b[0m",
            "\u001b[0;31mTypeError\u001b[0m: must be real number, not list"
          ]
        }
      ],
      "source": [
        "from math import pi, sin\n",
        "MyList = [0,pi/6, pi/4, pi/3, pi/2, 2*pi/3, 3*pi/4, 5*pi/6, pi]\n",
        "sin(MyList) # applico la funzione seno alla lista per intero. Funzionerà?"
      ]
    },
    {
      "cell_type": "code",
      "source": [
        "# Si potrebbe procedere in questo modo (poco elegante)\n",
        "\n",
        "from math import pi, sin\n",
        "MyList = [0,pi/6, pi/4, pi/3, pi/2, 2*pi/3, 3*pi/4, 5*pi/6, pi]\n",
        "SineList = [sin(n) for n in MyList]\n",
        "print(SineList)"
      ],
      "metadata": {
        "colab": {
          "base_uri": "https://localhost:8080/"
        },
        "id": "uK1VXS-_0Hsm",
        "outputId": "b963f057-0ca6-40cb-e37f-a8cb41822810"
      },
      "execution_count": null,
      "outputs": [
        {
          "output_type": "stream",
          "name": "stdout",
          "text": [
            "[0.0, 0.49999999999999994, 0.7071067811865475, 0.8660254037844386, 1.0, 0.8660254037844387, 0.7071067811865476, 0.49999999999999994, 1.2246467991473532e-16]\n"
          ]
        }
      ]
    },
    {
      "cell_type": "code",
      "source": [
        "#Un altro esempio: voglio elevare al quadrato ogni elemento nella lista\n",
        "\n",
        "MyList = [1,2,3,4]\n",
        "MyList**2 # This will produce an error"
      ],
      "metadata": {
        "colab": {
          "base_uri": "https://localhost:8080/",
          "height": 176
        },
        "id": "DleI1jSx0epa",
        "outputId": "4cc95f4d-6c16-47db-dc1e-00d22ab4828d"
      },
      "execution_count": null,
      "outputs": [
        {
          "output_type": "error",
          "ename": "TypeError",
          "evalue": "unsupported operand type(s) for ** or pow(): 'list' and 'int'",
          "traceback": [
            "\u001b[0;31m---------------------------------------------------------------------------\u001b[0m",
            "\u001b[0;31mTypeError\u001b[0m                                 Traceback (most recent call last)",
            "\u001b[0;32m<ipython-input-3-a0cc898c47cd>\u001b[0m in \u001b[0;36m<cell line: 4>\u001b[0;34m()\u001b[0m\n\u001b[1;32m      2\u001b[0m \u001b[0;34m\u001b[0m\u001b[0m\n\u001b[1;32m      3\u001b[0m \u001b[0mMyList\u001b[0m \u001b[0;34m=\u001b[0m \u001b[0;34m[\u001b[0m\u001b[0;36m1\u001b[0m\u001b[0;34m,\u001b[0m\u001b[0;36m2\u001b[0m\u001b[0;34m,\u001b[0m\u001b[0;36m3\u001b[0m\u001b[0;34m,\u001b[0m\u001b[0;36m4\u001b[0m\u001b[0;34m]\u001b[0m\u001b[0;34m\u001b[0m\u001b[0;34m\u001b[0m\u001b[0m\n\u001b[0;32m----> 4\u001b[0;31m \u001b[0mMyList\u001b[0m\u001b[0;34m**\u001b[0m\u001b[0;36m2\u001b[0m \u001b[0;31m# This will produce an error\u001b[0m\u001b[0;34m\u001b[0m\u001b[0;34m\u001b[0m\u001b[0m\n\u001b[0m",
            "\u001b[0;31mTypeError\u001b[0m: unsupported operand type(s) for ** or pow(): 'list' and 'int'"
          ]
        }
      ]
    },
    {
      "cell_type": "code",
      "source": [
        "# Oppure utilizzare numpy\n",
        "import numpy as np\n",
        "MyList = np.array([1,2,3,4])\n",
        "MyList**2"
      ],
      "metadata": {
        "colab": {
          "base_uri": "https://localhost:8080/"
        },
        "id": "M260eJjW0SjZ",
        "outputId": "1565091e-e9ac-45a1-8289-43b09e7af764"
      },
      "execution_count": null,
      "outputs": [
        {
          "output_type": "execute_result",
          "data": {
            "text/plain": [
              "array([ 1,  4,  9, 16])"
            ]
          },
          "metadata": {},
          "execution_count": 4
        }
      ]
    },
    {
      "cell_type": "markdown",
      "metadata": {
        "id": "lq_FxhPEivyY"
      },
      "source": [
        "## Broadcasting\n",
        "\n",
        "Il broadcasting è un meccanismo che consente a Numpy di eseguire operazioni tra array di diverse dimensioni o tra un array e uno scalare, anche quando le dimensioni non sono compatibili tra loro. In questo modo, Numpy può estendere automaticamente la dimensione di uno degli operandi in modo da rendere possibile l'operazione.\n",
        "\n",
        "Ad esempio, è possibile effettuare un'operazione tra un array e un singolo numero (operazione tra un vettore e uno scalare), oppure tra array di due dimensioni diverse, senza dover esplicitamente allineare le dimensioni degli array. In questi casi, Numpy utilizza il *broadcasting* per allineare le dimensioni degli array in modo da eseguire l'operazione richiesta. Questo rende il codice più compatto e leggibile, e consente di evitare il lavoro manuale di espansione degli array.\n",
        "\n",
        "In sintesi, il *broadcasting* è un meccanismo molto utile in Numpy che consente di eseguire operazioni tra array di diverse dimensioni o tra un array e uno scalare in modo automatico, senza dover esplicitamente allineare le dimensioni degli array.\n",
        "\n",
        "Ad esempio"
      ]
    },
    {
      "cell_type": "code",
      "execution_count": null,
      "metadata": {
        "id": "OWUKFMlSivyY",
        "outputId": "732bfa5b-dc2f-4dd9-dd48-2226be684af0"
      },
      "outputs": [
        {
          "data": {
            "text/plain": [
              "array([[ 1,  2,  3,  4],\n",
              "       [ 5,  6,  7,  8],\n",
              "       [ 9, 10, 11, 12]])"
            ]
          },
          "execution_count": 39,
          "metadata": {},
          "output_type": "execute_result"
        }
      ],
      "source": [
        "a"
      ]
    },
    {
      "cell_type": "code",
      "execution_count": null,
      "metadata": {
        "id": "sH38wHkvivyY",
        "outputId": "0d9a8cf8-47df-4908-e2af-89f308842296"
      },
      "outputs": [
        {
          "data": {
            "text/plain": [
              "array([[ 2,  4,  6,  8],\n",
              "       [10, 12, 14, 16],\n",
              "       [18, 20, 22, 24]])"
            ]
          },
          "execution_count": 40,
          "metadata": {},
          "output_type": "execute_result"
        }
      ],
      "source": [
        "a * 2"
      ]
    },
    {
      "cell_type": "markdown",
      "metadata": {
        "id": "3OwR996rivyY"
      },
      "source": [
        "## Altre operazioni sugli array\n",
        "\n",
        "C'è un numero enorme di funzioni predefinite in NumPy che calcolano automaticamente diverse quantità sui `ndarray`. Ad esempio:\n",
        "\n",
        "- `mean()`: calcola la media di un vettore o matrice;\n",
        "- `sum()`: calcola la somma di un vettore o matrice;\n",
        "- `std()`: calcola la deviazione standard;\n",
        "- `min()`: trova il minimo nel vettore o matrice;\n",
        "- `max()`: trova il massimo;\n",
        "- `ndim`: dimensione del vettore o matrice;\n",
        "- `shape`: restituisce una tupla con la \"forma\" del vettore o matrice;\n",
        "- `size`: restituisce la dimensione totale del vettore (=ndim) o della matrice;\n",
        "- `dtype`: scrive il tipo numpy del dato;\n",
        "- `zeros(num)`: scrive un vettore di num elementi inizializzati a zero;\n",
        "- `arange(start,stop,step)`: genera un intervallo di valori (interi o reali, a seconda dei valori di start, ecc.) intervallati di step. Nota che i dati vengono generati nell'intervallo aperto [start,stop)!\n",
        "- `linstep(start,stop,num)`: genera un intervallo di num valori interi o reali a partire da start fino a stop (incluso!);\n",
        "- `astype(tipo)`: converte l'ndarray nel tipo specificato\n",
        "\n",
        "Per esempio:"
      ]
    },
    {
      "cell_type": "code",
      "execution_count": null,
      "metadata": {
        "id": "U7W4IHWPivyY",
        "outputId": "4b14c37e-689f-479b-f0ec-912ade15c0b8"
      },
      "outputs": [
        {
          "data": {
            "text/plain": [
              "array([1, 2, 3])"
            ]
          },
          "execution_count": 41,
          "metadata": {},
          "output_type": "execute_result"
        }
      ],
      "source": [
        "x = np.array([1, 2, 3])\n",
        "x"
      ]
    },
    {
      "cell_type": "code",
      "execution_count": null,
      "metadata": {
        "id": "qcqgC79jivyZ",
        "outputId": "baab6511-2c85-4de0-934a-460cae84d387"
      },
      "outputs": [
        {
          "data": {
            "text/plain": [
              "[1, 3, 6, 2.0, 0.816496580927726]"
            ]
          },
          "execution_count": 42,
          "metadata": {},
          "output_type": "execute_result"
        }
      ],
      "source": [
        "[x.min(), x.max(), x.sum(), x.mean(), x.std()]"
      ]
    },
    {
      "cell_type": "markdown",
      "source": [
        "## Creare un array\n",
        "\n",
        "Esistono diversi modi per creare un array numpy. Il più semplice è partire da una lista python e usare la funzione array()"
      ],
      "metadata": {
        "id": "O4-sjK3N0BvH"
      }
    },
    {
      "cell_type": "code",
      "source": [
        "voti_inglese = [27,28,24,30,21,25]\n",
        "E = np.array(voti_inglese)\n",
        "print(E)"
      ],
      "metadata": {
        "colab": {
          "base_uri": "https://localhost:8080/"
        },
        "id": "Tuwv600r0Sgb",
        "outputId": "d983c99a-1f01-4d50-facf-f2dc7f9174f4"
      },
      "execution_count": null,
      "outputs": [
        {
          "output_type": "stream",
          "name": "stdout",
          "text": [
            "[27 28 24 30 21 25]\n"
          ]
        }
      ]
    },
    {
      "cell_type": "code",
      "source": [
        "# OPPure partire direttamente invocando la funzione array()\n",
        "E = np.array([27,28,24,30,21,25])\n",
        "print(E)"
      ],
      "metadata": {
        "colab": {
          "base_uri": "https://localhost:8080/"
        },
        "id": "v8O6LEFW02Tn",
        "outputId": "2315efcb-b0d2-46ca-9de1-b516be730c1a"
      },
      "execution_count": null,
      "outputs": [
        {
          "output_type": "stream",
          "name": "stdout",
          "text": [
            "[27 28 24 30 21 25]\n"
          ]
        }
      ]
    },
    {
      "cell_type": "markdown",
      "source": [
        "### arange, linspace, zeros, ones, and meshgrid\n",
        "\n",
        "Esistono alcuni metodi integrati per creare array in Numpy che consentono di risparmiare un po' di tempo in molte impostazioni di calcolo scientifico.\n",
        "\n",
        "* arange (array range) crea un array di numeri in virgola mobile con gli argomenti start, stop e step. Bisogna prestare attenzione al fatto che la distanza di inizio-arresto sia equamente divisibile per il \"passo\".\n",
        "* linspace (punti linearmente spaziati) crea un array di numeri in virgola mobile che inizia da un punto, termina nel punto successivo e ha esattamente il numero di punti specificato con uguale spaziatura in mezzo. Ricorda che in uno spazio lineare si ha sempre la garanzia di raggiungere esattamente il punto di arresto, ma si ha il controllo diretto sulla dimensione del passo.\n",
        "* I comandi zero e uno creano serie di zeri o uni.\n",
        "* meshgrid costruisce due array che, una volta accoppiati, costituiscono le coppie ordinate per una griglia di punti mesh 2D (o D superiore)."
      ],
      "metadata": {
        "id": "tKQmsVhmNA_0"
      }
    },
    {
      "cell_type": "code",
      "source": [
        "x = np.arange(0,0.6,0.1)\n",
        "print(x)\n",
        "print(x.size)"
      ],
      "metadata": {
        "colab": {
          "base_uri": "https://localhost:8080/"
        },
        "id": "ua4z-b-fOKBk",
        "outputId": "8befc328-5555-4321-a6a2-3da27cf9e34a"
      },
      "execution_count": null,
      "outputs": [
        {
          "output_type": "stream",
          "name": "stdout",
          "text": [
            "[0.  0.1 0.2 0.3 0.4 0.5]\n",
            "6\n"
          ]
        }
      ]
    },
    {
      "cell_type": "code",
      "source": [
        "y = np.linspace(0,5,11)\n",
        "print(y)"
      ],
      "metadata": {
        "colab": {
          "base_uri": "https://localhost:8080/"
        },
        "id": "gJ2GDnxPOk1L",
        "outputId": "c43c4325-8550-47b7-b9de-844ba87c7ab4"
      },
      "execution_count": null,
      "outputs": [
        {
          "output_type": "stream",
          "name": "stdout",
          "text": [
            "[0.  0.5 1.  1.5 2.  2.5 3.  3.5 4.  4.5 5. ]\n"
          ]
        }
      ]
    },
    {
      "cell_type": "code",
      "source": [
        "z = np.zeros((3,5)) # create a 3x5 matrix of zeros\n",
        "print(z)"
      ],
      "metadata": {
        "colab": {
          "base_uri": "https://localhost:8080/"
        },
        "id": "1vh_Iy5ePAJO",
        "outputId": "d035d531-05f2-4c2e-f21e-b36af78c2c09"
      },
      "execution_count": null,
      "outputs": [
        {
          "output_type": "stream",
          "name": "stdout",
          "text": [
            "[[0. 0. 0. 0. 0.]\n",
            " [0. 0. 0. 0. 0.]\n",
            " [0. 0. 0. 0. 0.]]\n"
          ]
        }
      ]
    },
    {
      "cell_type": "code",
      "source": [
        "u = np.ones((3,5)) # create a 3x5 matrix of ones\n",
        "print(u)"
      ],
      "metadata": {
        "id": "K-mk1dVyPCYJ"
      },
      "execution_count": null,
      "outputs": []
    },
    {
      "cell_type": "code",
      "source": [
        "x, y = np.meshgrid( np.linspace(0,5,6) , np.linspace(0,5,6) )\n",
        "print(\"x = \", x)\n",
        "print(\"y = \", y)"
      ],
      "metadata": {
        "colab": {
          "base_uri": "https://localhost:8080/"
        },
        "id": "mmAVCFuDPCyq",
        "outputId": "fef49914-06e0-488a-fcbc-7a6d4669a57a"
      },
      "execution_count": null,
      "outputs": [
        {
          "output_type": "stream",
          "name": "stdout",
          "text": [
            "x =  [[0. 1. 2. 3. 4. 5.]\n",
            " [0. 1. 2. 3. 4. 5.]\n",
            " [0. 1. 2. 3. 4. 5.]\n",
            " [0. 1. 2. 3. 4. 5.]\n",
            " [0. 1. 2. 3. 4. 5.]\n",
            " [0. 1. 2. 3. 4. 5.]]\n",
            "y =  [[0. 0. 0. 0. 0. 0.]\n",
            " [1. 1. 1. 1. 1. 1.]\n",
            " [2. 2. 2. 2. 2. 2.]\n",
            " [3. 3. 3. 3. 3. 3.]\n",
            " [4. 4. 4. 4. 4. 4.]\n",
            " [5. 5. 5. 5. 5. 5.]]\n"
          ]
        }
      ]
    },
    {
      "cell_type": "markdown",
      "source": [
        "### Shape, dimension and size di un array\n",
        "\n",
        "Gli array numpy sono anche denominati \"ndarray\", che significa \"array N-dimensionale\". Un array N-dimensionale è semplicemente un array con un numero qualsiasi di dimensioni.\n",
        "La classe NumPy ndarray viene utilizzata per rappresentare sia matrici che vettori.\n",
        "* Un vettore è un array con una sola dimensione (non c'è differenza tra vettori di riga e di colonna),\n",
        "* una matrice si riferisce a un array con due dimensioni.\n",
        "* gli array tridimensionali o di dimensione superiore, vengono comunemente chiamati \"tensori\".\n",
        "\n",
        "Ricordiamo che:\n",
        "* ndarray.ndim restituisce il numero di assi, o dimensioni, dell'array.\n",
        "* ndarray.shape restituisce una tupla di numeri interi che indicano il numero di elementi memorizzati lungo ciascuna dimensione dell'array. Se, ad esempio, hai un array 2D con 2 righe e 3 colonne, la shape dell'array è (2, 3)\n",
        "* ndarray.size restituisce il numero totale di elementi dell'array. Questo è il prodotto degli elementi della shape dell'array (con l'esempio precedente avremmo size = 6).\n",
        "\n",
        "Se creiamo questo array:"
      ],
      "metadata": {
        "id": "2A7fqRys2mCM"
      }
    },
    {
      "cell_type": "code",
      "source": [
        "import numpy as np\n",
        "array_example = np.array([[[0, 1, 2, 3],\n",
        "                           [4, 5, 6, 7]],\n",
        "\n",
        "                          [[0, 1, 2, 3],\n",
        "                           [4, 5, 6, 7]],\n",
        "\n",
        "                          [[0 ,1 ,2, 3],\n",
        "                           [4, 5, 6, 7]]])"
      ],
      "metadata": {
        "id": "wOtCa1vq4DbX"
      },
      "execution_count": 1,
      "outputs": []
    },
    {
      "cell_type": "code",
      "source": [
        "# quale sarà la sua dimensione?\n",
        "array_example.ndim"
      ],
      "metadata": {
        "id": "D9ho-rud4QcB",
        "colab": {
          "base_uri": "https://localhost:8080/"
        },
        "outputId": "dfb1c52f-e534-4caa-afb8-57831c426bd0"
      },
      "execution_count": 2,
      "outputs": [
        {
          "output_type": "execute_result",
          "data": {
            "text/plain": [
              "3"
            ]
          },
          "metadata": {},
          "execution_count": 2
        }
      ]
    },
    {
      "cell_type": "code",
      "source": [
        "# quale sarà la sua size (il numero totale di elementi nell'array)?\n",
        "array_example.size"
      ],
      "metadata": {
        "id": "6jfg0rYF4Vjl",
        "colab": {
          "base_uri": "https://localhost:8080/"
        },
        "outputId": "19a35621-fd96-4b58-82c4-445f8224c383"
      },
      "execution_count": 3,
      "outputs": [
        {
          "output_type": "execute_result",
          "data": {
            "text/plain": [
              "24"
            ]
          },
          "metadata": {},
          "execution_count": 3
        }
      ]
    },
    {
      "cell_type": "code",
      "source": [
        "# quale sarà la sua forma?\n",
        "array_example.shape"
      ],
      "metadata": {
        "id": "9iS7-kqa4WBN",
        "colab": {
          "base_uri": "https://localhost:8080/"
        },
        "outputId": "aab22e79-4d7b-4acc-fca1-d91cc699ac10"
      },
      "execution_count": 4,
      "outputs": [
        {
          "output_type": "execute_result",
          "data": {
            "text/plain": [
              "(3, 2, 4)"
            ]
          },
          "metadata": {},
          "execution_count": 4
        }
      ]
    },
    {
      "cell_type": "markdown",
      "metadata": {
        "id": "P2l7TBR-ivyZ"
      },
      "source": [
        "## Lavorare con formule matematiche\n",
        "\n",
        "L'implementazione delle formule matematiche sugli array è un processo molto semplice con Numpy. Possiamo prendere ad esempio la formula della deviazione standard che discuteremo nel capitolo {ref}`loc-scale-notebook`:\n",
        "\n",
        "$$\n",
        "s = \\sqrt{\\sum_{i=1}^n\\frac{(x_i - \\bar{x})^2}{n}}\n",
        "$$\n",
        "\n",
        "L'implementazione su un array NumPy è la seguente:"
      ]
    },
    {
      "cell_type": "code",
      "execution_count": null,
      "metadata": {
        "id": "UIWWr75-ivyZ",
        "outputId": "ea6482cb-45a3-408b-eedf-e36f07b6e5a5"
      },
      "outputs": [
        {
          "data": {
            "text/plain": [
              "0.816496580927726"
            ]
          },
          "execution_count": 57,
          "metadata": {},
          "output_type": "execute_result"
        }
      ],
      "source": [
        "np.sqrt(np.sum((x - np.mean(x)) ** 2) / np.size(x))"
      ]
    },
    {
      "cell_type": "markdown",
      "metadata": {
        "id": "hMrrROvEivyZ"
      },
      "source": [
        "Questa implementazione funziona nello stesso modo sia che `x` contenga 3 elementi (come nel caso presente) sia che `x` contenga migliaia di elementi. È importante notare l'utilizzo delle parentesi tonde per specificare l'ordine di esecuzione delle operazioni. In particolare, nel codice fornito, si inizia calcolando la media degli elementi del vettore `x` per mezzo della funzione `np.mean(x)`. Questa operazione produce uno scalare, ovvero un singolo valore numerico che rappresenta la media degli elementi del vettore. L'utilizzo delle parentesi tonde è fondamentale per garantire l'ordine corretto delle operazioni. In questo caso, la funzione `np.mean()` viene applicata al vettore `x` prima di qualsiasi altra operazione matematica. Senza le parentesi tonde, le operazioni verrebbero eseguite in un ordine diverso e il risultato potrebbe essere errato."
      ]
    },
    {
      "cell_type": "markdown",
      "metadata": {
        "id": "oMLtHP3Oivyd"
      },
      "source": [
        "## Slicing\n",
        "\n",
        "Per concludere, spendiamo ancora alcune parole sull'indicizzazione degli `ndarray`.\n",
        "\n",
        "Slicing in Numpy è un meccanismo che consente di selezionare una porzione di un array multidimensionale, ovvero una sotto-matrice o un sotto-vettore. Per selezionare una porzione di un array, si utilizza la sintassi `[start:stop:step]`, dove `start` indica l'indice di partenza della porzione, `stop` indica l'indice di fine e `step` indica il passo da utilizzare per la selezione. Se uno o più di questi valori vengono omessi, vengono utilizzati dei valori di default.\n",
        "\n",
        "Ad esempio, se abbiamo un array `arr` di dimensione (3, 4) e vogliamo selezionare la seconda colonna, possiamo usare la sintassi  `arr[:, 1]`. In questo caso, il simbolo `:` indica che vogliamo selezionare tutte le righe, mentre il numero `1` indica che vogliamo selezionare la seconda colonna.\n",
        "\n",
        "Inoltre, possiamo utilizzare il meccanismo di slicing anche per selezionare porzioni di array multidimensionali. Ad esempio, se abbiamo un array `arr` di dimensione (3, 4, 5) e vogliamo selezionare la prima riga di ciascuna matrice 4x5, possiamo usare la sintassi `arr[:, 0, :]`."
      ]
    },
    {
      "cell_type": "markdown",
      "metadata": {
        "id": "kgs8KjPMivyd"
      },
      "source": [
        "Per esempio, creiamo l'array `a`  di rank 2 con shape (3, 4):"
      ]
    },
    {
      "cell_type": "code",
      "execution_count": null,
      "metadata": {
        "id": "90efdqeZivyd",
        "outputId": "618e5c32-d0f6-45f7-fdde-fe49fa22dfc2"
      },
      "outputs": [
        {
          "data": {
            "text/plain": [
              "array([[ 1,  2,  3,  4],\n",
              "       [ 5,  6,  7,  8],\n",
              "       [ 9, 10, 11, 12]])"
            ]
          },
          "execution_count": 10,
          "metadata": {},
          "output_type": "execute_result"
        }
      ],
      "source": [
        "a = np.array([[1, 2, 3, 4], [5, 6, 7, 8], [9, 10, 11, 12]])\n",
        "a"
      ]
    },
    {
      "cell_type": "markdown",
      "metadata": {
        "id": "HCkM_dWKivye"
      },
      "source": [
        "Utilizziamo il meccanismo di slicing per estrarre la sottomatrice composta dalle prime 2 righe e dalle colonne di indice 1 e 2. `b` è l'array risultante di dimensione (2, 2):"
      ]
    },
    {
      "cell_type": "code",
      "execution_count": null,
      "metadata": {
        "id": "35Yiw6nEivye",
        "outputId": "ae408ce1-e2cd-4739-a699-a809dd7efd61"
      },
      "outputs": [
        {
          "data": {
            "text/plain": [
              "array([[2, 3],\n",
              "       [6, 7]])"
            ]
          },
          "execution_count": 11,
          "metadata": {},
          "output_type": "execute_result"
        }
      ],
      "source": [
        "b = a[:2, 1:3]\n",
        "b"
      ]
    },
    {
      "cell_type": "markdown",
      "metadata": {
        "id": "dqQnakslivye"
      },
      "source": [
        "È importante sapere che uno slice di un array in Numpy è una vista degli stessi dati, il che significa che modificarlo implica la modifica dell'array originale. In pratica, quando si modifica uno slice di un array, si sta modificando direttamente l'array originale e tutte le altre visualizzazioni dell'array vedranno la stessa modifica. Questo avviene perché Numpy è progettato per gestire enormi quantità di dati, pertanto cerca di evitare il più possibile di effettuare copie dei dati.\n",
        "\n",
        "Questo comportamento deve essere preso in considerazione durante la modifica degli array in Numpy, al fine di evitare modifiche accidentali o indesiderate. In alcuni casi, è possibile utilizzare il metodo `copy()` per creare una copia indipendente di un array e lavorare sulla copia senza modificare l'originale. Vediamo un esempio."
      ]
    },
    {
      "cell_type": "code",
      "execution_count": null,
      "metadata": {
        "id": "p2JzXJvhivye",
        "outputId": "d465302d-e18d-4ce2-b9be-2908fe52519b"
      },
      "outputs": [
        {
          "name": "stdout",
          "output_type": "stream",
          "text": [
            "2\n"
          ]
        }
      ],
      "source": [
        "print(a[0, 1])\n"
      ]
    },
    {
      "cell_type": "code",
      "execution_count": null,
      "metadata": {
        "id": "bhsYtXgSivye"
      },
      "outputs": [],
      "source": [
        "b[0, 0] = 77\n"
      ]
    },
    {
      "cell_type": "code",
      "execution_count": null,
      "metadata": {
        "id": "KeZd1wVvivyf",
        "outputId": "9a02b49e-58cf-4be5-e0c5-e34df5926c01"
      },
      "outputs": [
        {
          "name": "stdout",
          "output_type": "stream",
          "text": [
            "[[ 1 77  3  4]\n",
            " [ 5  6  7  8]\n",
            " [ 9 10 11 12]]\n"
          ]
        }
      ],
      "source": [
        "print(a)"
      ]
    },
    {
      "cell_type": "code",
      "execution_count": null,
      "metadata": {
        "id": "ZCGMKmUwivyf",
        "outputId": "5271e961-08c7-4f07-8b2e-91938849d4b5"
      },
      "outputs": [
        {
          "data": {
            "text/plain": [
              "array([[ 1, 77,  3,  4],\n",
              "       [ 5,  6,  7,  8],\n",
              "       [ 9, 10, 11, 12]])"
            ]
          },
          "execution_count": 8,
          "metadata": {},
          "output_type": "execute_result"
        }
      ],
      "source": [
        "c = a.copy()\n",
        "c"
      ]
    },
    {
      "cell_type": "code",
      "execution_count": null,
      "metadata": {
        "id": "17k6DT7Aivyf",
        "outputId": "0ebbfaec-ee41-4394-834f-e795c83579e0"
      },
      "outputs": [
        {
          "data": {
            "text/plain": [
              "array([[ 1, 33,  3,  4],\n",
              "       [ 5,  6,  7,  8],\n",
              "       [ 9, 10, 11, 12]])"
            ]
          },
          "execution_count": 16,
          "metadata": {},
          "output_type": "execute_result"
        }
      ],
      "source": [
        "c[0, 1] = 33\n",
        "c"
      ]
    },
    {
      "cell_type": "code",
      "execution_count": null,
      "metadata": {
        "id": "QUWGNUEXivyf",
        "outputId": "8f1694e0-590b-4a99-8d02-8488b3480775"
      },
      "outputs": [
        {
          "data": {
            "text/plain": [
              "array([[ 1, 77,  3,  4],\n",
              "       [ 5,  6,  7,  8],\n",
              "       [ 9, 10, 11, 12]])"
            ]
          },
          "execution_count": 18,
          "metadata": {},
          "output_type": "execute_result"
        }
      ],
      "source": [
        "a"
      ]
    },
    {
      "cell_type": "markdown",
      "source": [
        "## Esempio: Operazioni su array\n",
        "\n",
        "Come abbiamo sottolineato, il difetto delle liste Python è che non si comportano bene quando vogliamo applicare funzioni matematiche al vettore nel suo insieme.\n",
        "Un array numpy, è essenzialmente uguale a un elenco Python con le seguenti particolarità:\n",
        "* in un array numpy ogni elemento è un numero in virgola mobile\n",
        "* in un array numpy l'utilizzo della memoria è più efficiente\n",
        "* con un array Numpy ci sono funzioni già pronte che possono agire direttamente sull'array trattandolo come una matrice o un vettore"
      ],
      "metadata": {
        "id": "5vVbEhec0wgv"
      }
    },
    {
      "cell_type": "markdown",
      "source": [
        "Definiamo una matrice A e i vettori v, w tali che:\n",
        "![image.png](data:image/png;base64,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)\n",
        "\n",
        "Vogliamo determinare:\n",
        "* la dimensione e la shape di questi array\n",
        "* Estrarre singoli elementi, righe e colonne da questi array\n",
        "* Utilizzare questi array come faremmo in algebra lineare per\n",
        "  * fare la moltiplicazione per elemento\n",
        "  * creare una matrice per i prodotti vettoriali\n",
        "  * fare il prodotto scalare\n",
        "  * fare la trasposizione delle matrici\n",
        "  * fare l'inverso delle matrici"
      ],
      "metadata": {
        "id": "hk-jt8kJ8sRj"
      }
    },
    {
      "cell_type": "code",
      "source": [
        "import numpy as np\n",
        "A = np.array([[1,2],[3,4]])\n",
        "print(\"The matrix A is:\\n\",A)\n",
        "v = np.array([[5],[6]]) # this creates a column vector\n",
        "print(\"The vector v is:\\n\",v)\n",
        "w = np.array([5,6]) # this creates a row vector\n",
        "print(\"The vector w is:\\n\",w)"
      ],
      "metadata": {
        "id": "1v1YjIgY8hHU"
      },
      "execution_count": null,
      "outputs": []
    },
    {
      "cell_type": "markdown",
      "source": [
        "## Il comando variable.shape\n",
        "\n",
        "Restituisce la shape di un numpy array, ovvero una tupla che mostra la size(rows, columns)"
      ],
      "metadata": {
        "id": "8GezznJyAxHw"
      }
    },
    {
      "cell_type": "code",
      "source": [
        "import numpy as np\n",
        "A = np.array([[1,2],[3,4]])\n",
        "print(A.shape) # Shape of the matrix A\n",
        "v = np.array([[5],[6]])\n",
        "print(v.shape) # Shape of the column vector v\n",
        "w = np.array([5,6])\n",
        "print(w.shape) # Shape of the row vector w"
      ],
      "metadata": {
        "colab": {
          "base_uri": "https://localhost:8080/"
        },
        "id": "H2W2GrM-AvzD",
        "outputId": "0dfee967-0a2e-4b72-cd76-90e5b7f4280e"
      },
      "execution_count": 5,
      "outputs": [
        {
          "output_type": "stream",
          "name": "stdout",
          "text": [
            "(2, 2)\n",
            "(2, 1)\n",
            "(2,)\n"
          ]
        }
      ]
    },
    {
      "cell_type": "markdown",
      "source": [
        "## Il comando variable.size\n",
        "\n",
        "Restituisce la size di un numpy array, ovvero il numero totale di elementi dell'array."
      ],
      "metadata": {
        "id": "kcPtvV7IEuaD"
      }
    },
    {
      "cell_type": "code",
      "source": [
        "import numpy as np\n",
        "A = np.array([[1,2],[3,4]])\n",
        "v = np.array([[5],[6]])\n",
        "w = np.array([5,6])\n",
        "print(A.size) # Size (number of elements) of A\n",
        "print(v.size) # Size (number of elements) of v\n",
        "print(w.size) # Size (number of elements) of w"
      ],
      "metadata": {
        "id": "Y8B3W5MzE7hI",
        "colab": {
          "base_uri": "https://localhost:8080/"
        },
        "outputId": "9fa8739d-cf3c-4e9a-8e2f-947a34f8f7d7"
      },
      "execution_count": null,
      "outputs": [
        {
          "output_type": "stream",
          "name": "stdout",
          "text": [
            "4\n",
            "2\n",
            "2\n"
          ]
        }
      ]
    },
    {
      "cell_type": "markdown",
      "source": [
        "## Dagli array alle matrici\n",
        "\n",
        "* Cosa succede se moltiplichiamo A per se stessa?\n",
        "* Cosa succede se moltiplichiamo A per v?\n",
        "\n",
        "In entrambi i casi, NON stiamo effettuando la moltiplicazione tra matrici, ma banalmente la moltiplicazione elemento per elemento."
      ],
      "metadata": {
        "id": "5LKLfFogHhi_"
      }
    },
    {
      "cell_type": "code",
      "source": [
        "# Nota bene che fare A*A non è come fare A*A con la moltiplicazione tra matrici.\n",
        "A = np.array([[1,2],[3,4]])\n",
        "v = np.array([[5],[6]])\n",
        "print(A * A)\n",
        "print(A * v)"
      ],
      "metadata": {
        "colab": {
          "base_uri": "https://localhost:8080/"
        },
        "id": "zaKt0p5yH6oH",
        "outputId": "6acaa3d3-02c9-4666-a6e9-b82d4463866b"
      },
      "execution_count": 6,
      "outputs": [
        {
          "output_type": "stream",
          "name": "stdout",
          "text": [
            "[[ 1  4]\n",
            " [ 9 16]]\n",
            "[[ 5 10]\n",
            " [18 24]]\n"
          ]
        }
      ]
    },
    {
      "cell_type": "markdown",
      "source": [
        " Quindi come fare? Se dichiariamo questi array come matrici, possiamo far sì che si comportino come ci aspetteremmo dall'algebra lineare."
      ],
      "metadata": {
        "id": "6ytmYOXcIPRd"
      }
    },
    {
      "cell_type": "code",
      "source": [
        "A = np.matrix([[1,2],[3,4]])\n",
        "v = np.matrix([[5],[6]])\n",
        "w = np.matrix([5,6])\n",
        "print(\"The product A*A is:\\n\",A*A)\n",
        "print(\"The product A*v is:\\n\",A*v)\n",
        "print(\"The product w*A is:\\n\",w*A)\n"
      ],
      "metadata": {
        "colab": {
          "base_uri": "https://localhost:8080/"
        },
        "id": "Cfc6D7d1Idel",
        "outputId": "2889d58e-9863-4ab1-e42b-df63eaa10ff8"
      },
      "execution_count": null,
      "outputs": [
        {
          "output_type": "stream",
          "name": "stdout",
          "text": [
            "The product A*A is:\n",
            " [[ 7 10]\n",
            " [15 22]]\n",
            "The product A*v is:\n",
            " [[17]\n",
            " [39]]\n",
            "The product w*A is:\n",
            " [[23 34]]\n"
          ]
        }
      ]
    },
    {
      "cell_type": "markdown",
      "source": [
        "## Trasposzione, inversione, determinanti e traccia"
      ],
      "metadata": {
        "id": "uoGKy8HqKnq1"
      }
    },
    {
      "cell_type": "markdown",
      "source": [
        "### Trasposta di una matrice\n",
        "\n",
        "La trasposizione di una matrice (scambio di righe e colonne) viene eseguita con il comando matrice.T"
      ],
      "metadata": {
        "id": "CyHGC7bcKyNE"
      }
    },
    {
      "cell_type": "code",
      "source": [
        "A = np.matrix([[1,2],[3,4]])\n",
        "print(A.T) # The transpose is relatively simple"
      ],
      "metadata": {
        "colab": {
          "base_uri": "https://localhost:8080/"
        },
        "id": "Hs5b76IvKv4c",
        "outputId": "35bc0bad-5347-44a5-9f58-6fcc3fa85c62"
      },
      "execution_count": null,
      "outputs": [
        {
          "output_type": "stream",
          "name": "stdout",
          "text": [
            "[[1 3]\n",
            " [2 4]]\n"
          ]
        }
      ]
    },
    {
      "cell_type": "markdown",
      "source": [
        "### Inversa di una matrice\n",
        "\n",
        "L'inversa di una matrice quadrata viene eseguita con il comando A.I"
      ],
      "metadata": {
        "id": "xLUigLZLLFXs"
      }
    },
    {
      "cell_type": "code",
      "source": [
        "A = np.matrix([[1,2],[3,4]])\n",
        "Ainv = A.I # Taking the inverse is also pretty simple\n",
        "print(Ainv)\n",
        "print(A * Ainv) # check that we get the identity matrix back"
      ],
      "metadata": {
        "colab": {
          "base_uri": "https://localhost:8080/"
        },
        "id": "l83pfvvuLSXt",
        "outputId": "c3908556-b886-432e-bf79-e6e6bac1433d"
      },
      "execution_count": null,
      "outputs": [
        {
          "output_type": "stream",
          "name": "stdout",
          "text": [
            "[[-2.   1. ]\n",
            " [ 1.5 -0.5]]\n",
            "[[1.0000000e+00 0.0000000e+00]\n",
            " [8.8817842e-16 1.0000000e+00]]\n"
          ]
        }
      ]
    },
    {
      "cell_type": "markdown",
      "source": [
        "### Determinante di una matrice\n",
        "\n",
        "Il determinante di una matrice viene chiamato con il comando det nel subpackage linalg."
      ],
      "metadata": {
        "id": "_MOSDuioLeS2"
      }
    },
    {
      "cell_type": "code",
      "source": [
        "A = np.matrix([[1,2],[3,4]])\n",
        "# The determinant is inside the numpy.linalg package\n",
        "print(np.linalg.det(A))"
      ],
      "metadata": {
        "colab": {
          "base_uri": "https://localhost:8080/"
        },
        "id": "eaFkIx5XLxSx",
        "outputId": "c7964234-10f9-4f27-db41-e1a216ed925b"
      },
      "execution_count": null,
      "outputs": [
        {
          "output_type": "stream",
          "name": "stdout",
          "text": [
            "-2.0000000000000004\n"
          ]
        }
      ]
    },
    {
      "cell_type": "markdown",
      "source": [
        "### Traccia di una matrice\n",
        "\n",
        "La traccia di una matrice quadrata (somma degli elementi presenti sulla diagonale) si calcola con il comando matrix.trace()"
      ],
      "metadata": {
        "id": "bkbPRXEyL8S7"
      }
    },
    {
      "cell_type": "code",
      "source": [
        "import numpy as np\n",
        "A = np.matrix([[1,2],[3,4]])\n",
        "print(A.trace())"
      ],
      "metadata": {
        "id": "qkZdFSgtMGdJ"
      },
      "execution_count": null,
      "outputs": []
    },
    {
      "cell_type": "markdown",
      "source": [
        "## Esercizio\n",
        "\n",
        "Dati la seguente matrice B e vettore u:\n",
        "\n",
        "![image.png](data:image/png;base64,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)\n",
        "\n",
        "calcolare:\n",
        "* Bu\n",
        "* B*B\n",
        "* Size e shape di B\n",
        "* BT*u\n",
        "* Il prodotto elemento-per-elemento di B con se stesso\n",
        "* Il prodotto scalare di u con la prima riga di B"
      ],
      "metadata": {
        "id": "AzYHRjqLMKoE"
      }
    },
    {
      "cell_type": "markdown",
      "metadata": {
        "id": "rBLj81oeivyf"
      },
      "source": [
        "## Esempi"
      ]
    },
    {
      "cell_type": "markdown",
      "metadata": {
        "id": "WkKfAq3nivyg"
      },
      "source": [
        "**Esercizio 1.** Creare un vettore nullo di dimensione 10 ma con il quinto valore che è 1."
      ]
    },
    {
      "cell_type": "code",
      "execution_count": null,
      "metadata": {
        "id": "d8eIkTJMivyg",
        "outputId": "be24c5f2-5744-4597-9878-cc05207e7466"
      },
      "outputs": [
        {
          "name": "stdout",
          "output_type": "stream",
          "text": [
            "[0. 0. 0. 0. 1. 0. 0. 0. 0. 0.]\n"
          ]
        }
      ],
      "source": [
        "Z = np.zeros(10)\n",
        "Z[4] = 1\n",
        "print(Z)"
      ]
    },
    {
      "cell_type": "markdown",
      "metadata": {
        "id": "-VESa8jFivyg"
      },
      "source": [
        "**Esercizio 2.** Creare un vettore con valori compresi tra 10 e 49."
      ]
    },
    {
      "cell_type": "code",
      "execution_count": null,
      "metadata": {
        "id": "7-o_uar9ivyg",
        "outputId": "069cb25b-ddc8-450f-9d1f-b77e095fad60"
      },
      "outputs": [
        {
          "name": "stdout",
          "output_type": "stream",
          "text": [
            "[10 11 12 13 14 15 16 17 18 19 20 21 22 23 24 25 26 27 28 29 30 31 32 33\n",
            " 34 35 36 37 38 39 40 41 42 43 44 45 46 47 48 49]\n"
          ]
        }
      ],
      "source": [
        "Z = np.arange(10,50)\n",
        "print(Z)"
      ]
    },
    {
      "cell_type": "markdown",
      "metadata": {
        "id": "Fur8VX4Iivyg"
      },
      "source": [
        "**Esercizio 3.** Invertire un vettore (il primo elemento diventa l'ultimo)."
      ]
    },
    {
      "cell_type": "code",
      "execution_count": null,
      "metadata": {
        "id": "aTV7TnTMivyg",
        "outputId": "4c5eee8e-2f99-42b0-f86e-317703e1485d"
      },
      "outputs": [
        {
          "name": "stdout",
          "output_type": "stream",
          "text": [
            "[49 48 47 46 45 44 43 42 41 40 39 38 37 36 35 34 33 32 31 30 29 28 27 26\n",
            " 25 24 23 22 21 20 19 18 17 16 15 14 13 12 11 10  9  8  7  6  5  4  3  2\n",
            "  1  0]\n"
          ]
        }
      ],
      "source": [
        "Z = np.arange(50)\n",
        "Z = Z[::-1]\n",
        "print(Z)"
      ]
    },
    {
      "cell_type": "markdown",
      "metadata": {
        "id": "eL67hjv7ivyh"
      },
      "source": [
        "**Esercizio 4.** Trovare gli indici degli elementi non zero di [1, 2, 0, 0, 4, s0]."
      ]
    },
    {
      "cell_type": "code",
      "execution_count": null,
      "metadata": {
        "id": "rua1QD-Eivyh",
        "outputId": "8b572c47-0628-4b19-d4cb-10cff9dba061"
      },
      "outputs": [
        {
          "name": "stdout",
          "output_type": "stream",
          "text": [
            "(array([0, 1, 4]),)\n"
          ]
        }
      ],
      "source": [
        "nz = np.nonzero([1, 2, 0, 0, 4, 0])\n",
        "print(nz)\n"
      ]
    },
    {
      "cell_type": "markdown",
      "metadata": {
        "id": "bJcBwH21ivyh"
      },
      "source": [
        "**Esercizio 5.** Crearere un array 10x10 con valori casuali e trovare i valori minimo e massimo."
      ]
    },
    {
      "cell_type": "code",
      "execution_count": null,
      "metadata": {
        "id": "gmVPUEwrivyh",
        "outputId": "f7758687-932a-467d-8b95-a5edfd0d9b52"
      },
      "outputs": [
        {
          "data": {
            "text/plain": [
              "array([[0.5685575 , 0.69636659, 0.64022512, 0.18048263, 0.13003005,\n",
              "        0.26901371, 0.4772437 , 0.4769572 , 0.04804521, 0.23366172],\n",
              "       [0.94429468, 0.30112589, 0.23197319, 0.07213835, 0.6956314 ,\n",
              "        0.60531729, 0.85947968, 0.47405032, 0.86539985, 0.73246051],\n",
              "       [0.45533952, 0.45685126, 0.04109035, 0.91367378, 0.5628784 ,\n",
              "        0.6369554 , 0.12771523, 0.18070776, 0.10579391, 0.14564602],\n",
              "       [0.49926189, 0.94587924, 0.33946577, 0.86154299, 0.58716885,\n",
              "        0.5443769 , 0.29076241, 0.85826184, 0.64535182, 0.13931905],\n",
              "       [0.78909508, 0.80907071, 0.0663825 , 0.94142796, 0.51658768,\n",
              "        0.90763672, 0.71235046, 0.87174129, 0.57212519, 0.04660884],\n",
              "       [0.56297718, 0.36683633, 0.12188508, 0.49030984, 0.79648651,\n",
              "        0.80447808, 0.1576028 , 0.49134277, 0.42336382, 0.65374928],\n",
              "       [0.28757164, 0.09383478, 0.18631261, 0.44401181, 0.71575746,\n",
              "        0.51517201, 0.42200856, 0.32598885, 0.5825556 , 0.14620881],\n",
              "       [0.79809551, 0.37781001, 0.60593876, 0.6056221 , 0.48678724,\n",
              "        0.01412622, 0.4663643 , 0.84134671, 0.63356079, 0.83892802],\n",
              "       [0.57954734, 0.53041795, 0.40508076, 0.39035305, 0.18280698,\n",
              "        0.05349078, 0.85592861, 0.0730432 , 0.12503114, 0.10909618],\n",
              "       [0.36009449, 0.59910492, 0.78258157, 0.76945127, 0.27823791,\n",
              "        0.34033089, 0.54545971, 0.66820139, 0.70841744, 0.50924313]])"
            ]
          },
          "execution_count": 7,
          "metadata": {},
          "output_type": "execute_result"
        }
      ],
      "source": [
        "Z = np.random.random((10,10))\n",
        "Z"
      ]
    },
    {
      "cell_type": "code",
      "execution_count": null,
      "metadata": {
        "id": "ZC2Zt0zkivyh",
        "outputId": "332a74a8-7829-4287-97cc-21f38d7a16ae"
      },
      "outputs": [
        {
          "name": "stdout",
          "output_type": "stream",
          "text": [
            "0.014126219711838917 0.9458792375201415\n"
          ]
        }
      ],
      "source": [
        "Zmin, Zmax = Z.min(), Z.max()\n",
        "print(Zmin, Zmax)"
      ]
    },
    {
      "cell_type": "markdown",
      "metadata": {
        "id": "PW8OcKrrivyi"
      },
      "source": [
        "**Esercizio 6.** Creare un vettore casuale di dimensione 30 e trovare il valore medio."
      ]
    },
    {
      "cell_type": "code",
      "execution_count": null,
      "metadata": {
        "id": "ccL9qI_9ivyi",
        "outputId": "78a1c759-1faa-4738-d8c5-10579ae53d9e"
      },
      "outputs": [
        {
          "data": {
            "text/plain": [
              "array([0.21512521, 0.51578555, 0.31608444, 0.68072781, 0.24529922,\n",
              "       0.98913366, 0.34217569, 0.06336222, 0.92569309, 0.58279927,\n",
              "       0.49893157, 0.25473186, 0.2597414 , 0.57216762, 0.28774702,\n",
              "       0.56549581, 0.42810302, 0.12181564, 0.84560182, 0.73731621,\n",
              "       0.40034753, 0.33765781, 0.40942202, 0.19661314, 0.33597455,\n",
              "       0.08904976, 0.15738579, 0.8653456 , 0.58520359, 0.43406823])"
            ]
          },
          "execution_count": 10,
          "metadata": {},
          "output_type": "execute_result"
        }
      ],
      "source": [
        "Z = np.random.random(30)\n",
        "Z"
      ]
    },
    {
      "cell_type": "code",
      "execution_count": null,
      "metadata": {
        "id": "rSiYBfxvivyi",
        "outputId": "c50bde9a-452a-48c8-8b9d-719f8edbcbbd"
      },
      "outputs": [
        {
          "name": "stdout",
          "output_type": "stream",
          "text": [
            "0.4419635384983452\n"
          ]
        }
      ],
      "source": [
        "m = Z.mean()\n",
        "print(m)"
      ]
    },
    {
      "cell_type": "markdown",
      "metadata": {
        "id": "492xTFoRivyi"
      },
      "source": [
        "**Esercizio 7.** Dato un array 1D, negare tutti gli elementi compresi tra 3 e 8, inplace."
      ]
    },
    {
      "cell_type": "code",
      "execution_count": null,
      "metadata": {
        "id": "cYWJJH7Pivyi",
        "outputId": "c7c65199-103c-48a0-9c25-259b7f7e1104"
      },
      "outputs": [
        {
          "name": "stdout",
          "output_type": "stream",
          "text": [
            "[ 0  1  2  3 -4 -5 -6 -7  8  9 10]\n"
          ]
        }
      ],
      "source": [
        "Z = np.arange(11)\n",
        "Z[(3 < Z) & (Z < 8)] *= -1\n",
        "print(Z)"
      ]
    },
    {
      "cell_type": "markdown",
      "metadata": {
        "id": "LOE8YojQivyi"
      },
      "source": [
        "Qual è l'output di `print(sum(range(5),-1))`?"
      ]
    },
    {
      "cell_type": "code",
      "execution_count": null,
      "metadata": {
        "id": "8BTLbtWUivyj",
        "outputId": "ff9e9744-5d14-45e7-dc38-3a666ea82763"
      },
      "outputs": [
        {
          "name": "stdout",
          "output_type": "stream",
          "text": [
            "9\n"
          ]
        }
      ],
      "source": [
        "print(sum(range(5),-1))"
      ]
    },
    {
      "cell_type": "markdown",
      "metadata": {
        "id": "Fg2HsXkfivyj"
      },
      "source": [
        "**Esercizio 8.** Creare un vettore casuale di dimensione 10 e sostituire il valore massimo con 0."
      ]
    },
    {
      "cell_type": "code",
      "execution_count": null,
      "metadata": {
        "id": "PIxEOefgivyj",
        "outputId": "eebd767f-b41c-4a1a-bab4-1a52909e62dc"
      },
      "outputs": [
        {
          "name": "stdout",
          "output_type": "stream",
          "text": [
            "[0.55369039 0.         0.73596212 0.82615362 0.07627594 0.72269315\n",
            " 0.79729252 0.87911747 0.88345883 0.24151695]\n"
          ]
        }
      ],
      "source": [
        "Z = np.random.random(10)\n",
        "Z[Z.argmax()] = 0\n",
        "print(Z)\n"
      ]
    },
    {
      "cell_type": "markdown",
      "metadata": {
        "id": "LITKhlCPivyk"
      },
      "source": [
        "**Esercizio 9.** Trovare il valore più vicino (a uno scalare dato) in un vettore."
      ]
    },
    {
      "cell_type": "code",
      "execution_count": null,
      "metadata": {
        "id": "3WprMqpkivyk",
        "outputId": "73d969a3-5444-4159-c4bf-d2362c55c55f"
      },
      "outputs": [
        {
          "data": {
            "text/plain": [
              "array([ 0,  1,  2,  3,  4,  5,  6,  7,  8,  9, 10, 11, 12, 13, 14, 15, 16,\n",
              "       17, 18, 19, 20, 21, 22, 23, 24, 25, 26, 27, 28, 29, 30, 31, 32, 33,\n",
              "       34, 35, 36, 37, 38, 39, 40, 41, 42, 43, 44, 45, 46, 47, 48, 49, 50,\n",
              "       51, 52, 53, 54, 55, 56, 57, 58, 59, 60, 61, 62, 63, 64, 65, 66, 67,\n",
              "       68, 69, 70, 71, 72, 73, 74, 75, 76, 77, 78, 79, 80, 81, 82, 83, 84,\n",
              "       85, 86, 87, 88, 89, 90, 91, 92, 93, 94, 95, 96, 97, 98, 99])"
            ]
          },
          "execution_count": 21,
          "metadata": {},
          "output_type": "execute_result"
        }
      ],
      "source": [
        "Z = np.arange(100)\n",
        "Z"
      ]
    },
    {
      "cell_type": "code",
      "execution_count": null,
      "metadata": {
        "id": "iKeejfheivyk",
        "outputId": "af84caf2-7fc0-4f76-b6c5-e7d2c328d83c"
      },
      "outputs": [
        {
          "data": {
            "text/plain": [
              "56.79171600223777"
            ]
          },
          "execution_count": 23,
          "metadata": {},
          "output_type": "execute_result"
        }
      ],
      "source": [
        "v = np.random.uniform(0, 100)\n",
        "v"
      ]
    },
    {
      "cell_type": "code",
      "execution_count": null,
      "metadata": {
        "id": "BVytQLjPivyl",
        "outputId": "197d26f9-67c8-4537-d5bf-e6b4f25d338f"
      },
      "outputs": [
        {
          "name": "stdout",
          "output_type": "stream",
          "text": [
            "57\n"
          ]
        }
      ],
      "source": [
        "index = (np.abs(Z - v)).argmin()\n",
        "print(Z[index])\n"
      ]
    },
    {
      "cell_type": "markdown",
      "metadata": {
        "id": "PlV_iwmlivyl"
      },
      "source": [
        "**Esercizio 10.** Convertire tutti gli elementi di un array numpy da float a integer."
      ]
    },
    {
      "cell_type": "code",
      "execution_count": null,
      "metadata": {
        "id": "-lLZHFWNivyl",
        "outputId": "4bacfec5-0602-44b3-cfcf-91b0be90c0bb"
      },
      "outputs": [
        {
          "name": "stdout",
          "output_type": "stream",
          "text": [
            "[[2 3 1]\n",
            " [4 2 1]]\n"
          ]
        }
      ],
      "source": [
        "a = np.array([[2.5, 3.8, 1.5], [4.7, 2.9, 1.56]])\n",
        "\n",
        "o = a.astype(\"int\")\n",
        "\n",
        "print(o)\n"
      ]
    },
    {
      "cell_type": "markdown",
      "metadata": {
        "id": "r25ScMFlivyl"
      },
      "source": [
        "**Esercizio 11.** Convertire un array numpy binario (contenente solo 0 e 1) in un array numpy booleano."
      ]
    },
    {
      "cell_type": "code",
      "execution_count": null,
      "metadata": {
        "id": "NRg0Ga5Civyl",
        "outputId": "e5dcb6d9-6e0e-49c7-d967-1bd87f823b27"
      },
      "outputs": [
        {
          "name": "stdout",
          "output_type": "stream",
          "text": [
            "[[ True False False]\n",
            " [ True  True  True]\n",
            " [False False False]]\n"
          ]
        }
      ],
      "source": [
        "a = np.array([[1, 0, 0], [1, 1, 1], [0, 0, 0]])\n",
        "\n",
        "o = a.astype(\"bool\")\n",
        "\n",
        "print(o)\n"
      ]
    },
    {
      "cell_type": "markdown",
      "metadata": {
        "id": "h8uJogopivyl"
      },
      "source": [
        "**Esercizio 12.** Unire orizzontalmente due array numpy aventi la stessa prima dimensione (cioè lo stesso numero di righe negli array 2D)."
      ]
    },
    {
      "cell_type": "code",
      "execution_count": null,
      "metadata": {
        "id": "4G_Po_NOivym",
        "outputId": "fcd6e935-5035-42d0-a23f-c14759f68d16"
      },
      "outputs": [
        {
          "name": "stdout",
          "output_type": "stream",
          "text": [
            "[[ 1  2  3  7  8  9]\n",
            " [ 4  5  6 10 11 12]]\n"
          ]
        }
      ],
      "source": [
        "a1 = np.array([[1, 2, 3], [4, 5, 6]])\n",
        "\n",
        "a2 = np.array([[7, 8, 9], [10, 11, 12]])\n",
        "\n",
        "o = np.hstack((a1, a2))\n",
        "\n",
        "print(o)\n"
      ]
    },
    {
      "cell_type": "markdown",
      "metadata": {
        "id": "oRaEnsaCivym"
      },
      "source": [
        "**Esercizio 13.** Dati due array numpy, estrarre gli indici in cui gli elementi nei due array corrispondono."
      ]
    },
    {
      "cell_type": "code",
      "execution_count": null,
      "metadata": {
        "id": "hkGZdHlQivym",
        "outputId": "943ca68e-af20-4a6b-990f-151cea50b354"
      },
      "outputs": [
        {
          "name": "stdout",
          "output_type": "stream",
          "text": [
            "(array([0, 3, 4]),)\n"
          ]
        }
      ],
      "source": [
        "a = np.array([1, 2, 3, 4, 5])\n",
        "\n",
        "b = np.array([1, 3, 2, 4, 5])\n",
        "\n",
        "print(np.where(a == b))\n"
      ]
    },
    {
      "cell_type": "markdown",
      "metadata": {
        "id": "Z0N3FpRqivym"
      },
      "source": [
        "**Esercizio 14.** Generare un array ripetendo un array più piccolo di 2 dimensioni 10 volte."
      ]
    },
    {
      "cell_type": "code",
      "execution_count": null,
      "metadata": {
        "id": "OcH6QfgAivym",
        "outputId": "98aa6a2e-795d-4e8a-90da-b80e68792d49"
      },
      "outputs": [
        {
          "name": "stdout",
          "output_type": "stream",
          "text": [
            "[[1 2 3 1 2 3 1 2 3 1 2 3 1 2 3 1 2 3 1 2 3 1 2 3 1 2 3 1 2 3]\n",
            " [4 5 6 4 5 6 4 5 6 4 5 6 4 5 6 4 5 6 4 5 6 4 5 6 4 5 6 4 5 6]]\n"
          ]
        }
      ],
      "source": [
        "a = np.array([[1, 2, 3], [4, 5, 6]])\n",
        "\n",
        "o = np.tile(a, 10)\n",
        "\n",
        "print(o)\n"
      ]
    },
    {
      "cell_type": "markdown",
      "metadata": {
        "id": "V2bMUwuCivym"
      },
      "source": [
        "**Esercizio 15.** Generare un array 5x5 di interi casuali compresi tra 0 (incluso) e 10 (escluso)."
      ]
    },
    {
      "cell_type": "code",
      "execution_count": null,
      "metadata": {
        "id": "kaCsryHdivym",
        "outputId": "5d348308-7fc0-4bdc-af9b-e134d63af396"
      },
      "outputs": [
        {
          "name": "stdout",
          "output_type": "stream",
          "text": [
            "[[2 2 6 1 3]\n",
            " [9 6 1 0 1]\n",
            " [9 0 0 9 3]\n",
            " [4 0 0 4 1]\n",
            " [7 3 2 4 7]]\n"
          ]
        }
      ],
      "source": [
        "np.random.seed(123)  # setting the seed\n",
        "\n",
        "o = np.random.randint(0, 10, size=(5, 5))\n",
        "\n",
        "print(o)\n"
      ]
    },
    {
      "cell_type": "markdown",
      "metadata": {
        "id": "-A1qd4oqivyn"
      },
      "source": [
        "**Esercizio 16.** Verificare se uno qualsiasi degli elementi di un array dato è diverso da zero."
      ]
    },
    {
      "cell_type": "code",
      "execution_count": null,
      "metadata": {
        "id": "RFHFQlOtivyn",
        "outputId": "d389b53b-8bf2-444b-cc36-e00bf2e020f5"
      },
      "outputs": [
        {
          "name": "stdout",
          "output_type": "stream",
          "text": [
            "True\n",
            "False\n"
          ]
        }
      ],
      "source": [
        "x = np.array([1, 0, 0, 0])\n",
        "print(np.any(x))\n",
        "x = np.array([0, 0, 0, 0])\n",
        "print(np.any(x))\n"
      ]
    },
    {
      "cell_type": "markdown",
      "metadata": {
        "id": "BU000eQyivyn"
      },
      "source": [
        "**Esercizio 17.** Creare un confronto elemento per elemento (uguale, uguale entro una tolleranza) di due array dati."
      ]
    },
    {
      "cell_type": "code",
      "execution_count": null,
      "metadata": {
        "id": "pCi04UPpivyn",
        "outputId": "606cd55a-9833-4035-d429-6cae70f9cb6f"
      },
      "outputs": [
        {
          "name": "stdout",
          "output_type": "stream",
          "text": [
            "[ True  True  True  True  True  True  True  True  True False]\n",
            "True\n"
          ]
        }
      ],
      "source": [
        "x = np.array([72, 79, 85, 90, 150, -135, 120, -10, 60, 100])\n",
        "y = np.array([72, 79, 85, 90, 150, -135, 120, -10, 60, 100.000001])\n",
        "print(np.equal(x, y))\n",
        "print(np.allclose(x, y))\n"
      ]
    },
    {
      "cell_type": "markdown",
      "metadata": {
        "id": "VdPG2o1kivyn"
      },
      "source": [
        "**Esercizio 18.** Trovare i dati mancanti in un array dato."
      ]
    },
    {
      "cell_type": "code",
      "execution_count": null,
      "metadata": {
        "id": "Vas751wsivyn",
        "outputId": "58fd673c-8705-4d9e-9f2e-cf8dc4fa92b8"
      },
      "outputs": [
        {
          "data": {
            "text/plain": [
              "array([[ 3.,  2., nan,  1.],\n",
              "       [10., 12., 10.,  9.],\n",
              "       [ 5., nan,  1., nan]])"
            ]
          },
          "execution_count": 42,
          "metadata": {},
          "output_type": "execute_result"
        }
      ],
      "source": [
        "nums = np.array([[3, 2, np.nan, 1], [10, 12, 10, 9], [5, np.nan, 1, np.nan]])\n",
        "nums\n",
        "\n"
      ]
    },
    {
      "cell_type": "code",
      "execution_count": null,
      "metadata": {
        "id": "5fyZxEbiivyn",
        "outputId": "8c7d25ed-e927-4fdd-ff87-412780e156d2"
      },
      "outputs": [
        {
          "name": "stdout",
          "output_type": "stream",
          "text": [
            "[[False False  True False]\n",
            " [False False False False]\n",
            " [False  True False  True]]\n"
          ]
        }
      ],
      "source": [
        "print(np.isnan(nums))"
      ]
    },
    {
      "cell_type": "markdown",
      "metadata": {
        "id": "J1KiNcXfivyn"
      },
      "source": [
        "**Esercizio 19.** Scrivi un programma NumPy per estrarre tutti i numeri da un array dato che sono inferiori e superiori ad un numero specificato."
      ]
    },
    {
      "cell_type": "code",
      "execution_count": null,
      "metadata": {
        "id": "fQeUA0sCivyo",
        "outputId": "9c5a3db6-0bfe-4b6e-e595-d497d652c0a9"
      },
      "outputs": [
        {
          "name": "stdout",
          "output_type": "stream",
          "text": [
            "[5.54 3.38 3.54 4.38 1.54 2.39]\n"
          ]
        }
      ],
      "source": [
        "nums = np.array([[5.54, 3.38, 7.99], [3.54, 4.38, 6.99], [1.54, 2.39, 9.29]])\n",
        "n = 6\n",
        "print(nums[nums < n])\n"
      ]
    },
    {
      "cell_type": "markdown",
      "metadata": {
        "id": "7wMlFQ--ivyo"
      },
      "source": [
        "**Esercizio 20.** Sostituire tutti i numeri in un array dato che sono uguali, minori e maggiori di un dato numero."
      ]
    },
    {
      "cell_type": "code",
      "execution_count": null,
      "metadata": {
        "id": "oirwLg0zivyo",
        "outputId": "e93aafe4-9f49-4720-bdab-437af2535d1c"
      },
      "outputs": [
        {
          "name": "stdout",
          "output_type": "stream",
          "text": [
            "[[ 5.54  3.38  7.99]\n",
            " [ 3.54 18.32  6.99]\n",
            " [ 1.54  2.39  9.29]]\n"
          ]
        }
      ],
      "source": [
        "nums = np.array([[5.54, 3.38, 7.99], [3.54, 8.32, 6.99], [1.54, 2.39, 9.29]])\n",
        "n = 8.32\n",
        "r = 18.32\n",
        "print(np.where(nums == n, r, nums))"
      ]
    },
    {
      "cell_type": "code",
      "execution_count": null,
      "metadata": {
        "id": "49UPYc2Aivyo",
        "outputId": "589e41c2-707b-4e1d-9c67-8e0fbc39691a"
      },
      "outputs": [
        {
          "name": "stdout",
          "output_type": "stream",
          "text": [
            "\n",
            "Replace elements with of the said array which are less than 8.32 with 18.32\n",
            "[[18.32 18.32 18.32]\n",
            " [18.32  8.32 18.32]\n",
            " [18.32 18.32  9.29]]\n"
          ]
        }
      ],
      "source": [
        "print(\"\\nReplace elements with of the said array which are less than\", n, \"with\", r)\n",
        "print(np.where(nums < n, r, nums))"
      ]
    },
    {
      "cell_type": "code",
      "execution_count": null,
      "metadata": {
        "id": "z08yVVrVivyo",
        "outputId": "0825821e-8095-4fbb-ae1c-21945c09fca9"
      },
      "outputs": [
        {
          "name": "stdout",
          "output_type": "stream",
          "text": [
            "\n",
            "Replace elements with of the said array which are greater than 8.32 with 18.32\n",
            "[[ 5.54  3.38  7.99]\n",
            " [ 3.54  8.32  6.99]\n",
            " [ 1.54  2.39 18.32]]\n"
          ]
        }
      ],
      "source": [
        "print(\"\\nReplace elements with of the said array which are greater than\", n, \"with\", r)\n",
        "print(np.where(nums > n, r, nums))"
      ]
    },
    {
      "cell_type": "markdown",
      "metadata": {
        "id": "9JhL0H6Civyo"
      },
      "source": [
        "**Esercizio 21.** Moltiplicare due array dati della stessa dimensione elemento per elemento."
      ]
    },
    {
      "cell_type": "code",
      "execution_count": null,
      "metadata": {
        "id": "sHTx9kpAivyp",
        "outputId": "5ff02b30-1541-4bdd-e2aa-05a33d44da5c",
        "colab": {
          "base_uri": "https://localhost:8080/",
          "height": 158
        }
      },
      "outputs": [
        {
          "output_type": "error",
          "ename": "NameError",
          "evalue": "name 'np' is not defined",
          "traceback": [
            "\u001b[0;31m---------------------------------------------------------------------------\u001b[0m",
            "\u001b[0;31mNameError\u001b[0m                                 Traceback (most recent call last)",
            "\u001b[0;32m<ipython-input-1-437274c46468>\u001b[0m in \u001b[0;36m<cell line: 1>\u001b[0;34m()\u001b[0m\n\u001b[0;32m----> 1\u001b[0;31m \u001b[0mnums1\u001b[0m \u001b[0;34m=\u001b[0m \u001b[0mnp\u001b[0m\u001b[0;34m.\u001b[0m\u001b[0marray\u001b[0m\u001b[0;34m(\u001b[0m\u001b[0;34m[\u001b[0m\u001b[0;34m[\u001b[0m\u001b[0;36m2\u001b[0m\u001b[0;34m,\u001b[0m \u001b[0;36m5\u001b[0m\u001b[0;34m,\u001b[0m \u001b[0;36m2\u001b[0m\u001b[0;34m]\u001b[0m\u001b[0;34m,\u001b[0m \u001b[0;34m[\u001b[0m\u001b[0;36m1\u001b[0m\u001b[0;34m,\u001b[0m \u001b[0;36m5\u001b[0m\u001b[0;34m,\u001b[0m \u001b[0;36m5\u001b[0m\u001b[0;34m]\u001b[0m\u001b[0;34m]\u001b[0m\u001b[0;34m)\u001b[0m\u001b[0;34m\u001b[0m\u001b[0;34m\u001b[0m\u001b[0m\n\u001b[0m\u001b[1;32m      2\u001b[0m \u001b[0mnums2\u001b[0m \u001b[0;34m=\u001b[0m \u001b[0mnp\u001b[0m\u001b[0;34m.\u001b[0m\u001b[0marray\u001b[0m\u001b[0;34m(\u001b[0m\u001b[0;34m[\u001b[0m\u001b[0;34m[\u001b[0m\u001b[0;36m5\u001b[0m\u001b[0;34m,\u001b[0m \u001b[0;36m3\u001b[0m\u001b[0;34m,\u001b[0m \u001b[0;36m4\u001b[0m\u001b[0;34m]\u001b[0m\u001b[0;34m,\u001b[0m \u001b[0;34m[\u001b[0m\u001b[0;36m3\u001b[0m\u001b[0;34m,\u001b[0m \u001b[0;36m2\u001b[0m\u001b[0;34m,\u001b[0m \u001b[0;36m5\u001b[0m\u001b[0;34m]\u001b[0m\u001b[0;34m]\u001b[0m\u001b[0;34m)\u001b[0m\u001b[0;34m\u001b[0m\u001b[0;34m\u001b[0m\u001b[0m\n",
            "\u001b[0;31mNameError\u001b[0m: name 'np' is not defined"
          ]
        }
      ],
      "source": [
        "nums1 = np.array([[2, 5, 2], [1, 5, 5]])\n",
        "nums2 = np.array([[5, 3, 4], [3, 2, 5]])\n"
      ]
    },
    {
      "cell_type": "code",
      "execution_count": null,
      "metadata": {
        "id": "WWbw_WGDivyp",
        "outputId": "e5fcc149-27bc-4a0a-dd32-bfb1219450cf"
      },
      "outputs": [
        {
          "name": "stdout",
          "output_type": "stream",
          "text": [
            "[[2 5 2]\n",
            " [1 5 5]]\n"
          ]
        }
      ],
      "source": [
        "print(nums1)"
      ]
    },
    {
      "cell_type": "code",
      "execution_count": null,
      "metadata": {
        "id": "FJhdsM0Sivyp"
      },
      "outputs": [],
      "source": [
        "print(nums2)"
      ]
    },
    {
      "cell_type": "code",
      "execution_count": null,
      "metadata": {
        "id": "3A3SkgHYivyp"
      },
      "outputs": [],
      "source": [
        "print(np.multiply(nums1, nums2))"
      ]
    },
    {
      "cell_type": "markdown",
      "source": [
        "## Esercizi da svolgere\n",
        "\n"
      ],
      "metadata": {
        "id": "uqtBeKawkg-5"
      }
    },
    {
      "cell_type": "markdown",
      "source": [
        "### Esercizio 1\n",
        "\n",
        "Creare due tuple che rappresentino i due elenchi di nomi e cognomi descritti sotto:\n",
        "\n",
        "* nomi: Numa, Tullo, Anco\n",
        "* cognomi: Pompilio, Ostilio, Marzio\n",
        "\n",
        "Ottenere una lista in cui ogni elemento è un dizionario {'nome': nome, 'cognome': cognome}, che accoppia nomi e cognomi in base all'ordine.\n"
      ],
      "metadata": {
        "id": "1D8751dzkmOs"
      }
    },
    {
      "cell_type": "markdown",
      "source": [
        "### Esercizio 2\n",
        "\n",
        "\n",
        "●\tCreare un dizionario che contenga come chiavi 'nome' e 'cognome', inserendo i propri dati come valori\n",
        "\n",
        "●\tAggiungere 'matricola'\n",
        "\n",
        "●\tAggiungere 'esami', provando ad immaginare che tipi di dato usare per rappresentare sia nome che voto degli esami\n"
      ],
      "metadata": {
        "id": "ZK8Rn4UNoAF7"
      }
    },
    {
      "cell_type": "markdown",
      "source": [
        "### Esercizio 3\n",
        "\n",
        "●\tCalcolare la somma dei primi 500 numeri naturali (da 0 a 500 escluso)"
      ],
      "metadata": {
        "id": "CkS8O2XloS7l"
      }
    },
    {
      "cell_type": "markdown",
      "source": [
        "### Esercizio 4\n",
        "\n",
        "Scrivere un programma che, dati i due elenchi di numeri sottostanti, crei la matrice dei loro prodotti:\n",
        "  * v1: 1,2,3,4,5\n",
        "  * v2: 6,7,8,9,10\n",
        "\n",
        "mat:\n",
        "\n",
        "[1 * 6, 1 * 7, 1 * 8, ...]\n",
        "\n",
        "[2 * 6, 2* 7, 2 * 8, ...]\n",
        "[...]\n",
        "\n",
        "* Completare il programma con una stampa della matrice riga per riga:\n",
        "\n",
        "[6, 7, 8, ...]\n",
        "\n",
        "[12, 14, 16, ...]\n"
      ],
      "metadata": {
        "id": "wDby6269oVSs"
      }
    },
    {
      "cell_type": "markdown",
      "source": [
        "### Esercizio 5\n",
        "\n",
        "●\tAggiungere allo script precedente una funzione square(val,n), che ritorni una matrice quadrata di dimensione n con il valore val in ogni cella\n"
      ],
      "metadata": {
        "id": "egLk6B0rqPR_"
      }
    },
    {
      "cell_type": "markdown",
      "source": [
        "### Esercizio 6\n",
        "\n",
        "*\tDefinire la funzione eratostene(n) che restituisce tutti i numeri primi da 2 a n inclusi, utilizzando il procedimento del Crivello di Eratostene:\n",
        "  *\tSi crea un elenco di tutti i numeri naturali da 2 a n, detto setaccio.\n",
        "  * Si aggiunge il primo numero del setaccio all'elenco dei\n",
        "numeri primi trovati, e si eliminano dal setaccio tutti i suoi multipli. Si prosegue in questo modo fino ad esaurire i numeri nel setaccio.\n"
      ],
      "metadata": {
        "id": "xWZzghyBqrih"
      }
    },
    {
      "cell_type": "markdown",
      "source": [
        "### Esercizio 7\n",
        "\n",
        "Scrivere le seguenti funzioni per calcolare:\n",
        "* la somma dei primi n numeri pari, dove n dato in input (soluzione iterativa con for)\n",
        "* la somma dei primi n numeri dispari, dove n è dato in input (soluzione iterativa con while)\n",
        "* la serie geometrica di n numeri, dove n è dato in input (soluzione ricorsiva)\n"
      ],
      "metadata": {
        "id": "8cZrsIG8smz-"
      }
    }
  ]
}