{
  "nbformat": 4,
  "nbformat_minor": 0,
  "metadata": {
    "colab": {
      "provenance": [],
      "collapsed_sections": [
        "905q4cGaaD60"
      ],
      "authorship_tag": "ABX9TyPq7N10UqP3L3eT5dYPZIbz",
      "include_colab_link": true
    },
    "kernelspec": {
      "name": "python3",
      "display_name": "Python 3"
    },
    "language_info": {
      "name": "python"
    }
  },
  "cells": [
    {
      "cell_type": "markdown",
      "metadata": {
        "id": "view-in-github",
        "colab_type": "text"
      },
      "source": [
        "<a href=\"https://colab.research.google.com/github/gianlukas/modellazioneSistIng/blob/main/1_1_IntroduzionePython_Basic2.ipynb\" target=\"_parent\"><img src=\"https://colab.research.google.com/assets/colab-badge.svg\" alt=\"Open In Colab\"/></a>"
      ]
    },
    {
      "cell_type": "markdown",
      "metadata": {
        "id": "HUHCdM5KzhTm"
      },
      "source": [
        "# Corso di Modellazione dei Sistemi Ingegneristici\n",
        "\n",
        "prof. Gianluca Solazzo\n",
        "\n",
        "email: gianluca.solazzo@unisalento.it"
      ]
    },
    {
      "cell_type": "markdown",
      "source": [
        "# Introduzione a Python (2)"
      ],
      "metadata": {
        "id": "ehKIHZaYP9IN"
      }
    },
    {
      "cell_type": "markdown",
      "metadata": {
        "id": "905q4cGaaD60"
      },
      "source": [
        "## Il flusso di esecuzione\n",
        "\n",
        "In Python il codice viene eseguito sequenzialmente, partendo dalla prima riga fino a quando non c'è più nulla da eseguire. L'ordine di esecuzione delle varie istruzioni è detto *flusso di esecuzione*.\n",
        "\n",
        "Per esempio la cella seguente prima memorizza la lista `names`, poi la lista `born` e infine la lista `dead`.  "
      ]
    },
    {
      "cell_type": "code",
      "execution_count": null,
      "metadata": {
        "id": "c56ettuYaD60"
      },
      "outputs": [],
      "source": [
        "names = [\"Sigmund Freud\", \"Jean Piaget\", \"Burrhus Frederic Skinner\", \"Albert Bandura\"]\n",
        "born = [1856, 1896, 1904, 1925]\n",
        "dead = [1939, 1980, 1990, None]"
      ]
    },
    {
      "cell_type": "markdown",
      "metadata": {
        "id": "2wIM2--KaD60"
      },
      "source": [
        "Ho usato il valore speciale `None` in quanto non risulta disponibile l'anno. In queste situazioni si parla di *valori mancanti* (*missing values*) che, di norma, vengono indicati con la sigla NA (*not available*).\n",
        "\n",
        "La cella seguente include le istruzioni condizionali che specificano se e quando devono essere eseguiti determinati blocchi di codice. La più semplice istruzione di controllo è l'istruzione `if`. Per esempio:"
      ]
    },
    {
      "cell_type": "code",
      "execution_count": null,
      "metadata": {
        "id": "Nb5TvMOGaD61",
        "outputId": "d90c35be-5fd8-4e44-e1c6-a536a2040070"
      },
      "outputs": [
        {
          "name": "stdout",
          "output_type": "stream",
          "text": [
            "Maria, hai ottenuto un ottimo voto all'esame!\n",
            "Tu potresti essere Giovanna o potresti avere ottenuto un ottimo voto all'esame.\n",
            "Tu non sei Giovanna ma hai ottenuto un ottimo voto all'esame.\n"
          ]
        }
      ],
      "source": [
        "name = \"Maria\"\n",
        "grade = 29\n",
        "\n",
        "if name == \"Maria\" and grade > 28:\n",
        "    print(\"Maria, hai ottenuto un ottimo voto all'esame!\")\n",
        "\n",
        "if name == \"Giovanna\" or grade > 28:\n",
        "    print(\n",
        "        \"Tu potresti essere Giovanna oppure potresti avere ottenuto un ottimo voto all'esame.\"\n",
        "    )\n",
        "\n",
        "if name != \"Giovanna\" and grade > 28:\n",
        "    print(\"Tu non sei Giovanna ma hai ottenuto un ottimo voto all'esame.\")\n"
      ]
    },
    {
      "cell_type": "markdown",
      "metadata": {
        "id": "DKJluyn1aD61"
      },
      "source": [
        "Tutte e tre le condizioni precedenti ritornano `True`, quindi vengono stampati tutti e tre i messaggi.\n",
        "\n",
        "Si noti che `==` e `!=` confrontano *valori*, mentre `is` e `not` confrontano *oggetti*. Per esempio,"
      ]
    },
    {
      "cell_type": "code",
      "execution_count": null,
      "metadata": {
        "id": "NuPm2sUlaD62",
        "outputId": "2f6491c6-a00b-4159-8a76-94d86bf3ffe1"
      },
      "outputs": [
        {
          "name": "stdout",
          "output_type": "stream",
          "text": [
            "False\n",
            "False\n"
          ]
        }
      ],
      "source": [
        "name_list = [\"Maria\", \"Giovanna\"]\n",
        "name_list_two = [\"Marco\", \"Francesco\"]\n",
        "\n",
        "# Compare values\n",
        "print(name_list == name_list_two)\n",
        "\n",
        "# Compare objects\n",
        "print(name_list is name_list_two)\n"
      ]
    },
    {
      "cell_type": "markdown",
      "metadata": {
        "id": "Psl-6YXUaD62"
      },
      "source": [
        "Una delle parole chiave condizionali più utili è `in`. Un esempio è il seguente:"
      ]
    },
    {
      "cell_type": "code",
      "execution_count": null,
      "metadata": {
        "id": "jBdRF9AFaD62",
        "outputId": "cfeb553f-c382-48e2-9e2f-4f82647b6c36"
      },
      "outputs": [
        {
          "name": "stdout",
          "output_type": "stream",
          "text": [
            "True\n",
            "False\n"
          ]
        }
      ],
      "source": [
        "name_list = [\"Maria\", \"Giovanna\", \"Marco\", \"Francesco\"]\n",
        "\n",
        "print(\"Giovanna\" in name_list)\n",
        "print(\"Luca\" in name_list)"
      ]
    },
    {
      "cell_type": "markdown",
      "metadata": {
        "id": "ECFu05UdaD63"
      },
      "source": [
        "La condizione opposta è `not in`."
      ]
    },
    {
      "cell_type": "code",
      "execution_count": null,
      "metadata": {
        "id": "hMq_U_W1aD63"
      },
      "outputs": [],
      "source": [
        "print(\"Luca\" not in name_list)"
      ]
    },
    {
      "cell_type": "markdown",
      "source": [
        "## Control Flow: Loops and If Statements\n",
        "\n",
        "Proprio come in altri linguaggi di programmazione, in Python possiamo eseguire cicli e istruzioni condizionali in modi molto semplici.\n",
        "Attenzione all'uso dei RIENTRI: essi devono essere corretti affinché un ciclo funzioni.\n",
        "Inoltre, in Python non è necessario racchiudere i cicli tra parentesi graffe.  Infine nella scrittura dei loop, fare molta attenzione agli spazi bianchi nel codice."
      ],
      "metadata": {
        "id": "e2BL2gx9QDMv"
      }
    },
    {
      "cell_type": "markdown",
      "source": [
        "### I cicli for\n",
        "\n",
        "Un ciclo for è progettato per eseguire un'attività un certo numero di volte e poi interrompersi.\n",
        "Quando usiamo un ciclo for:\n",
        "1. per automatizzare attività ripetitive,\n",
        "2. per costruire sequenze, sommare serie.\n",
        "\n",
        "Un ciclo for di Python rispetta la seguente sintassi:\n",
        "* una dichiarazione di controllo,\n",
        "* due punti, una nuova riga,\n",
        "* rientrare di quattro spazi,\n",
        "* operazioni da svolgere\n",
        "\n",
        "Quando il ciclo è finito basta rientrare dagli spazi."
      ],
      "metadata": {
        "id": "edt7ZfqWQwdP"
      }
    },
    {
      "cell_type": "code",
      "execution_count": null,
      "metadata": {
        "colab": {
          "base_uri": "https://localhost:8080/"
        },
        "id": "4gYqDQnEP5w_",
        "outputId": "89abec31-8081-4cb0-8efa-7ec4bcab3391"
      },
      "outputs": [
        {
          "output_type": "stream",
          "name": "stdout",
          "text": [
            "1\n",
            "4\n",
            "9\n",
            "16\n",
            "25\n",
            "36\n"
          ]
        }
      ],
      "source": [
        "for x in [1,2,3,4,5,6]:\n",
        "  print(x**2)"
      ]
    },
    {
      "cell_type": "code",
      "source": [
        "NamesList = ['Alice','Billy','Charlie','Dom','Enrique','Francisco']\n",
        "for name in NamesList:\n",
        "  print(name)"
      ],
      "metadata": {
        "colab": {
          "base_uri": "https://localhost:8080/"
        },
        "id": "0jWI8J__RrNJ",
        "outputId": "58a3bbd8-632b-4296-e909-769310ceb3e6"
      },
      "execution_count": null,
      "outputs": [
        {
          "output_type": "stream",
          "name": "stdout",
          "text": [
            "Alice\n",
            "Billy\n",
            "Charlie\n",
            "Dom\n",
            "Enrique\n",
            "Francisco\n"
          ]
        }
      ]
    },
    {
      "cell_type": "markdown",
      "source": [
        "### Esempio\n",
        "\n",
        "Calcoliamo la somma dei primi 10 quadrati.\n",
        "\n",
        "Creare una lista con i primi 10 numeri elevati al quadrato e poi sommarli.\n",
        "\n",
        "**Fate attenzione a questa notazione compattata del ciclo for.**"
      ],
      "metadata": {
        "id": "aCwdUGFuR092"
      }
    },
    {
      "cell_type": "code",
      "source": [
        "# create a list of the perfect squares from 1 to 10\n",
        "CoolList = [x**2 for x in range(1,11)]\n",
        "print(CoolList)\n",
        "\n",
        "# Then print the sum of this list\n",
        "print(\"The sum of the first 10 perfect squares is\",sum(CoolList))"
      ],
      "metadata": {
        "colab": {
          "base_uri": "https://localhost:8080/"
        },
        "id": "jUv95UrZRzPi",
        "outputId": "b2b21aed-ff49-4c93-807c-5a8af5096409"
      },
      "execution_count": null,
      "outputs": [
        {
          "output_type": "stream",
          "name": "stdout",
          "text": [
            "[1, 4, 9, 16, 25, 36, 49, 64, 81, 100]\n",
            "The sum of the first 10 perfect squares is 385\n"
          ]
        }
      ]
    },
    {
      "cell_type": "markdown",
      "source": [
        "### Esempio\n",
        "\n",
        "Scriviamo un ciclo for che restituisce i risultati delle prime 7 iterazioni della sequenza $x_{n+1} = -0.5x_{n}+1$\n",
        "\n",
        "iniziando con $x_{0} = 3$\n",
        "\n",
        "Notate che stiamo usando il comando x.append invece di x[n+1] per aggiungere il nuovo termine all'elenco. Ciò ci consente di aumentare dinamicamente la lunghezza dell'elenco man mano che il ciclo avanza."
      ],
      "metadata": {
        "id": "--3etDJPS07z"
      }
    },
    {
      "cell_type": "code",
      "source": [
        "x=[3.0]\n",
        "for n in range(0,7):\n",
        "  x.append(-0.5*x[n] + 1)\n",
        "  print(x) # print the whole list x at each step of the loop"
      ],
      "metadata": {
        "colab": {
          "base_uri": "https://localhost:8080/"
        },
        "id": "8LyVG0XHSsPj",
        "outputId": "367ae84a-ad0c-47ca-8bff-4933cecc8969"
      },
      "execution_count": null,
      "outputs": [
        {
          "output_type": "stream",
          "name": "stdout",
          "text": [
            "[3.0, -0.5]\n",
            "[3.0, -0.5, 1.25]\n",
            "[3.0, -0.5, 1.25, 0.375]\n",
            "[3.0, -0.5, 1.25, 0.375, 0.8125]\n",
            "[3.0, -0.5, 1.25, 0.375, 0.8125, 0.59375]\n",
            "[3.0, -0.5, 1.25, 0.375, 0.8125, 0.59375, 0.703125]\n",
            "[3.0, -0.5, 1.25, 0.375, 0.8125, 0.59375, 0.703125, 0.6484375]\n"
          ]
        }
      ]
    },
    {
      "cell_type": "markdown",
      "source": [
        "## While Loops\n",
        "\n",
        "Un ciclo while ripete alcune attività (o sequenze di attività) finchè una condizione logica è vera. Si ferma quando la condizione logica passa da vera a falsa. La struttura in Python è la stessa dei cicli for."
      ],
      "metadata": {
        "id": "X4BF96sTaRYP"
      }
    },
    {
      "cell_type": "markdown",
      "source": [
        "### Esempio\n",
        "\n",
        "Stampiamo i numeri da 0 a 4 e infine la parola \"finito\". Usiamo la variabile i per controllare l'esecuzione dell'attività ed incrementiamola ad ogni ciclo."
      ],
      "metadata": {
        "id": "MwxRQfDAamsr"
      }
    },
    {
      "cell_type": "code",
      "source": [
        "i = 0\n",
        "while i < 5:\n",
        "  print(i)\n",
        "  i += 1 # increment the counter\n",
        "print(\"finito\")"
      ],
      "metadata": {
        "colab": {
          "base_uri": "https://localhost:8080/"
        },
        "id": "H34CB43xac58",
        "outputId": "070dab2f-3ac7-48d2-8dfa-68ca819a0204"
      },
      "execution_count": null,
      "outputs": [
        {
          "output_type": "stream",
          "name": "stdout",
          "text": [
            "0\n",
            "1\n",
            "2\n",
            "3\n",
            "4\n",
            "finito\n"
          ]
        }
      ]
    },
    {
      "cell_type": "markdown",
      "source": [
        "###Esempio\n",
        "\n",
        "Scriviamo un ciclo while per costruire la sequenza di Fibonacci\n",
        "fino a quando l'ultimo numero inserito nella sequenza è maggiore di 1000.\n",
        "\n"
      ],
      "metadata": {
        "id": "k_XaEnAEbD_Q"
      }
    },
    {
      "cell_type": "code",
      "source": [
        "Fib = [1,1]\n",
        "lastTerms = 10\n",
        "while Fib[-1] <= 1000:\n",
        "  Fib.append(Fib[-1] + Fib[-2])\n",
        "print(\"Gli ultimi \" + str(lastTerms) + \" termini nella lista sono:\\n\",Fib[-lastTerms:])"
      ],
      "metadata": {
        "colab": {
          "base_uri": "https://localhost:8080/"
        },
        "id": "YG0Zywgqb-MD",
        "outputId": "1bbbb00d-d34c-4d7c-d004-087c582dc795"
      },
      "execution_count": null,
      "outputs": [
        {
          "output_type": "stream",
          "name": "stdout",
          "text": [
            "Gli ultimi 10 termini nella lista sono:\n",
            " [21, 34, 55, 89, 144, 233, 377, 610, 987, 1597]\n"
          ]
        }
      ]
    },
    {
      "cell_type": "markdown",
      "source": [
        "Nota bene: questo è task perfetto per un ciclo while. Infatti, il ciclo continua fino alla condizione che l'ultimo termine sia maggiore di 1000.\n",
        "\n",
        "Che succede se implemento questo task con un ciclo for? Non sappiamo a priori quanti passaggi saranno necessari prima di arrivare a soddisfare la condizione di uscita...."
      ],
      "metadata": {
        "id": "nY4DDPUPb-eS"
      }
    },
    {
      "cell_type": "markdown",
      "source": [
        "## If Statements\n",
        "\n",
        "Le istruzioni condizionali (if) consentono di eseguire una parte di codice solo a determinate condizioni. Ciò è utile quando si hanno attività diverse da eseguire in condizioni diverse"
      ],
      "metadata": {
        "id": "fIJnrfqJc37v"
      }
    },
    {
      "cell_type": "code",
      "source": [
        "Name = \"Alice\"\n",
        "if Name == \"Alice\":\n",
        "  print(\"Hello, Alice. Isn't it a lovely day to learn Python?\")\n",
        "else:\n",
        "  print(\"You're not Alice. Where is Alice?\")"
      ],
      "metadata": {
        "colab": {
          "base_uri": "https://localhost:8080/"
        },
        "id": "_5GNxHCic-Re",
        "outputId": "7770c2f9-5be5-42ad-9ea1-ff923e026867"
      },
      "execution_count": null,
      "outputs": [
        {
          "output_type": "stream",
          "name": "stdout",
          "text": [
            "Hello, Alice. Isn't it a lovely day to learn Python?\n",
            "You're not Alice. Where is Alice?\n"
          ]
        }
      ]
    },
    {
      "cell_type": "code",
      "source": [
        "Name = \"Giulio\"\n",
        "if Name == \"Alice\":\n",
        "  print(\"Hello, Alice. Isn't it a lovely day to learn Python?\")\n",
        "else:\n",
        "  print(\"You're not Alice. Where is Alice?\")"
      ],
      "metadata": {
        "colab": {
          "base_uri": "https://localhost:8080/"
        },
        "id": "58J3pPZgdMPJ",
        "outputId": "a6bcbbe0-f354-48c8-b0d6-99e51b73235a"
      },
      "execution_count": null,
      "outputs": [
        {
          "output_type": "stream",
          "name": "stdout",
          "text": [
            "You're not Alice. Where is Alice?\n"
          ]
        }
      ]
    },
    {
      "cell_type": "code",
      "source": [
        "import numpy as np\n",
        "x = np.random.rand(1,1) # get a random 1x1 matrix using numpy\n",
        "x = x[0,0] # pull the entry from the first row and first column\n",
        "if x < 0.25:\n",
        "  print(x,\" è minore di un quaro\")\n",
        "elif 0.25 <= x <= 0.75:\n",
        "  print(x, \" è tra un quarto e tre quarti\")\n",
        "else:\n",
        "  print(x, \"è maggiore di tre quarti\")"
      ],
      "metadata": {
        "id": "eTuotQFldVEb"
      },
      "execution_count": null,
      "outputs": []
    },
    {
      "cell_type": "markdown",
      "metadata": {
        "id": "kbp9EkJ2aD64"
      },
      "source": [
        "Una struttura di selezione leggermente più complessa è \"if-else\". La sintassi di questa struttura è la seguente:\n",
        "\n",
        "```\n",
        "if <condizione>:\n",
        "    <istruzione_se_condizione_vera>\n",
        "else:\n",
        "    <istruzione_se_condizione_falsa>\n",
        "```\n",
        "\n",
        "La semantica di \"if-else\" è quella che ci si aspetta: la condizione tra la parola chiave `if` e il carattere di due punti viene valutata: se risulta vera viene eseguita l'istruzione alla linea seguente, altrimenti viene eseguita l'istruzione dopo la parola chiave `else`. Anche in questo caso l'indentazione permette di identificare quali istruzioni devono essere eseguite nei due rami della selezione. Per esempio:"
      ]
    },
    {
      "cell_type": "code",
      "execution_count": null,
      "metadata": {
        "id": "2qH7IQ4_aD64",
        "outputId": "714de68d-0641-4c8d-90be-816d5e7ed903"
      },
      "outputs": [
        {
          "name": "stdout",
          "output_type": "stream",
          "text": [
            "Sei minorenne\n"
          ]
        }
      ],
      "source": [
        "age = 16\n",
        "if age >= 18:\n",
        "    print(\"Sei maggiorenne\")\n",
        "else:\n",
        "    print(\"Sei minorenne\")"
      ]
    },
    {
      "cell_type": "markdown",
      "metadata": {
        "id": "xFBMTz45aD65"
      },
      "source": [
        "In presenza di più di due possibilità mutuamente esclusive ed esaustive possiamo usare l'istruzione `elif`. Per esempio:"
      ]
    },
    {
      "cell_type": "code",
      "execution_count": null,
      "metadata": {
        "id": "xp_DB1bqaD6_",
        "outputId": "ab0080bb-751b-4f09-d942-fe638bf37d48"
      },
      "outputs": [
        {
          "name": "stdout",
          "output_type": "stream",
          "text": [
            "Ripassa tra qualche anno!\n"
          ]
        }
      ],
      "source": [
        "cfu = 36\n",
        "thesis_defense = False\n",
        "\n",
        "if cfu >= 180 and thesis_defense == True:\n",
        "    print(\"Puoi andare a festeggiare!\")\n",
        "elif cfu >= 180 and thesis_defense == False:\n",
        "    print(\"Devi ancora superare la prova finale!\")\n",
        "else:\n",
        "    print(\"Ripassa tra qualche anno!\")\n"
      ]
    },
    {
      "cell_type": "markdown",
      "metadata": {
        "id": "qZ2-9endaD6_"
      },
      "source": [
        "### Commenti\n",
        "In Python è possibile usare il carattere # per aggiungere commenti al codice. Ogni riga di commento deve essere preceduta da un #. I commenti non devono spiegare il metodo (cosa fa il codice: quello si vede), ma bensì lo scopo: *quello che noi intendiamo ottenere*. I primi destinatari dei commenti siamo noi stessi tra un po' di tempo, ovvero quando ci saremo dimenticati cosa avevamo in mente quando abbiamo scritto il codice."
      ]
    },
    {
      "cell_type": "code",
      "execution_count": null,
      "metadata": {
        "id": "ldcM_A6CaD7A"
      },
      "outputs": [],
      "source": [
        "# This is a comment and will not be executed."
      ]
    },
    {
      "cell_type": "markdown",
      "source": [
        "## Esempio\n",
        "Scrivere la Sequenza di Collatz definita nel modo seguente:\n",
        "![image.png](data:image/png;base64,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)\n",
        "\n",
        "e partendo da un intero positivo di nostra scelta.\n",
        "Nota bene: la successione converge a 1, quindi il codice dovrebbe terminare la sua esecuzione quando l'ultimo elemento della sequenza è 1."
      ],
      "metadata": {
        "id": "M9IegaCDdg0H"
      }
    },
    {
      "cell_type": "code",
      "source": [
        "def collatz_sequence(n):\n",
        "    sequence = [n]\n",
        "    while n != 1:\n",
        "        if n % 2 == 0:\n",
        "            n = n // 2\n",
        "        else:\n",
        "            n = 3 * n + 1\n",
        "        sequence.append(n)\n",
        "    return sequence\n",
        "\n",
        "# Choose a positive integer to start the Collatz sequence\n",
        "starting_number = 27\n",
        "\n",
        "# Generate the Collatz sequence\n",
        "sequence = collatz_sequence(starting_number)\n",
        "\n",
        "# Print the sequence\n",
        "print(\"Collatz sequence starting from\", starting_number, \"is:\", sequence)\n"
      ],
      "metadata": {
        "id": "9gCq4XmXexRr"
      },
      "execution_count": null,
      "outputs": []
    }
  ]
}